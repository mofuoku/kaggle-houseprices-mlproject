{
 "cells": [
  {
   "cell_type": "markdown",
   "metadata": {},
   "source": [
    "#### Import the following packages:"
   ]
  },
  {
   "cell_type": "code",
   "execution_count": 39,
   "metadata": {},
   "outputs": [],
   "source": [
    "#Import the right libraries \n",
    "# load the libraries needed to run the analysis\n",
    "import pandas as pd\n",
    "import math\n",
    "import numpy as np\n",
    "import warnings\n",
    "warnings.filterwarnings('ignore')\n",
    "import matplotlib.pyplot as plt\n",
    "import matplotlib\n",
    "import seaborn as sns\n",
    "import re\n",
    "import scipy\n",
    "import pickle"
   ]
  },
  {
   "cell_type": "markdown",
   "metadata": {},
   "source": [
    "#### ###Load the housing dataset"
   ]
  },
  {
   "cell_type": "code",
   "execution_count": 40,
   "metadata": {},
   "outputs": [
    {
     "name": "stdout",
     "output_type": "stream",
     "text": [
      "(1460, 81)\n",
      "(1459, 80)\n"
     ]
    }
   ],
   "source": [
    "# Training data\n",
    "house = pd.read_csv('/Users/mofuoku/Desktop/train.csv')\n",
    "\n",
    "# Test data \n",
    "house_test = pd.read_csv('/Users/mofuoku/Desktop/test.csv')\n",
    "\n",
    "trainSize = house.shape[0]\n",
    "house.SalePrice = house.SalePrice.apply(np.log)\n",
    "print(house.shape)\n",
    "print(house_test.shape)"
   ]
  },
  {
   "cell_type": "code",
   "execution_count": 41,
   "metadata": {},
   "outputs": [
    {
     "name": "stdout",
     "output_type": "stream",
     "text": [
      "                count          mean          std          min          25%  \\\n",
      "Id             1460.0    730.500000   421.610009     1.000000   365.750000   \n",
      "MSSubClass     1460.0     56.897260    42.300571    20.000000    20.000000   \n",
      "LotFrontage    1201.0     70.049958    24.284752    21.000000    59.000000   \n",
      "LotArea        1460.0  10516.828082  9981.264932  1300.000000  7553.500000   \n",
      "OverallQual    1460.0      6.099315     1.382997     1.000000     5.000000   \n",
      "OverallCond    1460.0      5.575342     1.112799     1.000000     5.000000   \n",
      "YearBuilt      1460.0   1971.267808    30.202904  1872.000000  1954.000000   \n",
      "YearRemodAdd   1460.0   1984.865753    20.645407  1950.000000  1967.000000   \n",
      "MasVnrArea     1452.0    103.685262   181.066207     0.000000     0.000000   \n",
      "BsmtFinSF1     1460.0    443.639726   456.098091     0.000000     0.000000   \n",
      "BsmtFinSF2     1460.0     46.549315   161.319273     0.000000     0.000000   \n",
      "BsmtUnfSF      1460.0    567.240411   441.866955     0.000000   223.000000   \n",
      "TotalBsmtSF    1460.0   1057.429452   438.705324     0.000000   795.750000   \n",
      "1stFlrSF       1460.0   1162.626712   386.587738   334.000000   882.000000   \n",
      "2ndFlrSF       1460.0    346.992466   436.528436     0.000000     0.000000   \n",
      "LowQualFinSF   1460.0      5.844521    48.623081     0.000000     0.000000   \n",
      "GrLivArea      1460.0   1515.463699   525.480383   334.000000  1129.500000   \n",
      "BsmtFullBath   1460.0      0.425342     0.518911     0.000000     0.000000   \n",
      "BsmtHalfBath   1460.0      0.057534     0.238753     0.000000     0.000000   \n",
      "FullBath       1460.0      1.565068     0.550916     0.000000     1.000000   \n",
      "HalfBath       1460.0      0.382877     0.502885     0.000000     0.000000   \n",
      "BedroomAbvGr   1460.0      2.866438     0.815778     0.000000     2.000000   \n",
      "KitchenAbvGr   1460.0      1.046575     0.220338     0.000000     1.000000   \n",
      "TotRmsAbvGrd   1460.0      6.517808     1.625393     2.000000     5.000000   \n",
      "Fireplaces     1460.0      0.613014     0.644666     0.000000     0.000000   \n",
      "GarageYrBlt    1379.0   1978.506164    24.689725  1900.000000  1961.000000   \n",
      "GarageCars     1460.0      1.767123     0.747315     0.000000     1.000000   \n",
      "GarageArea     1460.0    472.980137   213.804841     0.000000   334.500000   \n",
      "WoodDeckSF     1460.0     94.244521   125.338794     0.000000     0.000000   \n",
      "OpenPorchSF    1460.0     46.660274    66.256028     0.000000     0.000000   \n",
      "EnclosedPorch  1460.0     21.954110    61.119149     0.000000     0.000000   \n",
      "3SsnPorch      1460.0      3.409589    29.317331     0.000000     0.000000   \n",
      "ScreenPorch    1460.0     15.060959    55.757415     0.000000     0.000000   \n",
      "PoolArea       1460.0      2.758904    40.177307     0.000000     0.000000   \n",
      "MiscVal        1460.0     43.489041   496.123024     0.000000     0.000000   \n",
      "MoSold         1460.0      6.321918     2.703626     1.000000     5.000000   \n",
      "YrSold         1460.0   2007.815753     1.328095  2006.000000  2007.000000   \n",
      "SalePrice      1460.0     12.024051     0.399452    10.460242    11.775097   \n",
      "\n",
      "                       50%           75%            max  \n",
      "Id              730.500000   1095.250000    1460.000000  \n",
      "MSSubClass       50.000000     70.000000     190.000000  \n",
      "LotFrontage      69.000000     80.000000     313.000000  \n",
      "LotArea        9478.500000  11601.500000  215245.000000  \n",
      "OverallQual       6.000000      7.000000      10.000000  \n",
      "OverallCond       5.000000      6.000000       9.000000  \n",
      "YearBuilt      1973.000000   2000.000000    2010.000000  \n",
      "YearRemodAdd   1994.000000   2004.000000    2010.000000  \n",
      "MasVnrArea        0.000000    166.000000    1600.000000  \n",
      "BsmtFinSF1      383.500000    712.250000    5644.000000  \n",
      "BsmtFinSF2        0.000000      0.000000    1474.000000  \n",
      "BsmtUnfSF       477.500000    808.000000    2336.000000  \n",
      "TotalBsmtSF     991.500000   1298.250000    6110.000000  \n",
      "1stFlrSF       1087.000000   1391.250000    4692.000000  \n",
      "2ndFlrSF          0.000000    728.000000    2065.000000  \n",
      "LowQualFinSF      0.000000      0.000000     572.000000  \n",
      "GrLivArea      1464.000000   1776.750000    5642.000000  \n",
      "BsmtFullBath      0.000000      1.000000       3.000000  \n",
      "BsmtHalfBath      0.000000      0.000000       2.000000  \n",
      "FullBath          2.000000      2.000000       3.000000  \n",
      "HalfBath          0.000000      1.000000       2.000000  \n",
      "BedroomAbvGr      3.000000      3.000000       8.000000  \n",
      "KitchenAbvGr      1.000000      1.000000       3.000000  \n",
      "TotRmsAbvGrd      6.000000      7.000000      14.000000  \n",
      "Fireplaces        1.000000      1.000000       3.000000  \n",
      "GarageYrBlt    1980.000000   2002.000000    2010.000000  \n",
      "GarageCars        2.000000      2.000000       4.000000  \n",
      "GarageArea      480.000000    576.000000    1418.000000  \n",
      "WoodDeckSF        0.000000    168.000000     857.000000  \n",
      "OpenPorchSF      25.000000     68.000000     547.000000  \n",
      "EnclosedPorch     0.000000      0.000000     552.000000  \n",
      "3SsnPorch         0.000000      0.000000     508.000000  \n",
      "ScreenPorch       0.000000      0.000000     480.000000  \n",
      "PoolArea          0.000000      0.000000     738.000000  \n",
      "MiscVal           0.000000      0.000000   15500.000000  \n",
      "MoSold            6.000000      8.000000      12.000000  \n",
      "YrSold         2008.000000   2009.000000    2010.000000  \n",
      "SalePrice        12.001505     12.273731      13.534473  \n"
     ]
    }
   ],
   "source": [
    "#Transpose the results to make printing on the screen easier.\n",
    "summary = house.describe()\n",
    "summary = summary.transpose()\n",
    "print(summary)"
   ]
  },
  {
   "cell_type": "markdown",
   "metadata": {},
   "source": [
    "#### Some details about the data:"
   ]
  },
  {
   "cell_type": "code",
   "execution_count": 43,
   "metadata": {},
   "outputs": [],
   "source": [
    "#Understanding Data \n",
    "#df.describe() "
   ]
  },
  {
   "cell_type": "code",
   "execution_count": 44,
   "metadata": {},
   "outputs": [],
   "source": [
    "#save the Id column:\n",
    "train_id = house['Id']\n",
    "test_id  = house_test['Id']\n",
    "\n",
    "# Now drop the 'Id' column \n",
    "# since we can not use it as a feature to train our model.\n",
    "house.drop(\"Id\", axis = 1, inplace = True)\n",
    "house_test.drop(\"Id\", axis = 1, inplace = True)"
   ]
  },
  {
   "cell_type": "code",
   "execution_count": 45,
   "metadata": {},
   "outputs": [],
   "source": [
    "# distinguish the NA and missing in train data\n",
    "miss = list(house.columns[house.isnull().sum(axis = 0) >= 1])\n",
    "miss.remove('LotFrontage')\n",
    "miss.remove('MasVnrArea')\n",
    "miss.remove('GarageYrBlt')\n",
    "miss.remove('MasVnrType')\n",
    "\n",
    "house.loc[house['MasVnrType'].isnull() == True, 'MasVnrType'] = 'None'\n",
    "house.loc[house['Electrical'].isnull() == True, 'Electrical'] = 'SBrkr'\n",
    "\n",
    "for i in range(len(miss)):\n",
    "    house.loc[house[miss[i]].isnull() == True, miss[i]] = 'NA'"
   ]
  },
  {
   "cell_type": "code",
   "execution_count": 46,
   "metadata": {},
   "outputs": [],
   "source": [
    "with open('/Users/mofuoku/Desktop/data_description.txt', 'r') as file:\n",
    "    lines_level = file.readlines()"
   ]
  },
  {
   "cell_type": "code",
   "execution_count": 47,
   "metadata": {},
   "outputs": [],
   "source": [
    "feature = ''\n",
    "levels = {}\n",
    "level = ''\n",
    "\n",
    "for line in lines_level:\n",
    "    if (not not re.findall(': ', line)) and (not re.findall('story:', line)):\n",
    "#         features.append(re.split(':', line)[0])\n",
    "        feature = re.split(':', line)[0]\n",
    "        levels[feature] = []\n",
    "    else:\n",
    "        if line != '\\n':\n",
    "#             levels.append(re.split('\\t', line)[0].strip())\n",
    "            level = re.split('\\t', line)[0].strip()\n",
    "            if level != '': levels[feature].append(level)\n",
    "levels['Id'] = []\n",
    "levels['SalePrice'] = []\n",
    "# print(levels)"
   ]
  },
  {
   "cell_type": "code",
   "execution_count": 48,
   "metadata": {},
   "outputs": [],
   "source": [
    "# find ordinal and non ordinal\n",
    "with open('/Users/mofuoku/Desktop/DataDocumentation.txt', 'r',encoding='cp1252') as file:\n",
    "    lines = file.readlines()"
   ]
  },
  {
   "cell_type": "code",
   "execution_count": 49,
   "metadata": {},
   "outputs": [
    {
     "name": "stdout",
     "output_type": "stream",
     "text": [
      "['MSSubClass', 'MSZoning', 'Street', 'Alley', 'LandContour', 'LotConfig', 'Neighborhood', 'Condition1', 'Condition2', 'BldgType', 'HouseStyle', 'RoofStyle', 'RoofMatl', 'Exterior1', 'Exterior2', 'MasVnrType', 'Foundation', 'Heating', 'CentralAir', 'GarageType', 'MiscFeature', 'SaleType', 'SaleCondition']\n",
      "['LotShape', 'Utilities', 'LandSlope', 'OverallQual', 'OverallCond', 'ExterQual', 'ExterCond', 'BsmtQual', 'BsmtCond', 'BsmtExposure', 'BsmtFinType1', 'BsmtFinType2', 'HeatingQC', 'Electrical', 'KitchenQual', 'Functional', 'FireplaceQu', 'GarageFinish', 'GarageQual', 'GarageCond', 'PavedDrive', 'PoolQC', 'Fence']\n"
     ]
    }
   ],
   "source": [
    "# Convert string data to numerical data \n",
    "\n",
    "nom_lines = []\n",
    "ord_lines = []\n",
    "for line in lines:\n",
    "    if re.findall('(Nominal)', line):\n",
    "        nom_lines.append(re.sub(' ', '', re.split('\\(Nominal\\)', line)[0].strip()))\n",
    "    elif re.findall('(Ordinal)', line):\n",
    "        ord_lines.append(re.sub(' ', '', re.split('\\(Ordinal\\)', line)[0].strip()))\n",
    "print(nom_lines)\n",
    "print(ord_lines)"
   ]
  },
  {
   "cell_type": "code",
   "execution_count": 50,
   "metadata": {},
   "outputs": [],
   "source": [
    "def my_cat(col, levels, ord_lines):\n",
    "    if not not levels[col.name]: \n",
    "        if col.name in ord_lines:\n",
    "            temp = pd.Categorical(list(col.astype('str')), ordered=True, categories=levels[col.name][::-1])\n",
    "            temp.name = col.name\n",
    "            return temp\n",
    "        else:\n",
    "            temp = pd.Categorical(list(col.astype('str')), categories=levels[col.name][::-1])\n",
    "            temp.name = col.name\n",
    "            return temp\n",
    "   \n",
    "    else:\n",
    "        return col"
   ]
  },
  {
   "cell_type": "code",
   "execution_count": 51,
   "metadata": {},
   "outputs": [],
   "source": [
    "for col in house:\n",
    "    house[col] = my_cat(house[col], levels, ord_lines)"
   ]
  },
  {
   "cell_type": "code",
   "execution_count": 52,
   "metadata": {},
   "outputs": [],
   "source": [
    "miss = list(house_test.columns[house_test.isnull().sum(axis = 0) >= 1])\n",
    "miss.remove('LotFrontage')\n",
    "miss.remove('MasVnrArea')\n",
    "miss.remove('GarageYrBlt')\n",
    "miss.remove('TotalBsmtSF')\n",
    "miss.remove('BsmtHalfBath')\n",
    "miss.remove('BsmtFullBath')\n",
    "miss.remove('GarageCars')\n",
    "miss.remove('GarageArea')\n",
    "miss.remove('BsmtFinSF1')\n",
    "miss.remove('BsmtFinSF2')\n",
    "miss.remove('BsmtUnfSF')\n",
    "\n",
    "house_test.loc[house_test['MasVnrType'].isnull() == True, 'MasVnrType'] = 'CBlock'\n",
    "house_test.loc[house_test['SaleType'].isnull() == True, 'SaleType'] = 'Oth'\n",
    "house_test.loc[house_test['Functional'].isnull() == True, 'Functional'] = 'Sal'\n",
    "house_test.loc[house_test['MSZoning'].isnull() == True, 'MSZoning'] = 'A'\n",
    "house_test.loc[house_test['Exterior1st'].isnull() == True, 'Exterior1st'] = 'WdShing'\n",
    "house_test.loc[house_test['Exterior2nd'].isnull() == True, 'Exterior2nd'] = 'Wd Shng'\n",
    "\n",
    "for i in range(len(miss)):\n",
    "    house_test.loc[house_test[miss[i]].isnull() == True, miss[i]] = 'NA'"
   ]
  },
  {
   "cell_type": "code",
   "execution_count": 53,
   "metadata": {},
   "outputs": [],
   "source": [
    "for col in house_test:\n",
    "    house_test[col] = my_cat(house_test[col], levels, ord_lines)"
   ]
  },
  {
   "cell_type": "code",
   "execution_count": 54,
   "metadata": {},
   "outputs": [
    {
     "name": "stdout",
     "output_type": "stream",
     "text": [
      "['1', '2', '3', '4', '5', '6', '7', '8', '9', '10']\n",
      "['Po', 'Fa', 'TA', 'Gd', 'Ex']\n",
      "['NA', 'Po', 'Fa', 'TA', 'Gd', 'Ex']\n",
      "['Po', 'Fa', 'TA', 'Gd', 'Ex']\n",
      "['NA', 'Unf', 'RFn', 'Fin']\n",
      "['NA', 'Po', 'Fa', 'TA', 'Gd', 'Ex']\n",
      "['Po', 'Fa', 'TA', 'Gd', 'Ex']\n"
     ]
    }
   ],
   "source": [
    "print(levels['OverallQual'][::-1])\n",
    "print(levels['ExterQual'][::-1])\n",
    "print(levels['BsmtQual'][::-1])\n",
    "print(levels['KitchenQual'][::-1])\n",
    "print(levels['GarageFinish'][::-1])\n",
    "print(levels['FireplaceQu'][::-1])\n",
    "print(levels['HeatingQC'][::-1])"
   ]
  },
  {
   "cell_type": "code",
   "execution_count": 55,
   "metadata": {},
   "outputs": [],
   "source": [
    "def OrdinalsToNumerics(all_data):    \n",
    "    all_data['ExterQual'] = all_data['ExterQual'].map(lambda x: {'Po':1, 'Fa':2, 'TA':3, 'Gd':4, 'Ex':5}.get(x, 0))\n",
    "    all_data['BsmtQual'] = all_data['BsmtQual'].map(lambda x: {'NA':1,'Po':2, 'Fa':3, 'TA':4, 'Gd':5, 'Ex':6}.get(x, 0))\n",
    "    all_data['KitchenQual'] = all_data['KitchenQual'].map(lambda x: {'Po':1, 'Fa':2, 'TA':3, 'Gd':4, 'Ex':5}.get(x, 0))\n",
    "    all_data['GarageFinish'] = all_data['GarageFinish'].map(lambda x: {'NA':1, 'Unf':2, 'RFn':3, 'Fin':4}.get(x, 0))\n",
    "    all_data['FireplaceQu'] = all_data['FireplaceQu'].map(lambda x: {'NA':1,'Po':2, 'Fa':3, 'TA':4, 'Gd':5, 'Ex':6}.get(x, 0))\n",
    "    all_data['HeatingQC'] = all_data['HeatingQC'].map(lambda x: {'Po':1, 'Fa':2, 'TA':3, 'Gd':4, 'Ex':5}.get(x, 0))\n",
    "\n",
    "    all_data['OverallQual'] = pd.to_numeric(all_data['OverallQual'])\n",
    "    all_data['ExterQual'] = pd.to_numeric(all_data['ExterQual'])\n",
    "    all_data['BsmtQual'] = pd.to_numeric(all_data['BsmtQual'])\n",
    "    all_data['KitchenQual'] = pd.to_numeric(all_data['KitchenQual'])\n",
    "    all_data['GarageFinish'] = pd.to_numeric(all_data['GarageFinish'])\n",
    "    all_data['FireplaceQu'] = pd.to_numeric(all_data['FireplaceQu'])\n",
    "    all_data['HeatingQC'] = pd.to_numeric(all_data['HeatingQC'])"
   ]
  },
  {
   "cell_type": "code",
   "execution_count": 56,
   "metadata": {},
   "outputs": [],
   "source": [
    "# Idea taken from this script: https://www.kaggle.com/serigne/stacked-regressions-top-4-on-leaderboard\n",
    "# # Add some family features directly to new columns in the dataset\n",
    "\n",
    "def FeatureEngineering(all_data):\n",
    "    # Adding total sqfootage feature \n",
    "    all_data['GarageYrBlt'][all_data['GarageYrBlt'].isnull()] = all_data['YearBuilt'][all_data['GarageYrBlt'].isnull()]\n",
    "    all_data['GarageYrBlt'] = all_data['GarageYrBlt'] - all_data['YearBuilt']\n",
    "\n",
    "    #all_data['YrSold'] = all_data['YrSold'] - all_data['YearBuilt']\n",
    "    \n",
    "    all_data['MoSold'] = pd.Categorical(list(all_data['MoSold'].astype('str')))\n",
    "    \n",
    "    all_data[\"MasVnrArea\"] = all_data[\"MasVnrArea\"].fillna(0)\n",
    "\n",
    "    # GarageYrBlt, GarageArea and GarageCars : Replacing missing data with 0 (Since No garage = no cars in such garage.)\n",
    "    for col in ('GarageArea', 'GarageCars'):\n",
    "        all_data[col] = all_data[col].fillna(0)\n",
    "\n",
    "    # BsmtFinSF1, BsmtFinSF2, BsmtUnfSF, TotalBsmtSF, BsmtFullBath and BsmtHalfBath : missing values are likely zero for having no basement\n",
    "    for col in ('BsmtFinSF1', 'BsmtFinSF2', 'BsmtUnfSF','TotalBsmtSF', 'BsmtFullBath', 'BsmtHalfBath'):\n",
    "        all_data[col] = all_data[col].fillna(0)\n",
    "\n",
    "    # LotFrontage : Since the area of each street connected to the house property most likely have a similar \n",
    "    # area to other houses in its neighborhood , we can fill in missing values by the median LotFrontage of the neighborhood.\n",
    "    # Group by neighborhood and fill in missing value by the median LotFrontage of all the neighborhood\n",
    "    all_data[\"LotFrontage\"] = all_data.groupby(\"Neighborhood\")[\"LotFrontage\"].transform(lambda x: x.fillna(x.median()))\n",
    "    \n",
    "    all_data['TotalSF'] = all_data['TotalBsmtSF'] + all_data['1stFlrSF'] + all_data['2ndFlrSF']\n",
    "    \n",
    "    # Utilities : For this categorical feature all records are \"AllPub\", except for one \"NoSeWa\" and 2 NA . Since the house with 'NoSewa' is in the training set, this feature won't help in predictive modelling. We can then safely remove it.\n",
    "    all_data = all_data.drop(['Utilities'], axis=1)\n",
    "\n",
    "drop_cols1 = [\"Alley\", \"ExterCond\", \"BsmtFinSF2\", \"Heating\", \"Electrical\",\\\n",
    "              \"BsmtHalfBath\", \"PavedDrive\", \"Fence\", \"MiscFeature\", \"MoSold\"]\n",
    "\n",
    "drop_cols2 = [\"BsmtFinType2\", \"LandContour\", \"EnclosedPorch\",\\\n",
    "              \"SaleType\", \"Functional\", \"LotConfig\",\\\n",
    "              \"ScreenPorch\", \"YrSold\", \"LandSlope\"]\n"
   ]
  },
  {
   "cell_type": "code",
   "execution_count": 57,
   "metadata": {},
   "outputs": [],
   "source": [
    "# Specify columns to drop\n",
    "def DropColumns(all_data):\n",
    "    for col in [*drop_cols1, *drop_cols2]:\n",
    "        all_data.drop([col], axis=1, inplace=True)"
   ]
  },
  {
   "cell_type": "code",
   "execution_count": 58,
   "metadata": {},
   "outputs": [],
   "source": [
    "price = house.SalePrice\n",
    "house.drop('SalePrice', axis=1, inplace=True)"
   ]
  },
  {
   "cell_type": "code",
   "execution_count": 59,
   "metadata": {},
   "outputs": [],
   "source": [
    "OrdinalsToNumerics(house)\n",
    "OrdinalsToNumerics(house_test)\n",
    "\n",
    "FeatureEngineering(house)\n",
    "FeatureEngineering(house_test)\n",
    "\n",
    "DropColumns(house)\n",
    "DropColumns(house_test)"
   ]
  },
  {
   "cell_type": "code",
   "execution_count": 60,
   "metadata": {},
   "outputs": [],
   "source": [
    "all_data = pd.concat([house, house_test], ignore_index = True)\n",
    "all_data = pd.get_dummies(all_data, drop_first=True)"
   ]
  },
  {
   "cell_type": "code",
   "execution_count": 61,
   "metadata": {},
   "outputs": [
    {
     "data": {
      "text/plain": [
       "(1460, 219)"
      ]
     },
     "execution_count": 61,
     "metadata": {},
     "output_type": "execute_result"
    }
   ],
   "source": [
    "train_clean = all_data.iloc[:trainSize,:]\n",
    "train_clean = train_clean.assign(SalePrice = price.values)\n",
    "train_clean.shape"
   ]
  },
  {
   "cell_type": "code",
   "execution_count": 62,
   "metadata": {},
   "outputs": [
    {
     "data": {
      "text/plain": [
       "1460"
      ]
     },
     "execution_count": 62,
     "metadata": {},
     "output_type": "execute_result"
    }
   ],
   "source": [
    "trainSize"
   ]
  },
  {
   "cell_type": "code",
   "execution_count": 63,
   "metadata": {},
   "outputs": [
    {
     "data": {
      "text/plain": [
       "(1459, 218)"
      ]
     },
     "execution_count": 63,
     "metadata": {},
     "output_type": "execute_result"
    }
   ],
   "source": [
    "test_clean = all_data.iloc[trainSize:, :]\n",
    "test_clean.shape"
   ]
  },
  {
   "cell_type": "markdown",
   "metadata": {},
   "source": [
    "## Machine Learning Models"
   ]
  },
  {
   "cell_type": "code",
   "execution_count": 64,
   "metadata": {},
   "outputs": [],
   "source": [
    "#Load the libraries\n",
    "\n",
    "# The usual\n",
    "import numpy as np\n",
    "\n",
    "# sklearn tools for model training and assesment\n",
    "import sklearn.model_selection as ms\n",
    "from sklearn.model_selection import GridSearchCV, train_test_split,KFold\n",
    "from sklearn import linear_model\n",
    "from sklearn.ensemble import GradientBoostingRegressor, RandomForestRegressor #as gbr as rfr\n",
    "from sklearn.neural_network import MLPRegressor\n",
    "from sklearn.metrics import mean_squared_error\n",
    "\n",
    "from mlxtend.regressor import StackingRegressor\n",
    "from xgboost.sklearn import XGBRegressor\n",
    "# LightGBM\n",
    "import lightgbm as lgb\n",
    "# Lightxgboost\n",
    "import xgboost as xgb\n",
    "\n",
    "def rmse(y, y_pred):\n",
    "    return np.sqrt(mean_squared_error(y, y_pred))"
   ]
  },
  {
   "cell_type": "markdown",
   "metadata": {},
   "source": [
    "#### Split the dataset into training and testing"
   ]
  },
  {
   "cell_type": "code",
   "execution_count": 65,
   "metadata": {},
   "outputs": [],
   "source": [
    "rs_const = 80 #always use the same one value for all model tuning process\n",
    "test_ratio_const = 0.2 \n",
    "\n",
    "train_data   = train_clean.drop('SalePrice', axis=1)\n",
    "train_target = train_clean[['SalePrice']]\n",
    "test_data    = test_clean\n",
    "\n",
    "X_train, X_test, y_train, y_test = train_test_split(train_data, train_target,\\\n",
    "                                                    test_size=test_ratio_const, random_state=rs_const)"
   ]
  },
  {
   "cell_type": "code",
   "execution_count": 66,
   "metadata": {},
   "outputs": [
    {
     "name": "stdout",
     "output_type": "stream",
     "text": [
      "X train shape =  (1168, 218)\n",
      "X test shape =  (292, 218)\n",
      "Y train shape =  (1168, 1)\n",
      "Y test shape =  (292, 1)\n"
     ]
    }
   ],
   "source": [
    "print('X train shape = ',X_train.shape)\n",
    "print('X test shape = ', X_test.shape)\n",
    "print('Y train shape = ', y_train.shape)\n",
    "print('Y test shape = ',y_test.shape)"
   ]
  },
  {
   "cell_type": "code",
   "execution_count": 67,
   "metadata": {},
   "outputs": [],
   "source": [
    "from sklearn.preprocessing import StandardScaler\n",
    "\n",
    "scaler = StandardScaler()\n",
    "scaler.fit(X_train)\n",
    "\n",
    "X_train_std = scaler.transform(X_train)\n",
    "X_test_std  = scaler.transform(X_test)"
   ]
  },
  {
   "cell_type": "code",
   "execution_count": null,
   "metadata": {},
   "outputs": [],
   "source": []
  },
  {
   "cell_type": "code",
   "execution_count": 242,
   "metadata": {},
   "outputs": [],
   "source": [
    "#X_train,X_valid,y_train,y_valid = train_test_split(X_train,y_train,test_size=0.10, shuffle = True,random_state=80)"
   ]
  },
  {
   "cell_type": "markdown",
   "metadata": {},
   "source": [
    "#### Create Hyperparameter Search Space"
   ]
  },
  {
   "cell_type": "code",
   "execution_count": null,
   "metadata": {},
   "outputs": [],
   "source": [
    "# Create regularization penalty space\n",
    "penalty = ['l1', 'l2']\n",
    "\n",
    "# Create regularization hyperparameter space\n",
    "C = np.logspace(0, 4, 10)\n",
    "\n",
    "# Create hyperparameter options\n",
    "hyperparameters = dict(C=C, penalty=penalty)"
   ]
  },
  {
   "cell_type": "markdown",
   "metadata": {},
   "source": [
    "#### Create Grid Search"
   ]
  },
  {
   "cell_type": "code",
   "execution_count": null,
   "metadata": {},
   "outputs": [],
   "source": [
    "# Create grid search using 5-fold cross validation\n",
    "clf = GridSearchCV(logistic, hyperparameters, cv=5, verbose=0)"
   ]
  },
  {
   "cell_type": "markdown",
   "metadata": {},
   "source": [
    "#### View Hyperparameter Values Of Best Model"
   ]
  },
  {
   "cell_type": "code",
   "execution_count": null,
   "metadata": {},
   "outputs": [],
   "source": [
    "# View best hyperparameters\n",
    "print('Best Penalty:', best_model.best_estimator_.get_params()['penalty'])\n",
    "print('Best C:', best_model.best_estimator_.get_params()['C'])"
   ]
  },
  {
   "cell_type": "markdown",
   "metadata": {},
   "source": [
    "### 1. Linear Regression"
   ]
  },
  {
   "cell_type": "markdown",
   "metadata": {},
   "source": [
    "#### Build the model"
   ]
  },
  {
   "cell_type": "code",
   "execution_count": 80,
   "metadata": {},
   "outputs": [],
   "source": [
    "model_lr = linear_model.LinearRegression()"
   ]
  },
  {
   "cell_type": "markdown",
   "metadata": {},
   "source": [
    "#### Fit The Model"
   ]
  },
  {
   "cell_type": "code",
   "execution_count": 81,
   "metadata": {},
   "outputs": [
    {
     "data": {
      "text/plain": [
       "LinearRegression(copy_X=True, fit_intercept=True, n_jobs=None,\n",
       "         normalize=False)"
      ]
     },
     "execution_count": 81,
     "metadata": {},
     "output_type": "execute_result"
    }
   ],
   "source": [
    "model_lr.fit(X_train, y_train)"
   ]
  },
  {
   "cell_type": "code",
   "execution_count": 83,
   "metadata": {},
   "outputs": [
    {
     "name": "stdout",
     "output_type": "stream",
     "text": [
      "RMSE train: 0.10262489450225752\n",
      "RMSE test : 0.1273096943564471\n"
     ]
    }
   ],
   "source": [
    "print(\"RMSE train: {}\".format(rmse(y_train, model_lr.predict(X_train))))\n",
    "print(\"RMSE test : {}\".format(rmse(y_test,  model_lr.predict(X_test))))"
   ]
  },
  {
   "cell_type": "markdown",
   "metadata": {},
   "source": [
    "### 2. Kernel Ridge Regression "
   ]
  },
  {
   "cell_type": "markdown",
   "metadata": {},
   "source": [
    "#### Create Hyperparameter Search Space"
   ]
  },
  {
   "cell_type": "code",
   "execution_count": 89,
   "metadata": {},
   "outputs": [],
   "source": [
    "param_grid_krr = [{'alpha': np.logspace(-4, 4, 20)}]"
   ]
  },
  {
   "cell_type": "markdown",
   "metadata": {},
   "source": [
    "#### Create Grid Search"
   ]
  },
  {
   "cell_type": "code",
   "execution_count": 90,
   "metadata": {},
   "outputs": [],
   "source": [
    "gridsearch_krr = GridSearchCV(estimator=linear_model.Ridge(random_state=rs_const),param_grid= param_grid_krr, n_jobs=-1,cv=5, verbose=True)\n"
   ]
  },
  {
   "cell_type": "markdown",
   "metadata": {},
   "source": [
    "#### Fit The Model"
   ]
  },
  {
   "cell_type": "code",
   "execution_count": 91,
   "metadata": {},
   "outputs": [
    {
     "name": "stdout",
     "output_type": "stream",
     "text": [
      "Fitting 5 folds for each of 20 candidates, totalling 100 fits\n"
     ]
    },
    {
     "name": "stderr",
     "output_type": "stream",
     "text": [
      "[Parallel(n_jobs=-1)]: Using backend LokyBackend with 4 concurrent workers.\n",
      "[Parallel(n_jobs=-1)]: Done  46 tasks      | elapsed:   17.7s\n",
      "[Parallel(n_jobs=-1)]: Done 100 out of 100 | elapsed:   18.2s finished\n"
     ]
    },
    {
     "data": {
      "text/plain": [
       "GridSearchCV(cv=5, error_score='raise-deprecating',\n",
       "       estimator=Ridge(alpha=1.0, copy_X=True, fit_intercept=True, max_iter=None,\n",
       "   normalize=False, random_state=80, solver='auto', tol=0.001),\n",
       "       fit_params=None, iid='warn', n_jobs=-1,\n",
       "       param_grid=[{'alpha': array([1.00000e-04, 2.63665e-04, 6.95193e-04, 1.83298e-03, 4.83293e-03,\n",
       "       1.27427e-02, 3.35982e-02, 8.85867e-02, 2.33572e-01, 6.15848e-01,\n",
       "       1.62378e+00, 4.28133e+00, 1.12884e+01, 2.97635e+01, 7.84760e+01,\n",
       "       2.06914e+02, 5.45559e+02, 1.43845e+03, 3.79269e+03, 1.00000e+04])}],\n",
       "       pre_dispatch='2*n_jobs', refit=True, return_train_score='warn',\n",
       "       scoring=None, verbose=True)"
      ]
     },
     "execution_count": 91,
     "metadata": {},
     "output_type": "execute_result"
    }
   ],
   "source": [
    "gridsearch_krr.fit(X_train_std,y_train)"
   ]
  },
  {
   "cell_type": "code",
   "execution_count": null,
   "metadata": {},
   "outputs": [],
   "source": [
    "#### Evaluating the model and printing the results"
   ]
  },
  {
   "cell_type": "code",
   "execution_count": 92,
   "metadata": {},
   "outputs": [
    {
     "name": "stdout",
     "output_type": "stream",
     "text": [
      "_______________________________________\n",
      "krr: Regression\n",
      "_______________________________________\n",
      "Best params: {'alpha': 545.5594781168514}\n",
      "Best score : 0.862816990220294\n",
      "---------\n",
      "RMSE train: 0.11500081056347171\n",
      "RMSE test : 0.09967169272824544\n"
     ]
    }
   ],
   "source": [
    "print(\"_______________________________________\")\n",
    "print(\"krr: Regression\")\n",
    "print(\"_______________________________________\")\n",
    "print('Best params: {}'.format(gridsearch_krr.best_params_))\n",
    "print('Best score : {}'.format(gridsearch_krr.best_score_))\n",
    "print(\"---------\")\n",
    "model_krr = gridsearch_krr.best_estimator_\n",
    "print(\"RMSE train: {}\".format(rmse(y_train, model_krr.predict(X_train_std))))\n",
    "print(\"RMSE test : {}\".format(rmse(y_test,  model_krr.predict(X_test_std))))"
   ]
  },
  {
   "cell_type": "markdown",
   "metadata": {},
   "source": [
    "### 3. Lasso Regression"
   ]
  },
  {
   "cell_type": "markdown",
   "metadata": {},
   "source": [
    "#### Create Hyperparameter Search Space"
   ]
  },
  {
   "cell_type": "code",
   "execution_count": 97,
   "metadata": {},
   "outputs": [],
   "source": [
    "param_grid_lasso = [{'alpha': np.logspace(-3, 4, 20)}] "
   ]
  },
  {
   "cell_type": "markdown",
   "metadata": {},
   "source": [
    "#### Create Grid Search"
   ]
  },
  {
   "cell_type": "code",
   "execution_count": 98,
   "metadata": {},
   "outputs": [],
   "source": [
    "gridsearch_lasso = GridSearchCV(estimator=linear_model.Lasso(random_state=rs_const, normalize=False), param_grid=param_grid_lasso, n_jobs=-1,cv=5, verbose=True)"
   ]
  },
  {
   "cell_type": "markdown",
   "metadata": {},
   "source": [
    "#### Fit The Model"
   ]
  },
  {
   "cell_type": "code",
   "execution_count": 99,
   "metadata": {},
   "outputs": [
    {
     "name": "stdout",
     "output_type": "stream",
     "text": [
      "Fitting 5 folds for each of 20 candidates, totalling 100 fits\n"
     ]
    },
    {
     "name": "stderr",
     "output_type": "stream",
     "text": [
      "[Parallel(n_jobs=-1)]: Using backend LokyBackend with 4 concurrent workers.\n",
      "[Parallel(n_jobs=-1)]: Done  44 tasks      | elapsed:   19.0s\n",
      "[Parallel(n_jobs=-1)]: Done 100 out of 100 | elapsed:   19.5s finished\n"
     ]
    },
    {
     "data": {
      "text/plain": [
       "GridSearchCV(cv=5, error_score='raise-deprecating',\n",
       "       estimator=Lasso(alpha=1.0, copy_X=True, fit_intercept=True, max_iter=1000,\n",
       "   normalize=False, positive=False, precompute=False, random_state=80,\n",
       "   selection='cyclic', tol=0.0001, warm_start=False),\n",
       "       fit_params=None, iid='warn', n_jobs=-1,\n",
       "       param_grid=[{'alpha': array([1.00000e-03, 2.33572e-03, 5.45559e-03, 1.27427e-02, 2.97635e-02,\n",
       "       6.95193e-02, 1.62378e-01, 3.79269e-01, 8.85867e-01, 2.06914e+00,\n",
       "       4.83293e+00, 1.12884e+01, 2.63665e+01, 6.15848e+01, 1.43845e+02,\n",
       "       3.35982e+02, 7.84760e+02, 1.83298e+03, 4.28133e+03, 1.00000e+04])}],\n",
       "       pre_dispatch='2*n_jobs', refit=True, return_train_score='warn',\n",
       "       scoring=None, verbose=True)"
      ]
     },
     "execution_count": 99,
     "metadata": {},
     "output_type": "execute_result"
    }
   ],
   "source": [
    "gridsearch_lasso.fit(X_train_std, y_train)"
   ]
  },
  {
   "cell_type": "markdown",
   "metadata": {},
   "source": [
    "#### Evaluate The Model And Print The Results"
   ]
  },
  {
   "cell_type": "code",
   "execution_count": 100,
   "metadata": {},
   "outputs": [
    {
     "name": "stdout",
     "output_type": "stream",
     "text": [
      "_______________________________________\n",
      "Lasso: Regression\n",
      "_______________________________________\n",
      "Best params: {'alpha': 0.00545559478116852}\n",
      "Best score : 0.8564711534949876\n",
      "---------\n",
      "RMSE train: 0.11500081056347171\n",
      "RMSE test : 0.09967169272824544\n"
     ]
    }
   ],
   "source": [
    "print(\"_______________________________________\")\n",
    "print(\"Lasso: Regression\")\n",
    "print(\"_______________________________________\")\n",
    "print('Best params: {}'.format(gridsearch_lasso.best_params_))\n",
    "print('Best score : {}'.format(gridsearch_lasso.best_score_))\n",
    "print(\"---------\")\n",
    "model_lasso = gridsearch_krr.best_estimator_\n",
    "print(\"RMSE train: {}\".format(rmse(y_train, model_lasso.predict(X_train_std))))\n",
    "print(\"RMSE test : {}\".format(rmse(y_test,  model_lasso.predict(X_test_std))))"
   ]
  },
  {
   "cell_type": "markdown",
   "metadata": {},
   "source": [
    "### 4. Elastic Net Regression"
   ]
  },
  {
   "cell_type": "markdown",
   "metadata": {},
   "source": [
    "#### Create Hyperparameter Search Space"
   ]
  },
  {
   "cell_type": "code",
   "execution_count": 125,
   "metadata": {},
   "outputs": [],
   "source": [
    "param_grid_enet = [{'alpha': np.logspace(-2, 4, 20), 'l1_ratio': np.linspace(0.015, 1, 20)}]"
   ]
  },
  {
   "cell_type": "markdown",
   "metadata": {},
   "source": [
    "#### Create Grid Search"
   ]
  },
  {
   "cell_type": "code",
   "execution_count": 126,
   "metadata": {},
   "outputs": [],
   "source": [
    "gridsearch_enet = GridSearchCV(estimator=linear_model.ElasticNet(random_state=rs_const), param_grid=param_grid_enet, n_jobs=-1,cv=5, verbose=True)"
   ]
  },
  {
   "cell_type": "markdown",
   "metadata": {},
   "source": [
    "#### Fit The Model"
   ]
  },
  {
   "cell_type": "code",
   "execution_count": 127,
   "metadata": {},
   "outputs": [
    {
     "name": "stdout",
     "output_type": "stream",
     "text": [
      "Fitting 5 folds for each of 400 candidates, totalling 2000 fits\n"
     ]
    },
    {
     "name": "stderr",
     "output_type": "stream",
     "text": [
      "[Parallel(n_jobs=-1)]: Using backend LokyBackend with 4 concurrent workers.\n",
      "[Parallel(n_jobs=-1)]: Done  42 tasks      | elapsed:    2.1s\n",
      "[Parallel(n_jobs=-1)]: Done 478 tasks      | elapsed:    7.7s\n",
      "[Parallel(n_jobs=-1)]: Done 1478 tasks      | elapsed:   15.6s\n",
      "[Parallel(n_jobs=-1)]: Done 2000 out of 2000 | elapsed:   19.2s finished\n"
     ]
    },
    {
     "data": {
      "text/plain": [
       "GridSearchCV(cv=5, error_score='raise-deprecating',\n",
       "       estimator=ElasticNet(alpha=1.0, copy_X=True, fit_intercept=True, l1_ratio=0.5,\n",
       "      max_iter=1000, normalize=False, positive=False, precompute=False,\n",
       "      random_state=80, selection='cyclic', tol=0.0001, warm_start=False),\n",
       "       fit_params=None, iid='warn', n_jobs=-1,\n",
       "       param_grid=[{'alpha': array([1.00000e-02, 2.06914e-02, 4.28133e-02, 8.85867e-02, 1.83298e-01,\n",
       "       3.79269e-01, 7.84760e-01, 1.62378e+00, 3.35982e+00, 6.95193e+00,\n",
       "       1.43845e+01, 2.97635e+01, 6.15848e+01, 1.27427e+02, 2.63665e+02,\n",
       "       5.45559e+02, 1.12884e+03, 2.33572e+03, 4.83293e+03, 1.0... 0.53342, 0.58526, 0.63711, 0.68895,\n",
       "       0.74079, 0.79263, 0.84447, 0.89632, 0.94816, 1.     ])}],\n",
       "       pre_dispatch='2*n_jobs', refit=True, return_train_score='warn',\n",
       "       scoring=None, verbose=True)"
      ]
     },
     "execution_count": 127,
     "metadata": {},
     "output_type": "execute_result"
    }
   ],
   "source": [
    "gridsearch_enet.fit(X_train_std, y_train)"
   ]
  },
  {
   "cell_type": "markdown",
   "metadata": {},
   "source": [
    "#### Evaluate The Model And Print The Results"
   ]
  },
  {
   "cell_type": "code",
   "execution_count": 128,
   "metadata": {},
   "outputs": [
    {
     "name": "stdout",
     "output_type": "stream",
     "text": [
      "Best params: {'alpha': 0.18329807108324356, 'l1_ratio': 0.015}\n",
      "Best score : 0.8652189389746141\n",
      "RMSE train: 0.1127655445071562\n",
      "RMSE test : 0.0955844475998484\n"
     ]
    }
   ],
   "source": [
    "print('Best params: {}'.format(gridsearch_enet.best_params_))\n",
    "print('Best score : {}'.format(gridsearch_enet.best_score_))\n",
    "\n",
    "model_en = gridsearch_enet.best_estimator_\n",
    "print(\"RMSE train: {}\".format(rmse(y_train, model_en.predict(X_train_std))))\n",
    "print(\"RMSE test : {}\".format(rmse(y_test,  model_en.predict(X_test_std))))"
   ]
  },
  {
   "cell_type": "markdown",
   "metadata": {},
   "source": [
    "### 5. Gradient Boosting Regression"
   ]
  },
  {
   "cell_type": "markdown",
   "metadata": {},
   "source": [
    "#### Create Hyperparameter Search Space"
   ]
  },
  {
   "cell_type": "code",
   "execution_count": 133,
   "metadata": {},
   "outputs": [],
   "source": [
    "param_grid_gboost = {\n",
    "                    'learning_rate' : [0.005, 0.01,0.05],\n",
    "                    'n_estimators': [2000,3000,4000],\n",
    "                    'max_depth' : [4,5,7],\n",
    "                    'min_samples_split': [5,7,9], \n",
    "                    'min_samples_leaf' : [1,3,5],\n",
    "                     'max_features' : ['sqrt'],\n",
    "                    'subsample':[0.7,0.8,0.9]\n",
    "}"
   ]
  },
  {
   "cell_type": "markdown",
   "metadata": {},
   "source": [
    "#### Create Grid Search"
   ]
  },
  {
   "cell_type": "code",
   "execution_count": 135,
   "metadata": {},
   "outputs": [],
   "source": [
    "gridsearch_gboost= GridSearchCV(estimator=GradientBoostingRegressor(random_state=rs_const), param_grid=param_grid_gboost,n_jobs=-1, cv=5,verbose=True)"
   ]
  },
  {
   "cell_type": "markdown",
   "metadata": {},
   "source": [
    "#### Fit The Model"
   ]
  },
  {
   "cell_type": "code",
   "execution_count": 136,
   "metadata": {},
   "outputs": [
    {
     "name": "stdout",
     "output_type": "stream",
     "text": [
      "Fitting 5 folds for each of 729 candidates, totalling 3645 fits\n"
     ]
    },
    {
     "name": "stderr",
     "output_type": "stream",
     "text": [
      "[Parallel(n_jobs=-1)]: Using backend LokyBackend with 4 concurrent workers.\n",
      "[Parallel(n_jobs=-1)]: Done  42 tasks      | elapsed:  1.8min\n",
      "[Parallel(n_jobs=-1)]: Done 192 tasks      | elapsed:  6.2min\n",
      "[Parallel(n_jobs=-1)]: Done 442 tasks      | elapsed: 13.8min\n",
      "[Parallel(n_jobs=-1)]: Done 792 tasks      | elapsed: 25.7min\n",
      "[Parallel(n_jobs=-1)]: Done 1242 tasks      | elapsed: 46.8min\n",
      "[Parallel(n_jobs=-1)]: Done 1792 tasks      | elapsed: 64.2min\n",
      "[Parallel(n_jobs=-1)]: Done 2442 tasks      | elapsed: 92.4min\n",
      "[Parallel(n_jobs=-1)]: Done 3192 tasks      | elapsed: 117.1min\n",
      "[Parallel(n_jobs=-1)]: Done 3645 out of 3645 | elapsed: 134.3min finished\n"
     ]
    },
    {
     "data": {
      "text/plain": [
       "GridSearchCV(cv=5, error_score='raise-deprecating',\n",
       "       estimator=GradientBoostingRegressor(alpha=0.9, criterion='friedman_mse', init=None,\n",
       "             learning_rate=0.1, loss='ls', max_depth=3, max_features=None,\n",
       "             max_leaf_nodes=None, min_impurity_decrease=0.0,\n",
       "             min_impurity_split=None, min_samples_leaf=1,\n",
       "             min_sampl...te=80, subsample=1.0, tol=0.0001,\n",
       "             validation_fraction=0.1, verbose=0, warm_start=False),\n",
       "       fit_params=None, iid='warn', n_jobs=-1,\n",
       "       param_grid={'learning_rate': [0.005, 0.01, 0.05], 'n_estimators': [2000, 3000, 4000], 'max_depth': [4, 5, 7], 'min_samples_split': [5, 7, 9], 'min_samples_leaf': [1, 3, 5], 'max_features': ['sqrt'], 'subsample': [0.7, 0.8, 0.9]},\n",
       "       pre_dispatch='2*n_jobs', refit=True, return_train_score='warn',\n",
       "       scoring=None, verbose=True)"
      ]
     },
     "execution_count": 136,
     "metadata": {},
     "output_type": "execute_result"
    }
   ],
   "source": [
    "gridsearch_gboost.fit(X_train, y_train)"
   ]
  },
  {
   "cell_type": "markdown",
   "metadata": {},
   "source": [
    "#### Evaluate The Model And Print The Results"
   ]
  },
  {
   "cell_type": "code",
   "execution_count": 141,
   "metadata": {},
   "outputs": [
    {
     "name": "stdout",
     "output_type": "stream",
     "text": [
      "_______________________________________\n",
      "gboost: Regression\n",
      "_______________________________________\n",
      "Best params: {'learning_rate': 0.005, 'max_depth': 4, 'max_features': 'sqrt', 'min_samples_leaf': 1, 'min_samples_split': 5, 'n_estimators': 4000, 'subsample': 0.7}\n",
      "Best score : 0.9037900540991681\n",
      "---------\n",
      "RMSE train: 0.05638277444860054\n",
      "RMSE test : 0.09656160461178102\n"
     ]
    }
   ],
   "source": [
    "print(\"_______________________________________\")\n",
    "print(\"gboost: Regression\")\n",
    "print(\"_______________________________________\")\n",
    "print('Best params: {}'.format(gridsearch_gboost.best_params_))\n",
    "print('Best score : {}'.format(gridsearch_gboost.best_score_))\n",
    "print(\"---------\")\n",
    "model_gboost = gridsearch_gboost.best_estimator_\n",
    "print(\"RMSE train: {}\".format(rmse(y_train, model_gboost.predict(X_train))))\n",
    "print(\"RMSE test : {}\".format(rmse(y_test,  model_gboost.predict(X_test))))"
   ]
  },
  {
   "cell_type": "code",
   "execution_count": 147,
   "metadata": {},
   "outputs": [],
   "source": [
    "pickle.dump(model_gboost, open('model_gboost.pickle','wb'))"
   ]
  },
  {
   "cell_type": "code",
   "execution_count": null,
   "metadata": {},
   "outputs": [],
   "source": []
  },
  {
   "cell_type": "markdown",
   "metadata": {},
   "source": [
    "### XGBOOST"
   ]
  },
  {
   "cell_type": "code",
   "execution_count": null,
   "metadata": {},
   "outputs": [],
   "source": []
  },
  {
   "cell_type": "code",
   "execution_count": 185,
   "metadata": {},
   "outputs": [],
   "source": [
    "model_xgb2 = xgb.XGBRegressor(colsample_bytree=0.4603, gamma=0.0468, \n",
    "                             learning_rate=0.05, max_depth=3, \n",
    "                             min_child_weight=1.7817, n_estimators=2200,\n",
    "                             reg_alpha=0.4640, reg_lambda=0.8571,\n",
    "                             subsample=0.5213, silent=1,\n",
    "                             random_state =7, nthread = -1)"
   ]
  },
  {
   "cell_type": "code",
   "execution_count": 186,
   "metadata": {},
   "outputs": [
    {
     "data": {
      "text/plain": [
       "XGBRegressor(base_score=0.5, booster='gbtree', colsample_bylevel=1,\n",
       "       colsample_bytree=0.4603, gamma=0.0468, learning_rate=0.05,\n",
       "       max_delta_step=0, max_depth=3, min_child_weight=1.7817,\n",
       "       missing=None, n_estimators=2200, n_jobs=1, nthread=-1,\n",
       "       objective='reg:linear', random_state=7, reg_alpha=0.464,\n",
       "       reg_lambda=0.8571, scale_pos_weight=1, seed=None, silent=1,\n",
       "       subsample=0.5213)"
      ]
     },
     "execution_count": 186,
     "metadata": {},
     "output_type": "execute_result"
    }
   ],
   "source": [
    "model_xgb2.fit(X_train,y_train)"
   ]
  },
  {
   "cell_type": "code",
   "execution_count": 187,
   "metadata": {},
   "outputs": [
    {
     "name": "stdout",
     "output_type": "stream",
     "text": [
      "RMSE train: 0.08473900853570761\n",
      "RMSE test : 0.10458834822873225\n"
     ]
    }
   ],
   "source": [
    "print(\"RMSE train: {}\".format(rmse(y_train, model_xgb2.predict(X_train))))\n",
    "print(\"RMSE test : {}\".format(rmse(y_test,  model_xgb2.predict(X_test))))"
   ]
  },
  {
   "cell_type": "code",
   "execution_count": 192,
   "metadata": {},
   "outputs": [
    {
     "data": {
      "text/plain": [
       "XGBRegressor(base_score=0.5, booster='gbtree', colsample_bylevel=1,\n",
       "       colsample_bytree=0.8, gamma=0, learning_rate=0.02, max_delta_step=0,\n",
       "       max_depth=4, min_child_weight=4, missing=None, n_estimators=2000,\n",
       "       n_jobs=1, nthread=None, objective='reg:linear', random_state=80,\n",
       "       reg_alpha=0, reg_lambda=1, scale_pos_weight=1, seed=None,\n",
       "       silent=True, subsample=1)"
      ]
     },
     "execution_count": 192,
     "metadata": {},
     "output_type": "execute_result"
    }
   ],
   "source": [
    "model_xgb = xgb.XGBRegressor(\\\n",
    "                                    colsample_bytree=0.8,\\\n",
    "                                    gamma=0,\\\n",
    "                                    learning_rate=0.02,\\\n",
    "                                    max_depth=4,\\\n",
    "                                    min_child_weight=4,\\\n",
    "                                    n_estimators=2000,\\\n",
    "                                    random_state=rs_const)\n",
    "model_xgb.fit(X_train, y_train)"
   ]
  },
  {
   "cell_type": "code",
   "execution_count": 193,
   "metadata": {},
   "outputs": [
    {
     "name": "stdout",
     "output_type": "stream",
     "text": [
      "RMSE train: 0.03567828886205884\n",
      "RMSE test : 0.10063912394065101\n"
     ]
    }
   ],
   "source": [
    "print(\"RMSE train: {}\".format(rmse(y_train, model_xgb.predict(X_train))))\n",
    "print(\"RMSE test : {}\".format(rmse(y_test,  model_xgb.predict(X_test))))"
   ]
  },
  {
   "cell_type": "code",
   "execution_count": null,
   "metadata": {},
   "outputs": [],
   "source": []
  },
  {
   "cell_type": "code",
   "execution_count": 194,
   "metadata": {},
   "outputs": [
    {
     "data": {
      "text/plain": [
       "XGBRegressor(base_score=0.5, booster='gbtree', colsample_bylevel=1,\n",
       "       colsample_bytree=0.8, gamma=0, learning_rate=0.02, max_delta_step=0,\n",
       "       max_depth=4, min_child_weight=4, missing=None, n_estimators=2100,\n",
       "       n_jobs=1, nthread=None, objective='reg:linear', random_state=80,\n",
       "       reg_alpha=0, reg_lambda=1, scale_pos_weight=1, seed=None,\n",
       "       silent=True, subsample=1)"
      ]
     },
     "execution_count": 194,
     "metadata": {},
     "output_type": "execute_result"
    }
   ],
   "source": [
    "model_xgb = xgb.XGBRegressor(\\\n",
    "                                    colsample_bytree=0.8,\\\n",
    "                                    gamma=0,\\\n",
    "                                    learning_rate=0.02,\\\n",
    "                                    max_depth=4,\\\n",
    "                                    min_child_weight=4,\\\n",
    "                                    n_estimators=2100,\\\n",
    "                                    random_state=rs_const)\n",
    "model_xgb.fit(X_train, y_train)"
   ]
  },
  {
   "cell_type": "code",
   "execution_count": 195,
   "metadata": {},
   "outputs": [
    {
     "name": "stdout",
     "output_type": "stream",
     "text": [
      "RMSE train: 0.03406941356859858\n",
      "RMSE test : 0.10046979662764921\n"
     ]
    }
   ],
   "source": [
    "print(\"RMSE train: {}\".format(rmse(y_train, model_xgb.predict(X_train))))\n",
    "print(\"RMSE test : {}\".format(rmse(y_test,  model_xgb.predict(X_test))))"
   ]
  },
  {
   "cell_type": "code",
   "execution_count": 196,
   "metadata": {},
   "outputs": [
    {
     "data": {
      "text/plain": [
       "XGBRegressor(base_score=0.5, booster='gbtree', colsample_bylevel=1,\n",
       "       colsample_bytree=0.8, gamma=0, learning_rate=0.02, max_delta_step=0,\n",
       "       max_depth=4, min_child_weight=4, missing=None, n_estimators=2200,\n",
       "       n_jobs=1, nthread=None, objective='reg:linear', random_state=80,\n",
       "       reg_alpha=0, reg_lambda=1, scale_pos_weight=1, seed=None,\n",
       "       silent=True, subsample=1)"
      ]
     },
     "execution_count": 196,
     "metadata": {},
     "output_type": "execute_result"
    }
   ],
   "source": [
    "model_xgb = xgb.XGBRegressor(\\\n",
    "                                    colsample_bytree=0.8,\\\n",
    "                                    gamma=0,\\\n",
    "                                    learning_rate=0.02,\\\n",
    "                                    max_depth=4,\\\n",
    "                                    min_child_weight=4,\\\n",
    "                                    n_estimators=2200,\\\n",
    "                                    random_state=rs_const)\n",
    "model_xgb.fit(X_train, y_train)"
   ]
  },
  {
   "cell_type": "code",
   "execution_count": 197,
   "metadata": {},
   "outputs": [
    {
     "name": "stdout",
     "output_type": "stream",
     "text": [
      "RMSE train: 0.03246630773962482\n",
      "RMSE test : 0.1004689631772734\n"
     ]
    }
   ],
   "source": [
    "print(\"RMSE train: {}\".format(rmse(y_train, model_xgb.predict(X_train))))\n",
    "print(\"RMSE test : {}\".format(rmse(y_test,  model_xgb.predict(X_test))))"
   ]
  },
  {
   "cell_type": "code",
   "execution_count": 198,
   "metadata": {},
   "outputs": [
    {
     "data": {
      "text/plain": [
       "XGBRegressor(base_score=0.5, booster='gbtree', colsample_bylevel=1,\n",
       "       colsample_bytree=0.8, gamma=0, learning_rate=0.02, max_delta_step=0,\n",
       "       max_depth=4, min_child_weight=4, missing=None, n_estimators=2300,\n",
       "       n_jobs=1, nthread=None, objective='reg:linear', random_state=80,\n",
       "       reg_alpha=0, reg_lambda=1, scale_pos_weight=1, seed=None,\n",
       "       silent=True, subsample=1)"
      ]
     },
     "execution_count": 198,
     "metadata": {},
     "output_type": "execute_result"
    }
   ],
   "source": [
    "model_xgb = xgb.XGBRegressor(\\\n",
    "                                    colsample_bytree=0.8,\\\n",
    "                                    gamma=0,\\\n",
    "                                    learning_rate=0.02,\\\n",
    "                                    max_depth=4,\\\n",
    "                                    min_child_weight=4,\\\n",
    "                                    n_estimators=2300,\\\n",
    "                                    random_state=rs_const)\n",
    "model_xgb.fit(X_train, y_train)"
   ]
  },
  {
   "cell_type": "code",
   "execution_count": 199,
   "metadata": {},
   "outputs": [
    {
     "name": "stdout",
     "output_type": "stream",
     "text": [
      "RMSE train: 0.03126735889741411\n",
      "RMSE test : 0.10052931526435584\n"
     ]
    }
   ],
   "source": [
    "print(\"RMSE train: {}\".format(rmse(y_train, model_xgb.predict(X_train))))\n",
    "print(\"RMSE test : {}\".format(rmse(y_test,  model_xgb.predict(X_test))))"
   ]
  },
  {
   "cell_type": "code",
   "execution_count": 213,
   "metadata": {},
   "outputs": [
    {
     "data": {
      "text/plain": [
       "XGBRegressor(base_score=0.5, booster='gbtree', colsample_bylevel=1,\n",
       "       colsample_bytree=0.8, gamma=0, learning_rate=0.02, max_delta_step=0,\n",
       "       max_depth=3, min_child_weight=4, missing=None, n_estimators=2000,\n",
       "       n_jobs=1, nthread=None, objective='reg:linear', random_state=80,\n",
       "       reg_alpha=0, reg_lambda=1, scale_pos_weight=1, seed=None,\n",
       "       silent=True, subsample=1)"
      ]
     },
     "execution_count": 213,
     "metadata": {},
     "output_type": "execute_result"
    }
   ],
   "source": [
    "model_xgb = xgb.XGBRegressor(\\\n",
    "                                    colsample_bytree=0.8,\\\n",
    "                                    gamma=0,\\\n",
    "                                    learning_rate=0.02,\\\n",
    "                                    max_depth=3,\\\n",
    "                                    min_child_weight=4,\\\n",
    "                                    n_estimators=2000,\\\n",
    "                                    random_state=rs_const)\n",
    "model_xgb.fit(X_train, y_train)"
   ]
  },
  {
   "cell_type": "code",
   "execution_count": 214,
   "metadata": {},
   "outputs": [
    {
     "name": "stdout",
     "output_type": "stream",
     "text": [
      "RMSE train: 0.05450872848502246\n",
      "RMSE test : 0.10103839632354322\n"
     ]
    }
   ],
   "source": [
    "print(\"RMSE train: {}\".format(rmse(y_train, model_xgb.predict(X_train))))\n",
    "print(\"RMSE test : {}\".format(rmse(y_test,  model_xgb.predict(X_test))))"
   ]
  },
  {
   "cell_type": "code",
   "execution_count": 215,
   "metadata": {},
   "outputs": [
    {
     "data": {
      "text/plain": [
       "2"
      ]
     },
     "execution_count": 215,
     "metadata": {},
     "output_type": "execute_result"
    }
   ],
   "source": []
  },
  {
   "cell_type": "code",
   "execution_count": 218,
   "metadata": {},
   "outputs": [
    {
     "data": {
      "text/plain": [
       "XGBRegressor(base_score=0.5, booster='gbtree', colsample_bylevel=1,\n",
       "       colsample_bytree=0.8, gamma=0, learning_rate=0.02, max_delta_step=0,\n",
       "       max_depth=4, min_child_weight=4, missing=None, n_estimators=3000,\n",
       "       n_jobs=1, nthread=None, objective='reg:linear', random_state=80,\n",
       "       reg_alpha=0, reg_lambda=1, scale_pos_weight=1, seed=None,\n",
       "       silent=True, subsample=1)"
      ]
     },
     "execution_count": 218,
     "metadata": {},
     "output_type": "execute_result"
    }
   ],
   "source": [
    "model_xgb = xgb.XGBRegressor(\\\n",
    "                                    colsample_bytree=0.8,\\\n",
    "                                    gamma=0,\\\n",
    "                                    learning_rate=0.02,\\\n",
    "                                    max_depth=4,\\\n",
    "                                    min_child_weight=4,\\\n",
    "                                    n_estimators=3000,\\\n",
    "                                    random_state=rs_const)\n",
    "model_xgb.fit(X_train, y_train)"
   ]
  },
  {
   "cell_type": "code",
   "execution_count": 219,
   "metadata": {},
   "outputs": [
    {
     "name": "stdout",
     "output_type": "stream",
     "text": [
      "RMSE train: 0.02332591672056718\n",
      "RMSE test : 0.1004016066531891\n"
     ]
    }
   ],
   "source": [
    "print(\"RMSE train: {}\".format(rmse(y_train, model_xgb.predict(X_train))))\n",
    "print(\"RMSE test : {}\".format(rmse(y_test,  model_xgb.predict(X_test))))"
   ]
  },
  {
   "cell_type": "code",
   "execution_count": null,
   "metadata": {},
   "outputs": [],
   "source": []
  },
  {
   "cell_type": "code",
   "execution_count": 220,
   "metadata": {},
   "outputs": [
    {
     "data": {
      "text/plain": [
       "XGBRegressor(base_score=0.5, booster='gbtree', colsample_bylevel=1,\n",
       "       colsample_bytree=0.8, gamma=0, learning_rate=0.02, max_delta_step=0,\n",
       "       max_depth=4, min_child_weight=4, missing=None, n_estimators=3200,\n",
       "       n_jobs=1, nthread=None, objective='reg:linear', random_state=80,\n",
       "       reg_alpha=0, reg_lambda=1, scale_pos_weight=1, seed=None,\n",
       "       silent=True, subsample=1)"
      ]
     },
     "execution_count": 220,
     "metadata": {},
     "output_type": "execute_result"
    }
   ],
   "source": [
    "model_xgb = xgb.XGBRegressor(\\\n",
    "                                    colsample_bytree=0.8,\\\n",
    "                                    gamma=0,\\\n",
    "                                    learning_rate=0.02,\\\n",
    "                                    max_depth=4,\\\n",
    "                                    min_child_weight=4,\\\n",
    "                                    n_estimators=3200,\\\n",
    "                                    random_state=rs_const)\n",
    "model_xgb.fit(X_train, y_train)"
   ]
  },
  {
   "cell_type": "code",
   "execution_count": 221,
   "metadata": {},
   "outputs": [
    {
     "name": "stdout",
     "output_type": "stream",
     "text": [
      "RMSE train: 0.02144233559968962\n",
      "RMSE test : 0.10027159459816665\n"
     ]
    }
   ],
   "source": [
    "print(\"RMSE train: {}\".format(rmse(y_train, model_xgb.predict(X_train))))\n",
    "print(\"RMSE test : {}\".format(rmse(y_test,  model_xgb.predict(X_test))))"
   ]
  },
  {
   "cell_type": "code",
   "execution_count": null,
   "metadata": {},
   "outputs": [],
   "source": []
  },
  {
   "cell_type": "code",
   "execution_count": 222,
   "metadata": {},
   "outputs": [
    {
     "data": {
      "text/plain": [
       "XGBRegressor(base_score=0.5, booster='gbtree', colsample_bylevel=1,\n",
       "       colsample_bytree=0.8, gamma=0, learning_rate=0.02, max_delta_step=0,\n",
       "       max_depth=4, min_child_weight=4, missing=None, n_estimators=3500,\n",
       "       n_jobs=1, nthread=None, objective='reg:linear', random_state=80,\n",
       "       reg_alpha=0, reg_lambda=1, scale_pos_weight=1, seed=None,\n",
       "       silent=True, subsample=1)"
      ]
     },
     "execution_count": 222,
     "metadata": {},
     "output_type": "execute_result"
    }
   ],
   "source": [
    "model_xgb = xgb.XGBRegressor(\\\n",
    "                                    colsample_bytree=0.8,\\\n",
    "                                    gamma=0,\\\n",
    "                                    learning_rate=0.02,\\\n",
    "                                    max_depth=4,\\\n",
    "                                    min_child_weight=4,\\\n",
    "                                    n_estimators=3500,\\\n",
    "                                    random_state=rs_const)\n",
    "model_xgb.fit(X_train, y_train)"
   ]
  },
  {
   "cell_type": "code",
   "execution_count": 223,
   "metadata": {},
   "outputs": [
    {
     "name": "stdout",
     "output_type": "stream",
     "text": [
      "RMSE train: 0.01893085635256288\n",
      "RMSE test : 0.100409591984285\n"
     ]
    }
   ],
   "source": [
    "print(\"RMSE train: {}\".format(rmse(y_train, model_xgb.predict(X_train))))\n",
    "print(\"RMSE test : {}\".format(rmse(y_test,  model_xgb.predict(X_test))))"
   ]
  },
  {
   "cell_type": "code",
   "execution_count": null,
   "metadata": {},
   "outputs": [],
   "source": []
  },
  {
   "cell_type": "code",
   "execution_count": 231,
   "metadata": {},
   "outputs": [
    {
     "data": {
      "text/plain": [
       "XGBRegressor(base_score=0.5, booster='gbtree', colsample_bylevel=1,\n",
       "       colsample_bytree=0.8, gamma=0, learning_rate=0.02, max_delta_step=0,\n",
       "       max_depth=4, min_child_weight=4, missing=None, n_estimators=4000,\n",
       "       n_jobs=1, nthread=None, objective='reg:linear', random_state=80,\n",
       "       reg_alpha=0.0464, reg_lambda=0.08571, scale_pos_weight=1, seed=None,\n",
       "       silent=True, subsample=1)"
      ]
     },
     "execution_count": 231,
     "metadata": {},
     "output_type": "execute_result"
    }
   ],
   "source": [
    "model_xgb = xgb.XGBRegressor(\\\n",
    "                                    colsample_bytree=0.8,\\\n",
    "                                    gamma=0,\\\n",
    "                                    learning_rate=0.02,\\\n",
    "                                    max_depth=4,\\\n",
    "                                    min_child_weight=4,\\\n",
    "                                    n_estimators=4000,\\\n",
    "                                    reg_alpha=0.04640,\\\n",
    "                                    reg_lambda=0.08571,\\\n",
    "                                    random_state=rs_const)\n",
    "model_xgb.fit(X_train, y_train)"
   ]
  },
  {
   "cell_type": "code",
   "execution_count": 232,
   "metadata": {},
   "outputs": [
    {
     "name": "stdout",
     "output_type": "stream",
     "text": [
      "RMSE train: 0.010392488927132588\n",
      "RMSE test : 0.10527876058694588\n"
     ]
    }
   ],
   "source": [
    "print(\"RMSE train: {}\".format(rmse(y_train, model_xgb.predict(X_train))))\n",
    "print(\"RMSE test : {}\".format(rmse(y_test,  model_xgb.predict(X_test))))"
   ]
  },
  {
   "cell_type": "code",
   "execution_count": null,
   "metadata": {},
   "outputs": [],
   "source": []
  },
  {
   "cell_type": "code",
   "execution_count": 233,
   "metadata": {},
   "outputs": [
    {
     "data": {
      "text/plain": [
       "XGBRegressor(base_score=0.5, booster='gbtree', colsample_bylevel=1,\n",
       "       colsample_bytree=0.8, gamma=0, learning_rate=0.02, max_delta_step=0,\n",
       "       max_depth=4, min_child_weight=4, missing=None, n_estimators=4500,\n",
       "       n_jobs=1, nthread=None, objective='reg:linear', random_state=80,\n",
       "       reg_alpha=0.0464, reg_lambda=0.08571, scale_pos_weight=1, seed=None,\n",
       "       silent=True, subsample=1)"
      ]
     },
     "execution_count": 233,
     "metadata": {},
     "output_type": "execute_result"
    }
   ],
   "source": [
    "model_xgb = xgb.XGBRegressor(\\\n",
    "                                    colsample_bytree=0.8,\\\n",
    "                                    gamma=0,\\\n",
    "                                    learning_rate=0.02,\\\n",
    "                                    max_depth=4,\\\n",
    "                                    min_child_weight=4,\\\n",
    "                                    n_estimators=4500,\\\n",
    "                                    reg_alpha=0.04640,\\\n",
    "                                    reg_lambda=0.08571,\\\n",
    "                                    random_state=rs_const)\n",
    "model_xgb.fit(X_train, y_train)"
   ]
  },
  {
   "cell_type": "code",
   "execution_count": 234,
   "metadata": {},
   "outputs": [
    {
     "name": "stdout",
     "output_type": "stream",
     "text": [
      "RMSE train: 0.009101887437862846\n",
      "RMSE test : 0.10529143404088602\n"
     ]
    }
   ],
   "source": [
    "print(\"RMSE train: {}\".format(rmse(y_train, model_xgb.predict(X_train))))\n",
    "print(\"RMSE test : {}\".format(rmse(y_test,  model_xgb.predict(X_test))))"
   ]
  },
  {
   "cell_type": "code",
   "execution_count": null,
   "metadata": {},
   "outputs": [],
   "source": []
  },
  {
   "cell_type": "code",
   "execution_count": 235,
   "metadata": {},
   "outputs": [
    {
     "data": {
      "text/plain": [
       "XGBRegressor(base_score=0.5, booster='gbtree', colsample_bylevel=1,\n",
       "       colsample_bytree=0.8, gamma=0, learning_rate=0.002,\n",
       "       max_delta_step=0, max_depth=4, min_child_weight=4, missing=None,\n",
       "       n_estimators=4500, n_jobs=1, nthread=None, objective='reg:linear',\n",
       "       random_state=80, reg_alpha=0.0464, reg_lambda=0.08571,\n",
       "       scale_pos_weight=1, seed=None, silent=True, subsample=1)"
      ]
     },
     "execution_count": 235,
     "metadata": {},
     "output_type": "execute_result"
    }
   ],
   "source": [
    "model_xgb = xgb.XGBRegressor(\\\n",
    "                                    colsample_bytree=0.8,\\\n",
    "                                    gamma=0,\\\n",
    "                                    learning_rate=0.002,\\\n",
    "                                    max_depth=4,\\\n",
    "                                    min_child_weight=4,\\\n",
    "                                    n_estimators=4500,\\\n",
    "                                    reg_alpha=0.04640,\\\n",
    "                                    reg_lambda=0.08571,\\\n",
    "                                    random_state=rs_const)\n",
    "model_xgb.fit(X_train, y_train)"
   ]
  },
  {
   "cell_type": "code",
   "execution_count": 236,
   "metadata": {},
   "outputs": [
    {
     "name": "stdout",
     "output_type": "stream",
     "text": [
      "RMSE train: 0.07463032947395881\n",
      "RMSE test : 0.10399087013005845\n"
     ]
    }
   ],
   "source": [
    "print(\"RMSE train: {}\".format(rmse(y_train, model_xgb.predict(X_train))))\n",
    "print(\"RMSE test : {}\".format(rmse(y_test,  model_xgb.predict(X_test))))"
   ]
  },
  {
   "cell_type": "code",
   "execution_count": null,
   "metadata": {},
   "outputs": [],
   "source": []
  },
  {
   "cell_type": "code",
   "execution_count": 237,
   "metadata": {},
   "outputs": [
    {
     "data": {
      "text/plain": [
       "XGBRegressor(base_score=0.5, booster='gbtree', colsample_bylevel=1,\n",
       "       colsample_bytree=0.8, gamma=0, learning_rate=0.002,\n",
       "       max_delta_step=0, max_depth=4, min_child_weight=3, missing=None,\n",
       "       n_estimators=4500, n_jobs=1, nthread=None, objective='reg:linear',\n",
       "       random_state=80, reg_alpha=0.0464, reg_lambda=0.08571,\n",
       "       scale_pos_weight=1, seed=None, silent=True, subsample=1)"
      ]
     },
     "execution_count": 237,
     "metadata": {},
     "output_type": "execute_result"
    }
   ],
   "source": [
    "model_xgb = xgb.XGBRegressor(\\\n",
    "                                    colsample_bytree=0.8,\\\n",
    "                                    gamma=0,\\\n",
    "                                    learning_rate=0.002,\\\n",
    "                                    max_depth=4,\\\n",
    "                                    min_child_weight=3,\\\n",
    "                                    n_estimators=4500,\\\n",
    "                                    reg_alpha=0.04640,\\\n",
    "                                    reg_lambda=0.08571,\\\n",
    "                                    random_state=rs_const)\n",
    "model_xgb.fit(X_train, y_train)"
   ]
  },
  {
   "cell_type": "code",
   "execution_count": 238,
   "metadata": {},
   "outputs": [
    {
     "name": "stdout",
     "output_type": "stream",
     "text": [
      "RMSE train: 0.07327920952710597\n",
      "RMSE test : 0.10185357145223764\n"
     ]
    }
   ],
   "source": [
    "print(\"RMSE train: {}\".format(rmse(y_train, model_xgb.predict(X_train))))\n",
    "print(\"RMSE test : {}\".format(rmse(y_test,  model_xgb.predict(X_test))))"
   ]
  },
  {
   "cell_type": "code",
   "execution_count": null,
   "metadata": {},
   "outputs": [],
   "source": []
  },
  {
   "cell_type": "code",
   "execution_count": 243,
   "metadata": {},
   "outputs": [
    {
     "data": {
      "text/plain": [
       "XGBRegressor(base_score=0.5, booster='gbtree', colsample_bylevel=1,\n",
       "       colsample_bytree=0.8, gamma=0, learning_rate=0.002,\n",
       "       max_delta_step=0, max_depth=4, min_child_weight=3, missing=None,\n",
       "       n_estimators=5000, n_jobs=1, nthread=None, objective='reg:linear',\n",
       "       random_state=80, reg_alpha=0.0464, reg_lambda=0.08571,\n",
       "       scale_pos_weight=1, seed=None, silent=True, subsample=1)"
      ]
     },
     "execution_count": 243,
     "metadata": {},
     "output_type": "execute_result"
    }
   ],
   "source": [
    "model_xgb = xgb.XGBRegressor(\\\n",
    "                                    colsample_bytree=0.8,\\\n",
    "                                    gamma=0,\\\n",
    "                                    learning_rate=0.002,\\\n",
    "                                    max_depth=4,\\\n",
    "                                    min_child_weight=3,\\\n",
    "                                    n_estimators=5000,\\\n",
    "                                    reg_alpha=0.04640,\\\n",
    "                                    reg_lambda=0.08571,\\\n",
    "                                    random_state=rs_const)\n",
    "model_xgb.fit(X_train, y_train)"
   ]
  },
  {
   "cell_type": "code",
   "execution_count": 244,
   "metadata": {},
   "outputs": [
    {
     "name": "stdout",
     "output_type": "stream",
     "text": [
      "RMSE train: 0.07067937105125074\n",
      "RMSE test : 0.10178697680959287\n"
     ]
    }
   ],
   "source": [
    "print(\"RMSE train: {}\".format(rmse(y_train, model_xgb.predict(X_train))))\n",
    "print(\"RMSE test : {}\".format(rmse(y_test,  model_xgb.predict(X_test))))"
   ]
  },
  {
   "cell_type": "code",
   "execution_count": null,
   "metadata": {},
   "outputs": [],
   "source": []
  },
  {
   "cell_type": "code",
   "execution_count": 245,
   "metadata": {},
   "outputs": [
    {
     "data": {
      "text/plain": [
       "XGBRegressor(base_score=0.5, booster='gbtree', colsample_bylevel=1,\n",
       "       colsample_bytree=0.8, gamma=0, learning_rate=0.002,\n",
       "       max_delta_step=0, max_depth=4, min_child_weight=3, missing=None,\n",
       "       n_estimators=5500, n_jobs=1, nthread=None, objective='reg:linear',\n",
       "       random_state=80, reg_alpha=0.0464, reg_lambda=0.08571,\n",
       "       scale_pos_weight=1, seed=None, silent=True, subsample=1)"
      ]
     },
     "execution_count": 245,
     "metadata": {},
     "output_type": "execute_result"
    }
   ],
   "source": [
    "model_xgb = xgb.XGBRegressor(\\\n",
    "                                    colsample_bytree=0.8,\\\n",
    "                                    gamma=0,\\\n",
    "                                    learning_rate=0.002,\\\n",
    "                                    max_depth=4,\\\n",
    "                                    min_child_weight=3,\\\n",
    "                                    n_estimators=5500,\\\n",
    "                                    reg_alpha=0.04640,\\\n",
    "                                    reg_lambda=0.08571,\\\n",
    "                                    random_state=rs_const)\n",
    "model_xgb.fit(X_train, y_train)"
   ]
  },
  {
   "cell_type": "code",
   "execution_count": 246,
   "metadata": {},
   "outputs": [
    {
     "name": "stdout",
     "output_type": "stream",
     "text": [
      "RMSE train: 0.06841636911054601\n",
      "RMSE test : 0.10165499383350639\n"
     ]
    }
   ],
   "source": [
    "print(\"RMSE train: {}\".format(rmse(y_train, model_xgb.predict(X_train))))\n",
    "print(\"RMSE test : {}\".format(rmse(y_test,  model_xgb.predict(X_test))))"
   ]
  },
  {
   "cell_type": "code",
   "execution_count": null,
   "metadata": {},
   "outputs": [],
   "source": []
  },
  {
   "cell_type": "code",
   "execution_count": 247,
   "metadata": {},
   "outputs": [
    {
     "data": {
      "text/plain": [
       "XGBRegressor(base_score=0.5, booster='gbtree', colsample_bylevel=1,\n",
       "       colsample_bytree=0.8, gamma=0, learning_rate=0.002,\n",
       "       max_delta_step=0, max_depth=4, min_child_weight=3, missing=None,\n",
       "       n_estimators=6000, n_jobs=1, nthread=None, objective='reg:linear',\n",
       "       random_state=80, reg_alpha=0.0464, reg_lambda=0.08571,\n",
       "       scale_pos_weight=1, seed=None, silent=True, subsample=1)"
      ]
     },
     "execution_count": 247,
     "metadata": {},
     "output_type": "execute_result"
    }
   ],
   "source": [
    "model_xgb = xgb.XGBRegressor(\\\n",
    "                                    colsample_bytree=0.8,\\\n",
    "                                    gamma=0,\\\n",
    "                                    learning_rate=0.002,\\\n",
    "                                    max_depth=4,\\\n",
    "                                    min_child_weight=3,\\\n",
    "                                    n_estimators=6000,\\\n",
    "                                    reg_alpha=0.04640,\\\n",
    "                                    reg_lambda=0.08571,\\\n",
    "                                    random_state=rs_const)\n",
    "model_xgb.fit(X_train, y_train)"
   ]
  },
  {
   "cell_type": "code",
   "execution_count": 248,
   "metadata": {},
   "outputs": [
    {
     "name": "stdout",
     "output_type": "stream",
     "text": [
      "RMSE train: 0.06611684432492773\n",
      "RMSE test : 0.10152059993040795\n"
     ]
    }
   ],
   "source": [
    "print(\"RMSE train: {}\".format(rmse(y_train, model_xgb.predict(X_train))))\n",
    "print(\"RMSE test : {}\".format(rmse(y_test,  model_xgb.predict(X_test))))"
   ]
  },
  {
   "cell_type": "code",
   "execution_count": null,
   "metadata": {},
   "outputs": [],
   "source": []
  },
  {
   "cell_type": "code",
   "execution_count": 249,
   "metadata": {},
   "outputs": [
    {
     "data": {
      "text/plain": [
       "XGBRegressor(base_score=0.5, booster='gbtree', colsample_bylevel=1,\n",
       "       colsample_bytree=0.8, gamma=0, learning_rate=0.002,\n",
       "       max_delta_step=0, max_depth=4, min_child_weight=3, missing=None,\n",
       "       n_estimators=6500, n_jobs=1, nthread=None, objective='reg:linear',\n",
       "       random_state=80, reg_alpha=0.0464, reg_lambda=0.08571,\n",
       "       scale_pos_weight=1, seed=None, silent=True, subsample=1)"
      ]
     },
     "execution_count": 249,
     "metadata": {},
     "output_type": "execute_result"
    }
   ],
   "source": [
    "model_xgb = xgb.XGBRegressor(\\\n",
    "                                    colsample_bytree=0.8,\\\n",
    "                                    gamma=0,\\\n",
    "                                    learning_rate=0.002,\\\n",
    "                                    max_depth=4,\\\n",
    "                                    min_child_weight=3,\\\n",
    "                                    n_estimators=6500,\\\n",
    "                                    reg_alpha=0.04640,\\\n",
    "                                    reg_lambda=0.08571,\\\n",
    "                                    random_state=rs_const)\n",
    "model_xgb.fit(X_train, y_train)"
   ]
  },
  {
   "cell_type": "code",
   "execution_count": 250,
   "metadata": {},
   "outputs": [
    {
     "name": "stdout",
     "output_type": "stream",
     "text": [
      "RMSE train: 0.0638569683045309\n",
      "RMSE test : 0.10129835164345537\n"
     ]
    }
   ],
   "source": [
    "print(\"RMSE train: {}\".format(rmse(y_train, model_xgb.predict(X_train))))\n",
    "print(\"RMSE test : {}\".format(rmse(y_test,  model_xgb.predict(X_test))))"
   ]
  },
  {
   "cell_type": "code",
   "execution_count": null,
   "metadata": {},
   "outputs": [],
   "source": []
  },
  {
   "cell_type": "code",
   "execution_count": 251,
   "metadata": {},
   "outputs": [
    {
     "data": {
      "text/plain": [
       "XGBRegressor(base_score=0.5, booster='gbtree', colsample_bylevel=1,\n",
       "       colsample_bytree=0.8, gamma=0, learning_rate=0.002,\n",
       "       max_delta_step=0, max_depth=4, min_child_weight=3, missing=None,\n",
       "       n_estimators=7000, n_jobs=1, nthread=-1, objective='reg:linear',\n",
       "       random_state=80, reg_alpha=0.0464, reg_lambda=0.08571,\n",
       "       scale_pos_weight=1, seed=None, silent=True, subsample=1)"
      ]
     },
     "execution_count": 251,
     "metadata": {},
     "output_type": "execute_result"
    }
   ],
   "source": [
    "model_xgb = xgb.XGBRegressor(\\\n",
    "                                    colsample_bytree=0.8,\\\n",
    "                                    gamma=0,\\\n",
    "                                    learning_rate=0.002,\\\n",
    "                                    max_depth=4,\\\n",
    "                                    min_child_weight=3,\\\n",
    "                                    n_estimators=7000,\\\n",
    "                                    reg_alpha=0.04640,\\\n",
    "                                    reg_lambda=0.08571,\\\n",
    "                                    nthread = -1,\\\n",
    "                                    random_state=rs_const)\n",
    "model_xgb.fit(X_train, y_train)"
   ]
  },
  {
   "cell_type": "code",
   "execution_count": 252,
   "metadata": {},
   "outputs": [
    {
     "name": "stdout",
     "output_type": "stream",
     "text": [
      "RMSE train: 0.06174250237964719\n",
      "RMSE test : 0.10105149982210708\n"
     ]
    }
   ],
   "source": [
    "print(\"RMSE train: {}\".format(rmse(y_train, model_xgb.predict(X_train))))\n",
    "print(\"RMSE test : {}\".format(rmse(y_test,  model_xgb.predict(X_test))))"
   ]
  },
  {
   "cell_type": "code",
   "execution_count": null,
   "metadata": {},
   "outputs": [],
   "source": []
  },
  {
   "cell_type": "code",
   "execution_count": 253,
   "metadata": {},
   "outputs": [
    {
     "data": {
      "text/plain": [
       "XGBRegressor(base_score=0.5, booster='gbtree', colsample_bylevel=1,\n",
       "       colsample_bytree=0.8, gamma=0, learning_rate=0.002,\n",
       "       max_delta_step=0, max_depth=4, min_child_weight=3, missing=None,\n",
       "       n_estimators=7200, n_jobs=1, nthread=-1, objective='reg:linear',\n",
       "       random_state=80, reg_alpha=0.0464, reg_lambda=0.08571,\n",
       "       scale_pos_weight=1, seed=None, silent=True, subsample=1)"
      ]
     },
     "execution_count": 253,
     "metadata": {},
     "output_type": "execute_result"
    }
   ],
   "source": [
    "model_xgb = xgb.XGBRegressor(\\\n",
    "                                    colsample_bytree=0.8,\\\n",
    "                                    gamma=0,\\\n",
    "                                    learning_rate=0.002,\\\n",
    "                                    max_depth=4,\\\n",
    "                                    min_child_weight=3,\\\n",
    "                                    n_estimators=7200,\\\n",
    "                                    reg_alpha=0.04640,\\\n",
    "                                    reg_lambda=0.08571,\\\n",
    "                                    nthread = -1,\\\n",
    "                                    random_state=rs_const)\n",
    "model_xgb.fit(X_train, y_train)"
   ]
  },
  {
   "cell_type": "code",
   "execution_count": 254,
   "metadata": {},
   "outputs": [
    {
     "name": "stdout",
     "output_type": "stream",
     "text": [
      "RMSE train: 0.06086721598085441\n",
      "RMSE test : 0.10094192984630652\n"
     ]
    }
   ],
   "source": [
    "print(\"RMSE train: {}\".format(rmse(y_train, model_xgb.predict(X_train))))\n",
    "print(\"RMSE test : {}\".format(rmse(y_test,  model_xgb.predict(X_test))))"
   ]
  },
  {
   "cell_type": "code",
   "execution_count": null,
   "metadata": {},
   "outputs": [],
   "source": []
  },
  {
   "cell_type": "code",
   "execution_count": 256,
   "metadata": {},
   "outputs": [
    {
     "data": {
      "text/plain": [
       "XGBRegressor(base_score=0.5, booster='gbtree', colsample_bylevel=1,\n",
       "       colsample_bytree=0.8, gamma=0, learning_rate=0.002,\n",
       "       max_delta_step=0, max_depth=3, min_child_weight=3, missing=None,\n",
       "       n_estimators=7200, n_jobs=1, nthread=-1, objective='reg:linear',\n",
       "       random_state=80, reg_alpha=0.0464, reg_lambda=0.08571,\n",
       "       scale_pos_weight=1, seed=None, silent=True, subsample=1)"
      ]
     },
     "execution_count": 256,
     "metadata": {},
     "output_type": "execute_result"
    }
   ],
   "source": [
    "model_xgb = xgb.XGBRegressor(\\\n",
    "                                    colsample_bytree=0.8,\\\n",
    "                                    gamma=0,\\\n",
    "                                    learning_rate=0.002,\\\n",
    "                                    max_depth=3,\\ ##changed from 4 to 3\n",
    "                                    min_child_weight=3,\\\n",
    "                                    n_estimators=7200,\\\n",
    "                                    reg_alpha=0.04640,\\\n",
    "                                    reg_lambda=0.08571,\\\n",
    "                                    nthread = -1,\\\n",
    "                                    random_state=rs_const)\n",
    "model_xgb.fit(X_train, y_train)"
   ]
  },
  {
   "cell_type": "code",
   "execution_count": 257,
   "metadata": {},
   "outputs": [
    {
     "name": "stdout",
     "output_type": "stream",
     "text": [
      "RMSE train: 0.07766532821485757\n",
      "RMSE test : 0.10224574703311681\n"
     ]
    }
   ],
   "source": [
    "print(\"RMSE train: {}\".format(rmse(y_train, model_xgb.predict(X_train))))\n",
    "print(\"RMSE test : {}\".format(rmse(y_test,  model_xgb.predict(X_test))))"
   ]
  },
  {
   "cell_type": "code",
   "execution_count": null,
   "metadata": {},
   "outputs": [],
   "source": []
  },
  {
   "cell_type": "code",
   "execution_count": 261,
   "metadata": {},
   "outputs": [
    {
     "data": {
      "text/plain": [
       "XGBRegressor(base_score=0.5, booster='gbtree', colsample_bylevel=1,\n",
       "       colsample_bytree=0.8, gamma=0, learning_rate=0.001,\n",
       "       max_delta_step=0, max_depth=4, min_child_weight=3, missing=None,\n",
       "       n_estimators=7200, n_jobs=1, nthread=-1, objective='reg:linear',\n",
       "       random_state=80, reg_alpha=0.0464, reg_lambda=0.08571,\n",
       "       scale_pos_weight=1, seed=None, silent=True, subsample=1)"
      ]
     },
     "execution_count": 261,
     "metadata": {},
     "output_type": "execute_result"
    }
   ],
   "source": [
    "model_xgb = xgb.XGBRegressor(\\\n",
    "                                    colsample_bytree=0.8,\\\n",
    "                                    gamma=0,\\\n",
    "                                    learning_rate=0.001,\\\n",
    "                                    max_depth=4,\\\n",
    "                                    min_child_weight=3,\\\n",
    "                                    n_estimators=7200,\\\n",
    "                                    reg_alpha=0.04640,\\\n",
    "                                    reg_lambda=0.08571,\\\n",
    "                                    nthread = -1,\\\n",
    "                                    random_state=rs_const)\n",
    "model_xgb.fit(X_train, y_train)"
   ]
  },
  {
   "cell_type": "code",
   "execution_count": 262,
   "metadata": {},
   "outputs": [
    {
     "name": "stdout",
     "output_type": "stream",
     "text": [
      "RMSE train: 0.07972196672416607\n",
      "RMSE test : 0.10283660880838062\n"
     ]
    }
   ],
   "source": [
    "print(\"RMSE train: {}\".format(rmse(y_train, model_xgb.predict(X_train))))\n",
    "print(\"RMSE test : {}\".format(rmse(y_test,  model_xgb.predict(X_test))))"
   ]
  },
  {
   "cell_type": "code",
   "execution_count": null,
   "metadata": {},
   "outputs": [],
   "source": []
  },
  {
   "cell_type": "code",
   "execution_count": 263,
   "metadata": {},
   "outputs": [
    {
     "data": {
      "text/plain": [
       "XGBRegressor(base_score=0.5, booster='gbtree', colsample_bylevel=1,\n",
       "       colsample_bytree=0.7, gamma=0, learning_rate=0.001,\n",
       "       max_delta_step=0, max_depth=4, min_child_weight=3, missing=None,\n",
       "       n_estimators=7200, n_jobs=1, nthread=-1, objective='reg:linear',\n",
       "       random_state=80, reg_alpha=0.0464, reg_lambda=0.08571,\n",
       "       scale_pos_weight=1, seed=None, silent=True, subsample=1)"
      ]
     },
     "execution_count": 263,
     "metadata": {},
     "output_type": "execute_result"
    }
   ],
   "source": [
    "model_xgb = xgb.XGBRegressor(\\\n",
    "                                    colsample_bytree=0.7,\\\n",
    "                                    gamma=0,\\\n",
    "                                    learning_rate=0.001,\\\n",
    "                                    max_depth=4,\\\n",
    "                                    min_child_weight=3,\\\n",
    "                                    n_estimators=7200,\\\n",
    "                                    reg_alpha=0.04640,\\\n",
    "                                    reg_lambda=0.08571,\\\n",
    "                                    nthread = -1,\\\n",
    "                                    random_state=rs_const)\n",
    "model_xgb.fit(X_train, y_train)"
   ]
  },
  {
   "cell_type": "code",
   "execution_count": 264,
   "metadata": {},
   "outputs": [
    {
     "name": "stdout",
     "output_type": "stream",
     "text": [
      "RMSE train: 0.08009420923249856\n",
      "RMSE test : 0.10210376447205215\n"
     ]
    }
   ],
   "source": [
    "print(\"RMSE train: {}\".format(rmse(y_train, model_xgb.predict(X_train))))\n",
    "print(\"RMSE test : {}\".format(rmse(y_test,  model_xgb.predict(X_test))))"
   ]
  },
  {
   "cell_type": "code",
   "execution_count": null,
   "metadata": {},
   "outputs": [],
   "source": []
  },
  {
   "cell_type": "code",
   "execution_count": 265,
   "metadata": {},
   "outputs": [
    {
     "data": {
      "text/plain": [
       "XGBRegressor(base_score=0.5, booster='gbtree', colsample_bylevel=1,\n",
       "       colsample_bytree=0.6, gamma=0, learning_rate=0.001,\n",
       "       max_delta_step=0, max_depth=4, min_child_weight=3, missing=None,\n",
       "       n_estimators=7200, n_jobs=1, nthread=-1, objective='reg:linear',\n",
       "       random_state=80, reg_alpha=0.0464, reg_lambda=0.08571,\n",
       "       scale_pos_weight=1, seed=None, silent=True, subsample=1)"
      ]
     },
     "execution_count": 265,
     "metadata": {},
     "output_type": "execute_result"
    }
   ],
   "source": [
    "model_xgb = xgb.XGBRegressor(\\\n",
    "                                    colsample_bytree=0.6,\\\n",
    "                                    gamma=0,\\\n",
    "                                    learning_rate=0.001,\\\n",
    "                                    max_depth=4,\\\n",
    "                                    min_child_weight=3,\\\n",
    "                                    n_estimators=7200,\\\n",
    "                                    reg_alpha=0.04640,\\\n",
    "                                    reg_lambda=0.08571,\\\n",
    "                                    nthread = -1,\\\n",
    "                                    random_state=rs_const)\n",
    "model_xgb.fit(X_train, y_train)"
   ]
  },
  {
   "cell_type": "code",
   "execution_count": 266,
   "metadata": {},
   "outputs": [
    {
     "name": "stdout",
     "output_type": "stream",
     "text": [
      "RMSE train: 0.08045970987425934\n",
      "RMSE test : 0.10176936313946804\n"
     ]
    }
   ],
   "source": [
    "print(\"RMSE train: {}\".format(rmse(y_train, model_xgb.predict(X_train))))\n",
    "print(\"RMSE test : {}\".format(rmse(y_test,  model_xgb.predict(X_test))))"
   ]
  },
  {
   "cell_type": "code",
   "execution_count": null,
   "metadata": {},
   "outputs": [],
   "source": []
  },
  {
   "cell_type": "code",
   "execution_count": 267,
   "metadata": {},
   "outputs": [
    {
     "data": {
      "text/plain": [
       "XGBRegressor(base_score=0.5, booster='gbtree', colsample_bylevel=1,\n",
       "       colsample_bytree=0.5, gamma=0, learning_rate=0.001,\n",
       "       max_delta_step=0, max_depth=4, min_child_weight=3, missing=None,\n",
       "       n_estimators=7200, n_jobs=1, nthread=-1, objective='reg:linear',\n",
       "       random_state=80, reg_alpha=0.0464, reg_lambda=0.08571,\n",
       "       scale_pos_weight=1, seed=None, silent=True, subsample=1)"
      ]
     },
     "execution_count": 267,
     "metadata": {},
     "output_type": "execute_result"
    }
   ],
   "source": [
    "model_xgb = xgb.XGBRegressor(\\\n",
    "                                    colsample_bytree=0.5,\\\n",
    "                                    gamma=0,\\\n",
    "                                    learning_rate=0.001,\\\n",
    "                                    max_depth=4,\\\n",
    "                                    min_child_weight=3,\\\n",
    "                                    n_estimators=7200,\\\n",
    "                                    reg_alpha=0.04640,\\\n",
    "                                    reg_lambda=0.08571,\\\n",
    "                                    nthread = -1,\\\n",
    "                                    random_state=rs_const)\n",
    "model_xgb.fit(X_train, y_train)"
   ]
  },
  {
   "cell_type": "code",
   "execution_count": 268,
   "metadata": {},
   "outputs": [
    {
     "name": "stdout",
     "output_type": "stream",
     "text": [
      "RMSE train: 0.0813878027335901\n",
      "RMSE test : 0.10166554563307795\n"
     ]
    }
   ],
   "source": [
    "print(\"RMSE train: {}\".format(rmse(y_train, model_xgb.predict(X_train))))\n",
    "print(\"RMSE test : {}\".format(rmse(y_test,  model_xgb.predict(X_test))))"
   ]
  },
  {
   "cell_type": "code",
   "execution_count": 313,
   "metadata": {},
   "outputs": [],
   "source": [
    "param_grid_xgb = {\n",
    "                    'colsample_bytree' : [0.5,0.6],\n",
    "                    'gamma': [0,1],\n",
    "                    'subsample':[0.5,1],\n",
    "                    'learning_rate':[0.001,0.05],\n",
    "                    'max_depth': [2,3,4], \n",
    "                    'nrounds':[100],\n",
    "                    'min_child_weight':[2,3,4],\n",
    "                    'n_estimators':[7200],\n",
    "                    'reg_alpha':[0.04640,0.5],\n",
    "                    'reg_lamda':[0.08571,0.6],\n",
    "}"
   ]
  },
  {
   "cell_type": "code",
   "execution_count": null,
   "metadata": {},
   "outputs": [],
   "source": []
  },
  {
   "cell_type": "code",
   "execution_count": null,
   "metadata": {},
   "outputs": [],
   "source": []
  },
  {
   "cell_type": "code",
   "execution_count": 314,
   "metadata": {},
   "outputs": [],
   "source": [
    "gridsearch_xgb= GridSearchCV(estimator=xgb.XGBRegressor(random_state=rs_const), param_grid=param_grid_xgb,n_jobs=-1,\\\n",
    "                                                        cv=5)#,verbose=True)"
   ]
  },
  {
   "cell_type": "code",
   "execution_count": null,
   "metadata": {},
   "outputs": [],
   "source": [
    "# use early_stopping_rounds to stop the cv when there is no score imporovement\n",
    "#clf_XGB.fit(X_train,y_train, early_stopping_rounds=20, eval_set=[(X_test, y_test)], verbose=False)"
   ]
  },
  {
   "cell_type": "code",
   "execution_count": 315,
   "metadata": {},
   "outputs": [
    {
     "name": "stdout",
     "output_type": "stream",
     "text": [
      "[0]\tvalidation_0-rmse:10.9532\n",
      "Will train until validation_0-rmse hasn't improved in 20 rounds.\n",
      "[1]\tvalidation_0-rmse:10.4066\n",
      "[2]\tvalidation_0-rmse:9.88733\n",
      "[3]\tvalidation_0-rmse:9.39403\n",
      "[4]\tvalidation_0-rmse:8.92542\n",
      "[5]\tvalidation_0-rmse:8.48081\n",
      "[6]\tvalidation_0-rmse:8.0586\n",
      "[7]\tvalidation_0-rmse:7.65749\n",
      "[8]\tvalidation_0-rmse:7.27598\n",
      "[9]\tvalidation_0-rmse:6.91391\n",
      "[10]\tvalidation_0-rmse:6.56998\n",
      "[11]\tvalidation_0-rmse:6.24243\n",
      "[12]\tvalidation_0-rmse:5.93163\n",
      "[13]\tvalidation_0-rmse:5.63574\n",
      "[14]\tvalidation_0-rmse:5.35559\n",
      "[15]\tvalidation_0-rmse:5.09019\n",
      "[16]\tvalidation_0-rmse:4.83672\n",
      "[17]\tvalidation_0-rmse:4.59564\n",
      "[18]\tvalidation_0-rmse:4.36739\n",
      "[19]\tvalidation_0-rmse:4.14982\n",
      "[20]\tvalidation_0-rmse:3.94395\n",
      "[21]\tvalidation_0-rmse:3.74763\n",
      "[22]\tvalidation_0-rmse:3.56159\n",
      "[23]\tvalidation_0-rmse:3.3844\n",
      "[24]\tvalidation_0-rmse:3.21646\n",
      "[25]\tvalidation_0-rmse:3.05686\n",
      "[26]\tvalidation_0-rmse:2.9053\n",
      "[27]\tvalidation_0-rmse:2.76066\n",
      "[28]\tvalidation_0-rmse:2.62391\n",
      "[29]\tvalidation_0-rmse:2.49285\n",
      "[30]\tvalidation_0-rmse:2.36942\n",
      "[31]\tvalidation_0-rmse:2.25154\n",
      "[32]\tvalidation_0-rmse:2.13949\n",
      "[33]\tvalidation_0-rmse:2.03427\n",
      "[34]\tvalidation_0-rmse:1.93279\n",
      "[35]\tvalidation_0-rmse:1.83688\n",
      "[36]\tvalidation_0-rmse:1.7462\n",
      "[37]\tvalidation_0-rmse:1.66017\n",
      "[38]\tvalidation_0-rmse:1.57766\n",
      "[39]\tvalidation_0-rmse:1.49936\n",
      "[40]\tvalidation_0-rmse:1.42497\n",
      "[41]\tvalidation_0-rmse:1.35421\n",
      "[42]\tvalidation_0-rmse:1.28733\n",
      "[43]\tvalidation_0-rmse:1.22366\n",
      "[44]\tvalidation_0-rmse:1.16318\n",
      "[45]\tvalidation_0-rmse:1.10603\n",
      "[46]\tvalidation_0-rmse:1.05138\n",
      "[47]\tvalidation_0-rmse:0.99955\n",
      "[48]\tvalidation_0-rmse:0.950796\n",
      "[49]\tvalidation_0-rmse:0.904335\n",
      "[50]\tvalidation_0-rmse:0.860189\n",
      "[51]\tvalidation_0-rmse:0.8181\n",
      "[52]\tvalidation_0-rmse:0.777953\n",
      "[53]\tvalidation_0-rmse:0.740011\n",
      "[54]\tvalidation_0-rmse:0.70408\n",
      "[55]\tvalidation_0-rmse:0.66973\n",
      "[56]\tvalidation_0-rmse:0.637442\n",
      "[57]\tvalidation_0-rmse:0.607087\n",
      "[58]\tvalidation_0-rmse:0.577774\n",
      "[59]\tvalidation_0-rmse:0.550302\n",
      "[60]\tvalidation_0-rmse:0.524117\n",
      "[61]\tvalidation_0-rmse:0.499214\n",
      "[62]\tvalidation_0-rmse:0.475369\n",
      "[63]\tvalidation_0-rmse:0.452701\n",
      "[64]\tvalidation_0-rmse:0.431299\n",
      "[65]\tvalidation_0-rmse:0.411056\n",
      "[66]\tvalidation_0-rmse:0.391814\n",
      "[67]\tvalidation_0-rmse:0.374002\n",
      "[68]\tvalidation_0-rmse:0.356851\n",
      "[69]\tvalidation_0-rmse:0.340824\n",
      "[70]\tvalidation_0-rmse:0.325386\n",
      "[71]\tvalidation_0-rmse:0.31086\n",
      "[72]\tvalidation_0-rmse:0.297218\n",
      "[73]\tvalidation_0-rmse:0.284402\n",
      "[74]\tvalidation_0-rmse:0.272501\n",
      "[75]\tvalidation_0-rmse:0.260967\n",
      "[76]\tvalidation_0-rmse:0.250246\n",
      "[77]\tvalidation_0-rmse:0.239925\n",
      "[78]\tvalidation_0-rmse:0.230713\n",
      "[79]\tvalidation_0-rmse:0.221624\n",
      "[80]\tvalidation_0-rmse:0.213144\n",
      "[81]\tvalidation_0-rmse:0.205183\n",
      "[82]\tvalidation_0-rmse:0.198051\n",
      "[83]\tvalidation_0-rmse:0.190939\n",
      "[84]\tvalidation_0-rmse:0.184718\n",
      "[85]\tvalidation_0-rmse:0.178354\n",
      "[86]\tvalidation_0-rmse:0.172769\n",
      "[87]\tvalidation_0-rmse:0.167402\n",
      "[88]\tvalidation_0-rmse:0.16267\n",
      "[89]\tvalidation_0-rmse:0.158285\n",
      "[90]\tvalidation_0-rmse:0.154189\n",
      "[91]\tvalidation_0-rmse:0.150331\n",
      "[92]\tvalidation_0-rmse:0.146698\n",
      "[93]\tvalidation_0-rmse:0.142984\n",
      "[94]\tvalidation_0-rmse:0.139813\n",
      "[95]\tvalidation_0-rmse:0.136892\n",
      "[96]\tvalidation_0-rmse:0.134045\n",
      "[97]\tvalidation_0-rmse:0.131628\n",
      "[98]\tvalidation_0-rmse:0.129454\n",
      "[99]\tvalidation_0-rmse:0.127541\n",
      "[100]\tvalidation_0-rmse:0.125749\n",
      "[101]\tvalidation_0-rmse:0.123732\n",
      "[102]\tvalidation_0-rmse:0.122125\n",
      "[103]\tvalidation_0-rmse:0.12084\n",
      "[104]\tvalidation_0-rmse:0.11958\n",
      "[105]\tvalidation_0-rmse:0.118372\n",
      "[106]\tvalidation_0-rmse:0.117164\n",
      "[107]\tvalidation_0-rmse:0.116036\n",
      "[108]\tvalidation_0-rmse:0.114931\n",
      "[109]\tvalidation_0-rmse:0.114066\n",
      "[110]\tvalidation_0-rmse:0.113379\n",
      "[111]\tvalidation_0-rmse:0.11263\n",
      "[112]\tvalidation_0-rmse:0.111919\n",
      "[113]\tvalidation_0-rmse:0.111344\n",
      "[114]\tvalidation_0-rmse:0.110803\n",
      "[115]\tvalidation_0-rmse:0.110299\n",
      "[116]\tvalidation_0-rmse:0.109853\n",
      "[117]\tvalidation_0-rmse:0.109414\n",
      "[118]\tvalidation_0-rmse:0.109195\n",
      "[119]\tvalidation_0-rmse:0.108908\n",
      "[120]\tvalidation_0-rmse:0.108396\n",
      "[121]\tvalidation_0-rmse:0.108129\n",
      "[122]\tvalidation_0-rmse:0.10775\n",
      "[123]\tvalidation_0-rmse:0.107582\n",
      "[124]\tvalidation_0-rmse:0.107408\n",
      "[125]\tvalidation_0-rmse:0.107145\n",
      "[126]\tvalidation_0-rmse:0.106957\n",
      "[127]\tvalidation_0-rmse:0.106881\n",
      "[128]\tvalidation_0-rmse:0.106777\n",
      "[129]\tvalidation_0-rmse:0.106559\n",
      "[130]\tvalidation_0-rmse:0.106519\n",
      "[131]\tvalidation_0-rmse:0.106381\n",
      "[132]\tvalidation_0-rmse:0.106275\n",
      "[133]\tvalidation_0-rmse:0.106093\n",
      "[134]\tvalidation_0-rmse:0.105851\n",
      "[135]\tvalidation_0-rmse:0.105735\n",
      "[136]\tvalidation_0-rmse:0.105593\n",
      "[137]\tvalidation_0-rmse:0.105538\n",
      "[138]\tvalidation_0-rmse:0.105427\n",
      "[139]\tvalidation_0-rmse:0.105324\n",
      "[140]\tvalidation_0-rmse:0.105191\n",
      "[141]\tvalidation_0-rmse:0.105079\n",
      "[142]\tvalidation_0-rmse:0.104987\n",
      "[143]\tvalidation_0-rmse:0.104882\n",
      "[144]\tvalidation_0-rmse:0.104757\n",
      "[145]\tvalidation_0-rmse:0.104721\n",
      "[146]\tvalidation_0-rmse:0.104536\n",
      "[147]\tvalidation_0-rmse:0.104417\n",
      "[148]\tvalidation_0-rmse:0.104348\n",
      "[149]\tvalidation_0-rmse:0.104287\n",
      "[150]\tvalidation_0-rmse:0.104153\n",
      "[151]\tvalidation_0-rmse:0.104003\n",
      "[152]\tvalidation_0-rmse:0.104014\n",
      "[153]\tvalidation_0-rmse:0.103968\n",
      "[154]\tvalidation_0-rmse:0.103898\n",
      "[155]\tvalidation_0-rmse:0.103876\n",
      "[156]\tvalidation_0-rmse:0.103948\n",
      "[157]\tvalidation_0-rmse:0.103945\n",
      "[158]\tvalidation_0-rmse:0.103953\n",
      "[159]\tvalidation_0-rmse:0.10396\n",
      "[160]\tvalidation_0-rmse:0.103859\n",
      "[161]\tvalidation_0-rmse:0.10382\n",
      "[162]\tvalidation_0-rmse:0.103674\n",
      "[163]\tvalidation_0-rmse:0.103737\n",
      "[164]\tvalidation_0-rmse:0.1036\n",
      "[165]\tvalidation_0-rmse:0.103605\n",
      "[166]\tvalidation_0-rmse:0.103602\n",
      "[167]\tvalidation_0-rmse:0.103477\n",
      "[168]\tvalidation_0-rmse:0.103361\n",
      "[169]\tvalidation_0-rmse:0.103346\n",
      "[170]\tvalidation_0-rmse:0.103224\n",
      "[171]\tvalidation_0-rmse:0.103242\n",
      "[172]\tvalidation_0-rmse:0.103206\n",
      "[173]\tvalidation_0-rmse:0.103188\n",
      "[174]\tvalidation_0-rmse:0.103166\n",
      "[175]\tvalidation_0-rmse:0.103124\n",
      "[176]\tvalidation_0-rmse:0.10312\n",
      "[177]\tvalidation_0-rmse:0.103108\n",
      "[178]\tvalidation_0-rmse:0.103148\n",
      "[179]\tvalidation_0-rmse:0.103078\n",
      "[180]\tvalidation_0-rmse:0.103131\n",
      "[181]\tvalidation_0-rmse:0.103102\n",
      "[182]\tvalidation_0-rmse:0.103172\n",
      "[183]\tvalidation_0-rmse:0.103142\n",
      "[184]\tvalidation_0-rmse:0.103048\n",
      "[185]\tvalidation_0-rmse:0.102955\n",
      "[186]\tvalidation_0-rmse:0.102901\n",
      "[187]\tvalidation_0-rmse:0.102916\n",
      "[188]\tvalidation_0-rmse:0.102812\n",
      "[189]\tvalidation_0-rmse:0.102869\n",
      "[190]\tvalidation_0-rmse:0.102937\n",
      "[191]\tvalidation_0-rmse:0.103011\n",
      "[192]\tvalidation_0-rmse:0.102955\n",
      "[193]\tvalidation_0-rmse:0.103022\n",
      "[194]\tvalidation_0-rmse:0.103025\n",
      "[195]\tvalidation_0-rmse:0.103007\n",
      "[196]\tvalidation_0-rmse:0.102953\n",
      "[197]\tvalidation_0-rmse:0.102908\n",
      "[198]\tvalidation_0-rmse:0.102996\n",
      "[199]\tvalidation_0-rmse:0.102925\n",
      "[200]\tvalidation_0-rmse:0.102894\n",
      "[201]\tvalidation_0-rmse:0.102853\n",
      "[202]\tvalidation_0-rmse:0.102828\n",
      "[203]\tvalidation_0-rmse:0.102843\n",
      "[204]\tvalidation_0-rmse:0.102825\n",
      "[205]\tvalidation_0-rmse:0.102885\n",
      "[206]\tvalidation_0-rmse:0.102946\n",
      "[207]\tvalidation_0-rmse:0.10289\n",
      "[208]\tvalidation_0-rmse:0.102915\n",
      "Stopping. Best iteration:\n",
      "[188]\tvalidation_0-rmse:0.102812\n",
      "\n"
     ]
    },
    {
     "data": {
      "text/plain": [
       "GridSearchCV(cv=5, error_score='raise-deprecating',\n",
       "       estimator=XGBRegressor(base_score=0.5, booster='gbtree', colsample_bylevel=1,\n",
       "       colsample_bytree=1, gamma=0, learning_rate=0.1, max_delta_step=0,\n",
       "       max_depth=3, min_child_weight=1, missing=None, n_estimators=100,\n",
       "       n_jobs=1, nthread=None, objective='reg:linear', random_state=80,\n",
       "       reg_alpha=0, reg_lambda=1, scale_pos_weight=1, seed=None,\n",
       "       silent=True, subsample=1),\n",
       "       fit_params=None, iid='warn', n_jobs=-1,\n",
       "       param_grid={'colsample_bytree': [0.5, 0.6], 'gamma': [0, 1], 'subsample': [0.5, 1], 'learning_rate': [0.001, 0.05], 'max_depth': [2, 3, 4], 'nrounds': [100], 'min_child_weight': [2, 3, 4], 'n_estimators': [7200], 'reg_alpha': [0.0464, 0.5], 'reg_lamda': [0.08571, 0.6]},\n",
       "       pre_dispatch='2*n_jobs', refit=True, return_train_score='warn',\n",
       "       scoring=None, verbose=0)"
      ]
     },
     "execution_count": 315,
     "metadata": {},
     "output_type": "execute_result"
    }
   ],
   "source": [
    "gridsearch_xgb.fit(X_train, y_train,early_stopping_rounds=20, eval_set=[(X_test, y_test)], verbose=True)"
   ]
  },
  {
   "cell_type": "code",
   "execution_count": 316,
   "metadata": {},
   "outputs": [
    {
     "name": "stdout",
     "output_type": "stream",
     "text": [
      "Best params: {'colsample_bytree': 0.6, 'gamma': 0, 'learning_rate': 0.05, 'max_depth': 4, 'min_child_weight': 4, 'n_estimators': 7200, 'nrounds': 100, 'reg_alpha': 0.0464, 'reg_lamda': 0.08571, 'subsample': 1}\n",
      "Best score : 0.896841628013883\n",
      "RMSE train: 0.07939488534471889\n",
      "RMSE test : 0.10281161716758491\n"
     ]
    }
   ],
   "source": [
    "print('Best params: {}'.format(gridsearch_xgb.best_params_))\n",
    "print('Best score : {}'.format(gridsearch_xgb.best_score_))\n",
    "\n",
    "model_xgb = gridsearch_xgb.best_estimator_\n",
    "print(\"RMSE train: {}\".format(rmse(y_train, model_xgb.predict(X_train))))\n",
    "print(\"RMSE test : {}\".format(rmse(y_test,  model_xgb.predict(X_test))))"
   ]
  },
  {
   "cell_type": "code",
   "execution_count": 317,
   "metadata": {},
   "outputs": [],
   "source": [
    "pickle.dump(model_xgb, open('model_xgb.pickle','wb'))"
   ]
  },
  {
   "cell_type": "code",
   "execution_count": null,
   "metadata": {},
   "outputs": [],
   "source": []
  },
  {
   "cell_type": "code",
   "execution_count": 325,
   "metadata": {},
   "outputs": [],
   "source": [
    "from scipy.stats import randint as sp_randint\n",
    "from sklearn.model_selection import RandomizedSearchCV"
   ]
  },
  {
   "cell_type": "code",
   "execution_count": 327,
   "metadata": {},
   "outputs": [
    {
     "name": "stdout",
     "output_type": "stream",
     "text": [
      "Fitting 5 folds for each of 20 candidates, totalling 100 fits\n"
     ]
    },
    {
     "name": "stderr",
     "output_type": "stream",
     "text": [
      "[Parallel(n_jobs=-1)]: Using backend LokyBackend with 4 concurrent workers.\n",
      "[Parallel(n_jobs=-1)]: Done   5 tasks      | elapsed:  4.2min\n",
      "[Parallel(n_jobs=-1)]: Done  10 tasks      | elapsed:  6.2min\n",
      "[Parallel(n_jobs=-1)]: Done  17 tasks      | elapsed: 10.6min\n",
      "[Parallel(n_jobs=-1)]: Done  24 tasks      | elapsed: 12.7min\n",
      "[Parallel(n_jobs=-1)]: Done  33 tasks      | elapsed: 18.1min\n",
      "[Parallel(n_jobs=-1)]: Done  42 tasks      | elapsed: 22.0min\n",
      "[Parallel(n_jobs=-1)]: Done  53 tasks      | elapsed: 27.7min\n",
      "[Parallel(n_jobs=-1)]: Done  64 tasks      | elapsed: 32.0min\n",
      "[Parallel(n_jobs=-1)]: Done  77 tasks      | elapsed: 39.1min\n",
      "[Parallel(n_jobs=-1)]: Done  90 tasks      | elapsed: 45.3min\n",
      "[Parallel(n_jobs=-1)]: Done 100 out of 100 | elapsed: 49.6min finished\n"
     ]
    },
    {
     "data": {
      "text/plain": [
       "RandomizedSearchCV(cv=5, error_score='raise-deprecating',\n",
       "          estimator=XGBRegressor(base_score=0.5, booster='gbtree', colsample_bylevel=1,\n",
       "       colsample_bytree=0.6, gamma=0, learning_rate=0.1, max_delta_step=0,\n",
       "       max_depth=3, min_child_weight=1, missing=None, n_estimators=7200,\n",
       "       n_jobs=1, nthread=None, objective='reg:linear', random_state=0,\n",
       "       reg_alpha=0, reg_lambda=1, scale_pos_weight=1, seed=None,\n",
       "       silent=True, subsample=1),\n",
       "          fit_params=None, iid='warn', n_iter=20, n_jobs=-1,\n",
       "          param_distributions={'reg_alpha': <scipy.stats._distn_infrastructure.rv_frozen object at 0x10f91d780>, 'reg_lamda': <scipy.stats._distn_infrastructure.rv_frozen object at 0x10f91da20>},\n",
       "          pre_dispatch='2*n_jobs', random_state=80, refit=True,\n",
       "          return_train_score='warn', scoring=None, verbose=10)"
      ]
     },
     "execution_count": 327,
     "metadata": {},
     "output_type": "execute_result"
    }
   ],
   "source": [
    "# specify parameters and distributions to sample from\n",
    "param_dist = {'reg_alpha':sp_randint(0.0464,1.0),\n",
    "              'reg_lamda':sp_randint(0.0464,1.0),\n",
    "             }\n",
    "\n",
    "# run randomized search\n",
    "n_iter_search = 20\n",
    "random_search = RandomizedSearchCV(xgb.XGBRegressor(n_estimators=7200,colsample_bytree= 0.6), param_distributions=param_dist, cv=5,\n",
    "                                   n_iter=n_iter_search, verbose=10, n_jobs=-1, random_state=80)\n",
    "\n",
    "\n",
    "random_search.fit(X_train, y_train)\n",
    "# report(random_search.cv_results_)"
   ]
  },
  {
   "cell_type": "code",
   "execution_count": 330,
   "metadata": {},
   "outputs": [
    {
     "ename": "NameError",
     "evalue": "name 'report' is not defined",
     "output_type": "error",
     "traceback": [
      "\u001b[0;31m---------------------------------------------------------------------------\u001b[0m",
      "\u001b[0;31mNameError\u001b[0m                                 Traceback (most recent call last)",
      "\u001b[0;32m<ipython-input-330-113c6f97fbb4>\u001b[0m in \u001b[0;36m<module>\u001b[0;34m\u001b[0m\n\u001b[0;32m----> 1\u001b[0;31m \u001b[0mreport\u001b[0m\u001b[0;34m(\u001b[0m\u001b[0mrandom_search\u001b[0m\u001b[0;34m.\u001b[0m\u001b[0mcv_results_\u001b[0m\u001b[0;34m)\u001b[0m\u001b[0;34m\u001b[0m\u001b[0;34m\u001b[0m\u001b[0m\n\u001b[0m\u001b[1;32m      2\u001b[0m \u001b[0;34m\u001b[0m\u001b[0m\n\u001b[1;32m      3\u001b[0m \u001b[0mprint\u001b[0m \u001b[0;34m(\u001b[0m\u001b[0;34m'Best Parameters: '\u001b[0m\u001b[0;34m,\u001b[0m \u001b[0mrandom_search\u001b[0m\u001b[0;34m.\u001b[0m\u001b[0mbest_params_\u001b[0m\u001b[0;34m)\u001b[0m\u001b[0;34m\u001b[0m\u001b[0;34m\u001b[0m\u001b[0m\n",
      "\u001b[0;31mNameError\u001b[0m: name 'report' is not defined"
     ]
    }
   ],
   "source": [
    "# report(random_search.cv_results_)\n",
    "\n",
    "print ('Best Parameters: ', random_search.best_params_)"
   ]
  },
  {
   "cell_type": "code",
   "execution_count": 331,
   "metadata": {},
   "outputs": [
    {
     "name": "stdout",
     "output_type": "stream",
     "text": [
      "RMSE train: 0.0024637632207474523\n",
      "RMSE test : 0.10312515205172232\n"
     ]
    }
   ],
   "source": [
    "model_xgb = random_search.best_estimator_\n",
    "print(\"RMSE train: {}\".format(rmse(y_train, random_search.predict(X_train))))\n",
    "print(\"RMSE test : {}\".format(rmse(y_test,  random_search.predict(X_test))))"
   ]
  },
  {
   "cell_type": "code",
   "execution_count": null,
   "metadata": {},
   "outputs": [],
   "source": []
  },
  {
   "cell_type": "code",
   "execution_count": null,
   "metadata": {},
   "outputs": [],
   "source": [
    "gridsearch_xgb= GridSearchCV(estimator=xgb.XGBRegressor(random_state=rs_const), param_grid=param_grid_xgb,n_jobs=-1,\\\n",
    "                                                        cv=5)#,verbose=True)"
   ]
  },
  {
   "cell_type": "code",
   "execution_count": 334,
   "metadata": {},
   "outputs": [
    {
     "name": "stdout",
     "output_type": "stream",
     "text": [
      "Fitting 5 folds for each of 20 candidates, totalling 100 fits\n"
     ]
    },
    {
     "name": "stderr",
     "output_type": "stream",
     "text": [
      "[Parallel(n_jobs=-1)]: Using backend LokyBackend with 4 concurrent workers.\n",
      "[Parallel(n_jobs=-1)]: Done   5 tasks      | elapsed:   34.5s\n",
      "[Parallel(n_jobs=-1)]: Done  10 tasks      | elapsed:   45.6s\n",
      "[Parallel(n_jobs=-1)]: Done  17 tasks      | elapsed:  1.0min\n",
      "[Parallel(n_jobs=-1)]: Done  24 tasks      | elapsed:  1.3min\n",
      "[Parallel(n_jobs=-1)]: Done  33 tasks      | elapsed:  1.7min\n",
      "[Parallel(n_jobs=-1)]: Done  42 tasks      | elapsed:  2.0min\n",
      "[Parallel(n_jobs=-1)]: Done  53 tasks      | elapsed:  2.3min\n",
      "[Parallel(n_jobs=-1)]: Done  64 tasks      | elapsed:  2.7min\n",
      "[Parallel(n_jobs=-1)]: Done  77 tasks      | elapsed:  3.2min\n",
      "[Parallel(n_jobs=-1)]: Done  90 tasks      | elapsed:  3.6min\n",
      "[Parallel(n_jobs=-1)]: Done 100 out of 100 | elapsed:  4.0min finished\n"
     ]
    },
    {
     "name": "stdout",
     "output_type": "stream",
     "text": [
      "[0]\tvalidation_0-rmse:10.9532\n",
      "Will train until validation_0-rmse hasn't improved in 20 rounds.\n",
      "[1]\tvalidation_0-rmse:10.4066\n",
      "[2]\tvalidation_0-rmse:9.88732\n",
      "[3]\tvalidation_0-rmse:9.39402\n",
      "[4]\tvalidation_0-rmse:8.92541\n",
      "[5]\tvalidation_0-rmse:8.48099\n",
      "[6]\tvalidation_0-rmse:8.05859\n",
      "[7]\tvalidation_0-rmse:7.65748\n",
      "[8]\tvalidation_0-rmse:7.27596\n",
      "[9]\tvalidation_0-rmse:6.91393\n",
      "[10]\tvalidation_0-rmse:6.56906\n",
      "[11]\tvalidation_0-rmse:6.24192\n",
      "[12]\tvalidation_0-rmse:5.93152\n",
      "[13]\tvalidation_0-rmse:5.63562\n",
      "[14]\tvalidation_0-rmse:5.35475\n",
      "[15]\tvalidation_0-rmse:5.08858\n",
      "[16]\tvalidation_0-rmse:4.83484\n",
      "[17]\tvalidation_0-rmse:4.5938\n",
      "[18]\tvalidation_0-rmse:4.36555\n",
      "[19]\tvalidation_0-rmse:4.14947\n",
      "[20]\tvalidation_0-rmse:3.94265\n",
      "[21]\tvalidation_0-rmse:3.74689\n",
      "[22]\tvalidation_0-rmse:3.561\n",
      "[23]\tvalidation_0-rmse:3.38382\n",
      "[24]\tvalidation_0-rmse:3.21562\n",
      "[25]\tvalidation_0-rmse:3.0562\n",
      "[26]\tvalidation_0-rmse:2.90418\n",
      "[27]\tvalidation_0-rmse:2.7595\n",
      "[28]\tvalidation_0-rmse:2.62296\n",
      "[29]\tvalidation_0-rmse:2.49195\n",
      "[30]\tvalidation_0-rmse:2.36849\n",
      "[31]\tvalidation_0-rmse:2.25067\n",
      "[32]\tvalidation_0-rmse:2.13885\n",
      "[33]\tvalidation_0-rmse:2.03269\n",
      "[34]\tvalidation_0-rmse:1.93153\n",
      "[35]\tvalidation_0-rmse:1.83568\n",
      "[36]\tvalidation_0-rmse:1.74463\n",
      "[37]\tvalidation_0-rmse:1.65856\n",
      "[38]\tvalidation_0-rmse:1.57628\n",
      "[39]\tvalidation_0-rmse:1.49807\n",
      "[40]\tvalidation_0-rmse:1.4242\n",
      "[41]\tvalidation_0-rmse:1.35395\n",
      "[42]\tvalidation_0-rmse:1.28669\n",
      "[43]\tvalidation_0-rmse:1.22317\n",
      "[44]\tvalidation_0-rmse:1.16305\n",
      "[45]\tvalidation_0-rmse:1.10592\n",
      "[46]\tvalidation_0-rmse:1.05108\n",
      "[47]\tvalidation_0-rmse:0.999671\n",
      "[48]\tvalidation_0-rmse:0.950291\n",
      "[49]\tvalidation_0-rmse:0.903508\n",
      "[50]\tvalidation_0-rmse:0.859048\n",
      "[51]\tvalidation_0-rmse:0.816613\n",
      "[52]\tvalidation_0-rmse:0.776623\n",
      "[53]\tvalidation_0-rmse:0.738629\n",
      "[54]\tvalidation_0-rmse:0.702122\n",
      "[55]\tvalidation_0-rmse:0.668208\n",
      "[56]\tvalidation_0-rmse:0.635896\n",
      "[57]\tvalidation_0-rmse:0.60499\n",
      "[58]\tvalidation_0-rmse:0.575917\n",
      "[59]\tvalidation_0-rmse:0.548388\n",
      "[60]\tvalidation_0-rmse:0.521719\n",
      "[61]\tvalidation_0-rmse:0.496925\n",
      "[62]\tvalidation_0-rmse:0.473356\n",
      "[63]\tvalidation_0-rmse:0.45119\n",
      "[64]\tvalidation_0-rmse:0.430325\n",
      "[65]\tvalidation_0-rmse:0.410155\n",
      "[66]\tvalidation_0-rmse:0.391167\n",
      "[67]\tvalidation_0-rmse:0.373324\n",
      "[68]\tvalidation_0-rmse:0.356235\n",
      "[69]\tvalidation_0-rmse:0.340069\n",
      "[70]\tvalidation_0-rmse:0.324854\n",
      "[71]\tvalidation_0-rmse:0.310421\n",
      "[72]\tvalidation_0-rmse:0.296754\n",
      "[73]\tvalidation_0-rmse:0.283694\n",
      "[74]\tvalidation_0-rmse:0.271616\n",
      "[75]\tvalidation_0-rmse:0.259968\n",
      "[76]\tvalidation_0-rmse:0.24905\n",
      "[77]\tvalidation_0-rmse:0.238977\n",
      "[78]\tvalidation_0-rmse:0.229499\n",
      "[79]\tvalidation_0-rmse:0.220637\n",
      "[80]\tvalidation_0-rmse:0.212188\n",
      "[81]\tvalidation_0-rmse:0.204155\n",
      "[82]\tvalidation_0-rmse:0.196514\n",
      "[83]\tvalidation_0-rmse:0.189624\n",
      "[84]\tvalidation_0-rmse:0.183121\n",
      "[85]\tvalidation_0-rmse:0.17704\n",
      "[86]\tvalidation_0-rmse:0.171358\n",
      "[87]\tvalidation_0-rmse:0.165887\n",
      "[88]\tvalidation_0-rmse:0.161015\n",
      "[89]\tvalidation_0-rmse:0.156398\n",
      "[90]\tvalidation_0-rmse:0.152107\n",
      "[91]\tvalidation_0-rmse:0.148275\n",
      "[92]\tvalidation_0-rmse:0.144612\n",
      "[93]\tvalidation_0-rmse:0.141218\n",
      "[94]\tvalidation_0-rmse:0.13793\n",
      "[95]\tvalidation_0-rmse:0.135145\n",
      "[96]\tvalidation_0-rmse:0.132386\n",
      "[97]\tvalidation_0-rmse:0.130083\n",
      "[98]\tvalidation_0-rmse:0.12785\n",
      "[99]\tvalidation_0-rmse:0.125499\n",
      "[100]\tvalidation_0-rmse:0.123562\n",
      "[101]\tvalidation_0-rmse:0.121781\n",
      "[102]\tvalidation_0-rmse:0.120224\n",
      "[103]\tvalidation_0-rmse:0.118869\n",
      "[104]\tvalidation_0-rmse:0.117276\n",
      "[105]\tvalidation_0-rmse:0.116031\n",
      "[106]\tvalidation_0-rmse:0.114989\n",
      "[107]\tvalidation_0-rmse:0.114076\n",
      "[108]\tvalidation_0-rmse:0.113238\n",
      "[109]\tvalidation_0-rmse:0.112344\n",
      "[110]\tvalidation_0-rmse:0.111524\n",
      "[111]\tvalidation_0-rmse:0.110728\n",
      "[112]\tvalidation_0-rmse:0.110132\n",
      "[113]\tvalidation_0-rmse:0.109631\n",
      "[114]\tvalidation_0-rmse:0.109105\n",
      "[115]\tvalidation_0-rmse:0.10858\n",
      "[116]\tvalidation_0-rmse:0.108202\n",
      "[117]\tvalidation_0-rmse:0.107691\n",
      "[118]\tvalidation_0-rmse:0.107319\n",
      "[119]\tvalidation_0-rmse:0.106946\n",
      "[120]\tvalidation_0-rmse:0.106572\n",
      "[121]\tvalidation_0-rmse:0.106275\n",
      "[122]\tvalidation_0-rmse:0.105906\n",
      "[123]\tvalidation_0-rmse:0.105627\n",
      "[124]\tvalidation_0-rmse:0.10545\n",
      "[125]\tvalidation_0-rmse:0.10522\n",
      "[126]\tvalidation_0-rmse:0.104955\n",
      "[127]\tvalidation_0-rmse:0.104811\n",
      "[128]\tvalidation_0-rmse:0.104668\n",
      "[129]\tvalidation_0-rmse:0.104642\n",
      "[130]\tvalidation_0-rmse:0.104545\n",
      "[131]\tvalidation_0-rmse:0.104387\n",
      "[132]\tvalidation_0-rmse:0.104165\n",
      "[133]\tvalidation_0-rmse:0.104054\n",
      "[134]\tvalidation_0-rmse:0.103903\n",
      "[135]\tvalidation_0-rmse:0.103705\n",
      "[136]\tvalidation_0-rmse:0.103329\n",
      "[137]\tvalidation_0-rmse:0.103274\n",
      "[138]\tvalidation_0-rmse:0.103092\n",
      "[139]\tvalidation_0-rmse:0.103016\n",
      "[140]\tvalidation_0-rmse:0.102959\n",
      "[141]\tvalidation_0-rmse:0.102889\n",
      "[142]\tvalidation_0-rmse:0.102845\n",
      "[143]\tvalidation_0-rmse:0.102807\n",
      "[144]\tvalidation_0-rmse:0.102697\n",
      "[145]\tvalidation_0-rmse:0.102651\n",
      "[146]\tvalidation_0-rmse:0.102535\n",
      "[147]\tvalidation_0-rmse:0.102451\n",
      "[148]\tvalidation_0-rmse:0.102501\n",
      "[149]\tvalidation_0-rmse:0.102382\n",
      "[150]\tvalidation_0-rmse:0.102352\n",
      "[151]\tvalidation_0-rmse:0.102312\n",
      "[152]\tvalidation_0-rmse:0.102249\n",
      "[153]\tvalidation_0-rmse:0.102161\n",
      "[154]\tvalidation_0-rmse:0.102182\n",
      "[155]\tvalidation_0-rmse:0.102136\n",
      "[156]\tvalidation_0-rmse:0.102051\n",
      "[157]\tvalidation_0-rmse:0.102098\n",
      "[158]\tvalidation_0-rmse:0.102243\n",
      "[159]\tvalidation_0-rmse:0.102296\n",
      "[160]\tvalidation_0-rmse:0.102304\n",
      "[161]\tvalidation_0-rmse:0.102303\n",
      "[162]\tvalidation_0-rmse:0.102152\n",
      "[163]\tvalidation_0-rmse:0.102179\n",
      "[164]\tvalidation_0-rmse:0.102135\n",
      "[165]\tvalidation_0-rmse:0.102116\n",
      "[166]\tvalidation_0-rmse:0.10217\n",
      "[167]\tvalidation_0-rmse:0.102216\n",
      "[168]\tvalidation_0-rmse:0.102263\n",
      "[169]\tvalidation_0-rmse:0.102222\n",
      "[170]\tvalidation_0-rmse:0.102164\n",
      "[171]\tvalidation_0-rmse:0.102119\n",
      "[172]\tvalidation_0-rmse:0.102113\n",
      "[173]\tvalidation_0-rmse:0.102126\n",
      "[174]\tvalidation_0-rmse:0.10212\n",
      "[175]\tvalidation_0-rmse:0.102125\n",
      "[176]\tvalidation_0-rmse:0.102057\n",
      "Stopping. Best iteration:\n",
      "[156]\tvalidation_0-rmse:0.102051\n",
      "\n"
     ]
    },
    {
     "data": {
      "text/plain": [
       "RandomizedSearchCV(cv=5, error_score='raise-deprecating',\n",
       "          estimator=XGBRegressor(base_score=0.5, booster='gbtree', colsample_bylevel=1,\n",
       "       colsample_bytree=1, gamma=0, learning_rate=0.1, max_delta_step=0,\n",
       "       max_depth=3, min_child_weight=1, missing=None, n_estimators=100,\n",
       "       n_jobs=1, nthread=None, objective='reg:linear', random_state=0,\n",
       "       reg_alpha=0, reg_lambda=1, scale_pos_weight=1, seed=None,\n",
       "       silent=True, subsample=1),\n",
       "          fit_params=None, iid='warn', n_iter=20, n_jobs=-1,\n",
       "          param_distributions={'n_estimators': <scipy.stats._distn_infrastructure.rv_frozen object at 0x11003b940>, 'learning_rate': [0.05], 'max_depth': [4], 'min_child_weight': [4], 'subsample': [1]},\n",
       "          pre_dispatch='2*n_jobs', random_state=80, refit=True,\n",
       "          return_train_score='warn', scoring=None, verbose=10)"
      ]
     },
     "execution_count": 334,
     "metadata": {},
     "output_type": "execute_result"
    }
   ],
   "source": [
    "# specify parameters and distributions to sample from\n",
    "param_dist = {'n_estimators':sp_randint(7000,7500),\n",
    "              'learning_rate':[0.05],\n",
    "               'max_depth':[4],\n",
    "               'min_child_weight':[4],\n",
    "               'subsample':[1],\n",
    "             }\n",
    "\n",
    "# run randomized search\n",
    "n_iter_search = 20\n",
    "random_search = RandomizedSearchCV(xgb.XGBRegressor(), param_distributions=param_dist, cv=5,\n",
    "                                   n_iter=n_iter_search, verbose=10, n_jobs=-1, random_state=80)\n",
    "\n",
    "\n",
    "random_search.fit(X_train, y_train,early_stopping_rounds=20, eval_set=[(X_test, y_test)], verbose=True)\n",
    "\n",
    "\n",
    "# report(random_search.cv_results_)"
   ]
  },
  {
   "cell_type": "code",
   "execution_count": 335,
   "metadata": {},
   "outputs": [
    {
     "name": "stdout",
     "output_type": "stream",
     "text": [
      "RMSE train: 0.0824840355256234\n",
      "RMSE test : 0.10205096277974163\n"
     ]
    }
   ],
   "source": [
    "model_xgb = random_search.best_estimator_\n",
    "print(\"RMSE train: {}\".format(rmse(y_train, random_search.predict(X_train))))\n",
    "print(\"RMSE test : {}\".format(rmse(y_test,  random_search.predict(X_test))))"
   ]
  },
  {
   "cell_type": "code",
   "execution_count": 336,
   "metadata": {},
   "outputs": [
    {
     "data": {
      "text/plain": [
       "XGBRegressor(base_score=0.5, booster='gbtree', colsample_bylevel=1,\n",
       "       colsample_bytree=1, gamma=0, learning_rate=0.05, max_delta_step=0,\n",
       "       max_depth=4, min_child_weight=4, missing=None, n_estimators=7175,\n",
       "       n_jobs=1, nthread=None, objective='reg:linear', random_state=0,\n",
       "       reg_alpha=0, reg_lambda=1, scale_pos_weight=1, seed=None,\n",
       "       silent=True, subsample=1)"
      ]
     },
     "execution_count": 336,
     "metadata": {},
     "output_type": "execute_result"
    }
   ],
   "source": [
    "random_search.best_estimator_"
   ]
  },
  {
   "cell_type": "code",
   "execution_count": null,
   "metadata": {},
   "outputs": [],
   "source": []
  },
  {
   "cell_type": "code",
   "execution_count": 345,
   "metadata": {},
   "outputs": [
    {
     "name": "stdout",
     "output_type": "stream",
     "text": [
      "Fitting 5 folds for each of 20 candidates, totalling 100 fits\n"
     ]
    },
    {
     "name": "stderr",
     "output_type": "stream",
     "text": [
      "[Parallel(n_jobs=-1)]: Using backend LokyBackend with 4 concurrent workers.\n",
      "[Parallel(n_jobs=-1)]: Done   5 tasks      | elapsed:   44.9s\n",
      "[Parallel(n_jobs=-1)]: Done  10 tasks      | elapsed:  4.2min\n",
      "[Parallel(n_jobs=-1)]: Done  17 tasks      | elapsed:  4.5min\n",
      "[Parallel(n_jobs=-1)]: Done  24 tasks      | elapsed: 12.0min\n",
      "[Parallel(n_jobs=-1)]: Done  33 tasks      | elapsed: 19.9min\n",
      "[Parallel(n_jobs=-1)]: Done  42 tasks      | elapsed: 24.2min\n",
      "[Parallel(n_jobs=-1)]: Done  53 tasks      | elapsed: 37.7min\n",
      "[Parallel(n_jobs=-1)]: Done  64 tasks      | elapsed: 46.5min\n",
      "[Parallel(n_jobs=-1)]: Done  77 tasks      | elapsed: 55.0min\n",
      "[Parallel(n_jobs=-1)]: Done  90 tasks      | elapsed: 64.6min\n",
      "[Parallel(n_jobs=-1)]: Done 100 out of 100 | elapsed: 73.7min finished\n"
     ]
    },
    {
     "name": "stdout",
     "output_type": "stream",
     "text": [
      "[0]\tvalidation_0-rmse:10.9532\n",
      "Will train until validation_0-rmse hasn't improved in 20 rounds.\n",
      "[1]\tvalidation_0-rmse:10.4066\n",
      "[2]\tvalidation_0-rmse:9.88732\n",
      "[3]\tvalidation_0-rmse:9.39402\n",
      "[4]\tvalidation_0-rmse:8.92541\n",
      "[5]\tvalidation_0-rmse:8.48099\n",
      "[6]\tvalidation_0-rmse:8.05859\n",
      "[7]\tvalidation_0-rmse:7.65748\n",
      "[8]\tvalidation_0-rmse:7.27596\n",
      "[9]\tvalidation_0-rmse:6.91393\n",
      "[10]\tvalidation_0-rmse:6.56906\n",
      "[11]\tvalidation_0-rmse:6.24192\n",
      "[12]\tvalidation_0-rmse:5.93152\n",
      "[13]\tvalidation_0-rmse:5.63562\n",
      "[14]\tvalidation_0-rmse:5.35475\n",
      "[15]\tvalidation_0-rmse:5.08858\n",
      "[16]\tvalidation_0-rmse:4.83484\n",
      "[17]\tvalidation_0-rmse:4.5938\n",
      "[18]\tvalidation_0-rmse:4.36555\n",
      "[19]\tvalidation_0-rmse:4.14947\n",
      "[20]\tvalidation_0-rmse:3.94265\n",
      "[21]\tvalidation_0-rmse:3.74689\n",
      "[22]\tvalidation_0-rmse:3.561\n",
      "[23]\tvalidation_0-rmse:3.38382\n",
      "[24]\tvalidation_0-rmse:3.21562\n",
      "[25]\tvalidation_0-rmse:3.0562\n",
      "[26]\tvalidation_0-rmse:2.90418\n",
      "[27]\tvalidation_0-rmse:2.7595\n",
      "[28]\tvalidation_0-rmse:2.62296\n",
      "[29]\tvalidation_0-rmse:2.49195\n",
      "[30]\tvalidation_0-rmse:2.36849\n",
      "[31]\tvalidation_0-rmse:2.25067\n",
      "[32]\tvalidation_0-rmse:2.13876\n",
      "[33]\tvalidation_0-rmse:2.03284\n",
      "[34]\tvalidation_0-rmse:1.9316\n",
      "[35]\tvalidation_0-rmse:1.83581\n",
      "[36]\tvalidation_0-rmse:1.74502\n",
      "[37]\tvalidation_0-rmse:1.65814\n",
      "[38]\tvalidation_0-rmse:1.57588\n",
      "[39]\tvalidation_0-rmse:1.49795\n",
      "[40]\tvalidation_0-rmse:1.42383\n",
      "[41]\tvalidation_0-rmse:1.35366\n",
      "[42]\tvalidation_0-rmse:1.28667\n",
      "[43]\tvalidation_0-rmse:1.22307\n",
      "[44]\tvalidation_0-rmse:1.16279\n",
      "[45]\tvalidation_0-rmse:1.10562\n",
      "[46]\tvalidation_0-rmse:1.05131\n",
      "[47]\tvalidation_0-rmse:0.999801\n",
      "[48]\tvalidation_0-rmse:0.950282\n",
      "[49]\tvalidation_0-rmse:0.903534\n",
      "[50]\tvalidation_0-rmse:0.858776\n",
      "[51]\tvalidation_0-rmse:0.816797\n",
      "[52]\tvalidation_0-rmse:0.776743\n",
      "[53]\tvalidation_0-rmse:0.738945\n",
      "[54]\tvalidation_0-rmse:0.703001\n",
      "[55]\tvalidation_0-rmse:0.668521\n",
      "[56]\tvalidation_0-rmse:0.635763\n",
      "[57]\tvalidation_0-rmse:0.604979\n",
      "[58]\tvalidation_0-rmse:0.576076\n",
      "[59]\tvalidation_0-rmse:0.548304\n",
      "[60]\tvalidation_0-rmse:0.522238\n",
      "[61]\tvalidation_0-rmse:0.497262\n",
      "[62]\tvalidation_0-rmse:0.473616\n",
      "[63]\tvalidation_0-rmse:0.451425\n",
      "[64]\tvalidation_0-rmse:0.430021\n",
      "[65]\tvalidation_0-rmse:0.409802\n",
      "[66]\tvalidation_0-rmse:0.39068\n",
      "[67]\tvalidation_0-rmse:0.3727\n",
      "[68]\tvalidation_0-rmse:0.355556\n",
      "[69]\tvalidation_0-rmse:0.339549\n",
      "[70]\tvalidation_0-rmse:0.324316\n",
      "[71]\tvalidation_0-rmse:0.309861\n",
      "[72]\tvalidation_0-rmse:0.296318\n",
      "[73]\tvalidation_0-rmse:0.283474\n",
      "[74]\tvalidation_0-rmse:0.271316\n",
      "[75]\tvalidation_0-rmse:0.259861\n",
      "[76]\tvalidation_0-rmse:0.248986\n",
      "[77]\tvalidation_0-rmse:0.238721\n",
      "[78]\tvalidation_0-rmse:0.229127\n",
      "[79]\tvalidation_0-rmse:0.220251\n",
      "[80]\tvalidation_0-rmse:0.211971\n",
      "[81]\tvalidation_0-rmse:0.204193\n",
      "[82]\tvalidation_0-rmse:0.196771\n",
      "[83]\tvalidation_0-rmse:0.189991\n",
      "[84]\tvalidation_0-rmse:0.183465\n",
      "[85]\tvalidation_0-rmse:0.177217\n",
      "[86]\tvalidation_0-rmse:0.171612\n",
      "[87]\tvalidation_0-rmse:0.166317\n",
      "[88]\tvalidation_0-rmse:0.161354\n",
      "[89]\tvalidation_0-rmse:0.156779\n",
      "[90]\tvalidation_0-rmse:0.152405\n",
      "[91]\tvalidation_0-rmse:0.148432\n",
      "[92]\tvalidation_0-rmse:0.144822\n",
      "[93]\tvalidation_0-rmse:0.141449\n",
      "[94]\tvalidation_0-rmse:0.138258\n",
      "[95]\tvalidation_0-rmse:0.135306\n",
      "[96]\tvalidation_0-rmse:0.13273\n",
      "[97]\tvalidation_0-rmse:0.130255\n",
      "[98]\tvalidation_0-rmse:0.127994\n",
      "[99]\tvalidation_0-rmse:0.125947\n",
      "[100]\tvalidation_0-rmse:0.124098\n",
      "[101]\tvalidation_0-rmse:0.122322\n",
      "[102]\tvalidation_0-rmse:0.120763\n",
      "[103]\tvalidation_0-rmse:0.119356\n",
      "[104]\tvalidation_0-rmse:0.118098\n",
      "[105]\tvalidation_0-rmse:0.116735\n",
      "[106]\tvalidation_0-rmse:0.11557\n",
      "[107]\tvalidation_0-rmse:0.114468\n",
      "[108]\tvalidation_0-rmse:0.113514\n",
      "[109]\tvalidation_0-rmse:0.11269\n",
      "[110]\tvalidation_0-rmse:0.111858\n",
      "[111]\tvalidation_0-rmse:0.111116\n",
      "[112]\tvalidation_0-rmse:0.110473\n",
      "[113]\tvalidation_0-rmse:0.109848\n",
      "[114]\tvalidation_0-rmse:0.109324\n",
      "[115]\tvalidation_0-rmse:0.10888\n",
      "[116]\tvalidation_0-rmse:0.108445\n",
      "[117]\tvalidation_0-rmse:0.108016\n",
      "[118]\tvalidation_0-rmse:0.107601\n",
      "[119]\tvalidation_0-rmse:0.107257\n",
      "[120]\tvalidation_0-rmse:0.10692\n",
      "[121]\tvalidation_0-rmse:0.106515\n",
      "[122]\tvalidation_0-rmse:0.106304\n",
      "[123]\tvalidation_0-rmse:0.105934\n",
      "[124]\tvalidation_0-rmse:0.105677\n",
      "[125]\tvalidation_0-rmse:0.105439\n",
      "[126]\tvalidation_0-rmse:0.105042\n",
      "[127]\tvalidation_0-rmse:0.104888\n",
      "[128]\tvalidation_0-rmse:0.104751\n",
      "[129]\tvalidation_0-rmse:0.104547\n",
      "[130]\tvalidation_0-rmse:0.104407\n",
      "[131]\tvalidation_0-rmse:0.104257\n",
      "[132]\tvalidation_0-rmse:0.104101\n",
      "[133]\tvalidation_0-rmse:0.103839\n",
      "[134]\tvalidation_0-rmse:0.103592\n",
      "[135]\tvalidation_0-rmse:0.103574\n",
      "[136]\tvalidation_0-rmse:0.103363\n",
      "[137]\tvalidation_0-rmse:0.103194\n",
      "[138]\tvalidation_0-rmse:0.103025\n",
      "[139]\tvalidation_0-rmse:0.102965\n",
      "[140]\tvalidation_0-rmse:0.103057\n",
      "[141]\tvalidation_0-rmse:0.10289\n",
      "[142]\tvalidation_0-rmse:0.102815\n",
      "[143]\tvalidation_0-rmse:0.102742\n",
      "[144]\tvalidation_0-rmse:0.102723\n",
      "[145]\tvalidation_0-rmse:0.102571\n",
      "[146]\tvalidation_0-rmse:0.102443\n",
      "[147]\tvalidation_0-rmse:0.102417\n",
      "[148]\tvalidation_0-rmse:0.102397\n",
      "[149]\tvalidation_0-rmse:0.102321\n",
      "[150]\tvalidation_0-rmse:0.102317\n",
      "[151]\tvalidation_0-rmse:0.102192\n",
      "[152]\tvalidation_0-rmse:0.102142\n",
      "[153]\tvalidation_0-rmse:0.102044\n",
      "[154]\tvalidation_0-rmse:0.10195\n",
      "[155]\tvalidation_0-rmse:0.101971\n",
      "[156]\tvalidation_0-rmse:0.102033\n",
      "[157]\tvalidation_0-rmse:0.101948\n",
      "[158]\tvalidation_0-rmse:0.101896\n",
      "[159]\tvalidation_0-rmse:0.101823\n",
      "[160]\tvalidation_0-rmse:0.101716\n",
      "[161]\tvalidation_0-rmse:0.101744\n",
      "[162]\tvalidation_0-rmse:0.101624\n",
      "[163]\tvalidation_0-rmse:0.101569\n",
      "[164]\tvalidation_0-rmse:0.101509\n",
      "[165]\tvalidation_0-rmse:0.101492\n",
      "[166]\tvalidation_0-rmse:0.101382\n",
      "[167]\tvalidation_0-rmse:0.101419\n",
      "[168]\tvalidation_0-rmse:0.101395\n",
      "[169]\tvalidation_0-rmse:0.101345\n",
      "[170]\tvalidation_0-rmse:0.101314\n",
      "[171]\tvalidation_0-rmse:0.101275\n",
      "[172]\tvalidation_0-rmse:0.101229\n",
      "[173]\tvalidation_0-rmse:0.101087\n",
      "[174]\tvalidation_0-rmse:0.101094\n",
      "[175]\tvalidation_0-rmse:0.101087\n",
      "[176]\tvalidation_0-rmse:0.101078\n",
      "[177]\tvalidation_0-rmse:0.101057\n",
      "[178]\tvalidation_0-rmse:0.100896\n",
      "[179]\tvalidation_0-rmse:0.100911\n",
      "[180]\tvalidation_0-rmse:0.100752\n",
      "[181]\tvalidation_0-rmse:0.100751\n",
      "[182]\tvalidation_0-rmse:0.100777\n",
      "[183]\tvalidation_0-rmse:0.100808\n",
      "[184]\tvalidation_0-rmse:0.100767\n",
      "[185]\tvalidation_0-rmse:0.100799\n",
      "[186]\tvalidation_0-rmse:0.100738\n",
      "[187]\tvalidation_0-rmse:0.100738\n",
      "[188]\tvalidation_0-rmse:0.10076\n",
      "[189]\tvalidation_0-rmse:0.100799\n",
      "[190]\tvalidation_0-rmse:0.100813\n",
      "[191]\tvalidation_0-rmse:0.100805\n",
      "[192]\tvalidation_0-rmse:0.100818\n",
      "[193]\tvalidation_0-rmse:0.100801\n",
      "[194]\tvalidation_0-rmse:0.100874\n",
      "[195]\tvalidation_0-rmse:0.100801\n",
      "[196]\tvalidation_0-rmse:0.100743\n",
      "[197]\tvalidation_0-rmse:0.100681\n",
      "[198]\tvalidation_0-rmse:0.10067\n",
      "[199]\tvalidation_0-rmse:0.100669\n",
      "[200]\tvalidation_0-rmse:0.100724\n",
      "[201]\tvalidation_0-rmse:0.100756\n",
      "[202]\tvalidation_0-rmse:0.100763\n",
      "[203]\tvalidation_0-rmse:0.100818\n",
      "[204]\tvalidation_0-rmse:0.100782\n",
      "[205]\tvalidation_0-rmse:0.100691\n",
      "[206]\tvalidation_0-rmse:0.100697\n",
      "[207]\tvalidation_0-rmse:0.100679\n",
      "[208]\tvalidation_0-rmse:0.100637\n",
      "[209]\tvalidation_0-rmse:0.100605\n",
      "[210]\tvalidation_0-rmse:0.100527\n",
      "[211]\tvalidation_0-rmse:0.100552\n",
      "[212]\tvalidation_0-rmse:0.100528\n",
      "[213]\tvalidation_0-rmse:0.100511\n",
      "[214]\tvalidation_0-rmse:0.100528\n",
      "[215]\tvalidation_0-rmse:0.100508\n",
      "[216]\tvalidation_0-rmse:0.100529\n",
      "[217]\tvalidation_0-rmse:0.100456\n",
      "[218]\tvalidation_0-rmse:0.100508\n",
      "[219]\tvalidation_0-rmse:0.100597\n",
      "[220]\tvalidation_0-rmse:0.100566\n",
      "[221]\tvalidation_0-rmse:0.100551\n",
      "[222]\tvalidation_0-rmse:0.100512\n",
      "[223]\tvalidation_0-rmse:0.100484\n",
      "[224]\tvalidation_0-rmse:0.100442\n",
      "[225]\tvalidation_0-rmse:0.100425\n",
      "[226]\tvalidation_0-rmse:0.100361\n",
      "[227]\tvalidation_0-rmse:0.100285\n",
      "[228]\tvalidation_0-rmse:0.100315\n",
      "[229]\tvalidation_0-rmse:0.100337\n",
      "[230]\tvalidation_0-rmse:0.100281\n",
      "[231]\tvalidation_0-rmse:0.1003\n",
      "[232]\tvalidation_0-rmse:0.100283\n",
      "[233]\tvalidation_0-rmse:0.100255\n",
      "[234]\tvalidation_0-rmse:0.100236\n",
      "[235]\tvalidation_0-rmse:0.100176\n",
      "[236]\tvalidation_0-rmse:0.100165\n",
      "[237]\tvalidation_0-rmse:0.100206\n",
      "[238]\tvalidation_0-rmse:0.100146\n",
      "[239]\tvalidation_0-rmse:0.100155\n",
      "[240]\tvalidation_0-rmse:0.100159\n",
      "[241]\tvalidation_0-rmse:0.100204\n",
      "[242]\tvalidation_0-rmse:0.100159\n",
      "[243]\tvalidation_0-rmse:0.100128\n",
      "[244]\tvalidation_0-rmse:0.100134\n",
      "[245]\tvalidation_0-rmse:0.100172\n",
      "[246]\tvalidation_0-rmse:0.100159\n",
      "[247]\tvalidation_0-rmse:0.10014\n",
      "[248]\tvalidation_0-rmse:0.100096\n",
      "[249]\tvalidation_0-rmse:0.100077\n",
      "[250]\tvalidation_0-rmse:0.100082\n",
      "[251]\tvalidation_0-rmse:0.100052\n",
      "[252]\tvalidation_0-rmse:0.100068\n",
      "[253]\tvalidation_0-rmse:0.10006\n",
      "[254]\tvalidation_0-rmse:0.100136\n",
      "[255]\tvalidation_0-rmse:0.100152\n",
      "[256]\tvalidation_0-rmse:0.10004\n",
      "[257]\tvalidation_0-rmse:0.100053\n",
      "[258]\tvalidation_0-rmse:0.099995\n",
      "[259]\tvalidation_0-rmse:0.099967\n",
      "[260]\tvalidation_0-rmse:0.099892\n",
      "[261]\tvalidation_0-rmse:0.099877\n",
      "[262]\tvalidation_0-rmse:0.099832\n",
      "[263]\tvalidation_0-rmse:0.099833\n",
      "[264]\tvalidation_0-rmse:0.099849\n",
      "[265]\tvalidation_0-rmse:0.099833\n",
      "[266]\tvalidation_0-rmse:0.099798\n",
      "[267]\tvalidation_0-rmse:0.099742\n",
      "[268]\tvalidation_0-rmse:0.099658\n",
      "[269]\tvalidation_0-rmse:0.09959\n",
      "[270]\tvalidation_0-rmse:0.099588\n",
      "[271]\tvalidation_0-rmse:0.09958\n",
      "[272]\tvalidation_0-rmse:0.099563\n",
      "[273]\tvalidation_0-rmse:0.099532\n",
      "[274]\tvalidation_0-rmse:0.099495\n",
      "[275]\tvalidation_0-rmse:0.099472\n",
      "[276]\tvalidation_0-rmse:0.099467\n",
      "[277]\tvalidation_0-rmse:0.099461\n",
      "[278]\tvalidation_0-rmse:0.099471\n",
      "[279]\tvalidation_0-rmse:0.099456\n",
      "[280]\tvalidation_0-rmse:0.099435\n",
      "[281]\tvalidation_0-rmse:0.099386\n",
      "[282]\tvalidation_0-rmse:0.099383\n",
      "[283]\tvalidation_0-rmse:0.099385\n",
      "[284]\tvalidation_0-rmse:0.09937\n",
      "[285]\tvalidation_0-rmse:0.09937\n",
      "[286]\tvalidation_0-rmse:0.099393\n",
      "[287]\tvalidation_0-rmse:0.099393\n",
      "[288]\tvalidation_0-rmse:0.099287\n",
      "[289]\tvalidation_0-rmse:0.099235\n",
      "[290]\tvalidation_0-rmse:0.099245\n",
      "[291]\tvalidation_0-rmse:0.099275\n",
      "[292]\tvalidation_0-rmse:0.099171\n",
      "[293]\tvalidation_0-rmse:0.099147\n",
      "[294]\tvalidation_0-rmse:0.099157\n",
      "[295]\tvalidation_0-rmse:0.099152\n",
      "[296]\tvalidation_0-rmse:0.099148\n",
      "[297]\tvalidation_0-rmse:0.099198\n",
      "[298]\tvalidation_0-rmse:0.099146\n",
      "[299]\tvalidation_0-rmse:0.099154\n",
      "[300]\tvalidation_0-rmse:0.099109\n",
      "[301]\tvalidation_0-rmse:0.099082\n",
      "[302]\tvalidation_0-rmse:0.099074\n",
      "[303]\tvalidation_0-rmse:0.099024\n",
      "[304]\tvalidation_0-rmse:0.099018\n",
      "[305]\tvalidation_0-rmse:0.09899\n",
      "[306]\tvalidation_0-rmse:0.098983\n",
      "[307]\tvalidation_0-rmse:0.098895\n",
      "[308]\tvalidation_0-rmse:0.098799\n",
      "[309]\tvalidation_0-rmse:0.098751\n",
      "[310]\tvalidation_0-rmse:0.098767\n",
      "[311]\tvalidation_0-rmse:0.098764\n",
      "[312]\tvalidation_0-rmse:0.098775\n",
      "[313]\tvalidation_0-rmse:0.098842\n",
      "[314]\tvalidation_0-rmse:0.098864\n",
      "[315]\tvalidation_0-rmse:0.098831\n",
      "[316]\tvalidation_0-rmse:0.098758\n",
      "[317]\tvalidation_0-rmse:0.098755\n",
      "[318]\tvalidation_0-rmse:0.098697\n",
      "[319]\tvalidation_0-rmse:0.098693\n",
      "[320]\tvalidation_0-rmse:0.098659\n",
      "[321]\tvalidation_0-rmse:0.098643\n",
      "[322]\tvalidation_0-rmse:0.098641\n",
      "[323]\tvalidation_0-rmse:0.098572\n",
      "[324]\tvalidation_0-rmse:0.098567\n",
      "[325]\tvalidation_0-rmse:0.098626\n",
      "[326]\tvalidation_0-rmse:0.098622\n",
      "[327]\tvalidation_0-rmse:0.09864\n",
      "[328]\tvalidation_0-rmse:0.098664\n",
      "[329]\tvalidation_0-rmse:0.09862\n",
      "[330]\tvalidation_0-rmse:0.098582\n",
      "[331]\tvalidation_0-rmse:0.098596\n",
      "[332]\tvalidation_0-rmse:0.098556\n",
      "[333]\tvalidation_0-rmse:0.098563\n",
      "[334]\tvalidation_0-rmse:0.098507\n",
      "[335]\tvalidation_0-rmse:0.098511\n",
      "[336]\tvalidation_0-rmse:0.098473\n",
      "[337]\tvalidation_0-rmse:0.098469\n",
      "[338]\tvalidation_0-rmse:0.09847\n",
      "[339]\tvalidation_0-rmse:0.098495\n",
      "[340]\tvalidation_0-rmse:0.098462\n",
      "[341]\tvalidation_0-rmse:0.098462\n",
      "[342]\tvalidation_0-rmse:0.098479\n",
      "[343]\tvalidation_0-rmse:0.098444\n",
      "[344]\tvalidation_0-rmse:0.098432\n",
      "[345]\tvalidation_0-rmse:0.098408\n",
      "[346]\tvalidation_0-rmse:0.098378\n",
      "[347]\tvalidation_0-rmse:0.098382\n",
      "[348]\tvalidation_0-rmse:0.098336\n",
      "[349]\tvalidation_0-rmse:0.098337\n",
      "[350]\tvalidation_0-rmse:0.09843\n",
      "[351]\tvalidation_0-rmse:0.098358\n",
      "[352]\tvalidation_0-rmse:0.098349\n",
      "[353]\tvalidation_0-rmse:0.098319\n",
      "[354]\tvalidation_0-rmse:0.098267\n",
      "[355]\tvalidation_0-rmse:0.098233\n",
      "[356]\tvalidation_0-rmse:0.098249\n",
      "[357]\tvalidation_0-rmse:0.098233\n",
      "[358]\tvalidation_0-rmse:0.098212\n",
      "[359]\tvalidation_0-rmse:0.098209\n",
      "[360]\tvalidation_0-rmse:0.098187\n",
      "[361]\tvalidation_0-rmse:0.098204\n",
      "[362]\tvalidation_0-rmse:0.098163\n",
      "[363]\tvalidation_0-rmse:0.098176\n",
      "[364]\tvalidation_0-rmse:0.098234\n",
      "[365]\tvalidation_0-rmse:0.098203\n",
      "[366]\tvalidation_0-rmse:0.098203\n",
      "[367]\tvalidation_0-rmse:0.098184\n",
      "[368]\tvalidation_0-rmse:0.098207\n",
      "[369]\tvalidation_0-rmse:0.098168\n",
      "[370]\tvalidation_0-rmse:0.098122\n",
      "[371]\tvalidation_0-rmse:0.098082\n",
      "[372]\tvalidation_0-rmse:0.098045\n",
      "[373]\tvalidation_0-rmse:0.09804\n",
      "[374]\tvalidation_0-rmse:0.098051\n",
      "[375]\tvalidation_0-rmse:0.098085\n",
      "[376]\tvalidation_0-rmse:0.098082\n",
      "[377]\tvalidation_0-rmse:0.098085\n",
      "[378]\tvalidation_0-rmse:0.098095\n",
      "[379]\tvalidation_0-rmse:0.098096\n",
      "[380]\tvalidation_0-rmse:0.0981\n",
      "[381]\tvalidation_0-rmse:0.098068\n",
      "[382]\tvalidation_0-rmse:0.098011\n",
      "[383]\tvalidation_0-rmse:0.097995\n",
      "[384]\tvalidation_0-rmse:0.098037\n",
      "[385]\tvalidation_0-rmse:0.098038\n",
      "[386]\tvalidation_0-rmse:0.098014\n",
      "[387]\tvalidation_0-rmse:0.097978\n",
      "[388]\tvalidation_0-rmse:0.097935\n",
      "[389]\tvalidation_0-rmse:0.097919\n",
      "[390]\tvalidation_0-rmse:0.097925\n",
      "[391]\tvalidation_0-rmse:0.097946\n",
      "[392]\tvalidation_0-rmse:0.097926\n",
      "[393]\tvalidation_0-rmse:0.097945\n",
      "[394]\tvalidation_0-rmse:0.097951\n",
      "[395]\tvalidation_0-rmse:0.097953\n",
      "[396]\tvalidation_0-rmse:0.097969\n",
      "[397]\tvalidation_0-rmse:0.097977\n",
      "[398]\tvalidation_0-rmse:0.098012\n",
      "[399]\tvalidation_0-rmse:0.097988\n",
      "[400]\tvalidation_0-rmse:0.097961\n",
      "[401]\tvalidation_0-rmse:0.097968\n",
      "[402]\tvalidation_0-rmse:0.097967\n",
      "[403]\tvalidation_0-rmse:0.097963\n",
      "[404]\tvalidation_0-rmse:0.097955\n",
      "[405]\tvalidation_0-rmse:0.09792\n",
      "[406]\tvalidation_0-rmse:0.097885\n",
      "[407]\tvalidation_0-rmse:0.097898\n",
      "[408]\tvalidation_0-rmse:0.097883\n",
      "[409]\tvalidation_0-rmse:0.097886\n",
      "[410]\tvalidation_0-rmse:0.09791\n",
      "[411]\tvalidation_0-rmse:0.097878\n",
      "[412]\tvalidation_0-rmse:0.097892\n",
      "[413]\tvalidation_0-rmse:0.09788\n",
      "[414]\tvalidation_0-rmse:0.097878\n",
      "[415]\tvalidation_0-rmse:0.097882\n",
      "[416]\tvalidation_0-rmse:0.097849\n",
      "[417]\tvalidation_0-rmse:0.097819\n",
      "[418]\tvalidation_0-rmse:0.097787\n",
      "[419]\tvalidation_0-rmse:0.097789\n",
      "[420]\tvalidation_0-rmse:0.097776\n",
      "[421]\tvalidation_0-rmse:0.097814\n",
      "[422]\tvalidation_0-rmse:0.097794\n",
      "[423]\tvalidation_0-rmse:0.097771\n",
      "[424]\tvalidation_0-rmse:0.097779\n",
      "[425]\tvalidation_0-rmse:0.097759\n",
      "[426]\tvalidation_0-rmse:0.097721\n",
      "[427]\tvalidation_0-rmse:0.097764\n",
      "[428]\tvalidation_0-rmse:0.097727\n",
      "[429]\tvalidation_0-rmse:0.097752\n",
      "[430]\tvalidation_0-rmse:0.097754\n",
      "[431]\tvalidation_0-rmse:0.097744\n",
      "[432]\tvalidation_0-rmse:0.097704\n",
      "[433]\tvalidation_0-rmse:0.097709\n",
      "[434]\tvalidation_0-rmse:0.097711\n",
      "[435]\tvalidation_0-rmse:0.097747\n",
      "[436]\tvalidation_0-rmse:0.097759\n",
      "[437]\tvalidation_0-rmse:0.097749\n",
      "[438]\tvalidation_0-rmse:0.097763\n",
      "[439]\tvalidation_0-rmse:0.097778\n",
      "[440]\tvalidation_0-rmse:0.09779\n",
      "[441]\tvalidation_0-rmse:0.097804\n",
      "[442]\tvalidation_0-rmse:0.097823\n",
      "[443]\tvalidation_0-rmse:0.097848\n",
      "[444]\tvalidation_0-rmse:0.097788\n",
      "[445]\tvalidation_0-rmse:0.097776\n",
      "[446]\tvalidation_0-rmse:0.097818\n",
      "[447]\tvalidation_0-rmse:0.097851\n",
      "[448]\tvalidation_0-rmse:0.097837\n",
      "[449]\tvalidation_0-rmse:0.097856\n",
      "[450]\tvalidation_0-rmse:0.097856\n",
      "[451]\tvalidation_0-rmse:0.097848\n",
      "[452]\tvalidation_0-rmse:0.097855\n",
      "Stopping. Best iteration:\n",
      "[432]\tvalidation_0-rmse:0.097704\n",
      "\n"
     ]
    },
    {
     "data": {
      "text/plain": [
       "RandomizedSearchCV(cv=5, error_score='raise-deprecating',\n",
       "          estimator=XGBRegressor(base_score=0.5, booster='gbtree', colsample_bylevel=1,\n",
       "       colsample_bytree=1, gamma=0, learning_rate=0.1, max_delta_step=0,\n",
       "       max_depth=3, min_child_weight=1, missing=None, n_estimators=100,\n",
       "       n_jobs=1, nthread=None, objective='reg:linear', random_state=0,\n",
       "       reg_alpha=0, reg_lambda=1, scale_pos_weight=1, seed=None,\n",
       "       silent=True, subsample=1),\n",
       "          fit_params=None, iid='warn', n_iter=20, n_jobs=-1,\n",
       "          param_distributions={'n_estimators': <scipy.stats._distn_infrastructure.rv_frozen object at 0x11539f6d8>, 'learning_rate': [0.001, 0.05], 'max_depth': [3, 4], 'min_child_weight': [3, 4], 'subsample': [1], 'reg_alpha': <scipy.stats._distn_infrastructure.rv_frozen object at 0x11539fac8>, 'reg_lamda': <scipy.stats._distn_infrastructure.rv_frozen object at 0x115966080>},\n",
       "          pre_dispatch='2*n_jobs', random_state=80, refit=True,\n",
       "          return_train_score='warn', scoring=None, verbose=10)"
      ]
     },
     "execution_count": 345,
     "metadata": {},
     "output_type": "execute_result"
    }
   ],
   "source": [
    "# specify parameters and distributions to sample from\n",
    "param_dist = {'n_estimators':sp_randint(7000,8000),\n",
    "              'learning_rate':[0.001,0.05],\n",
    "                'max_depth':[3,4],\n",
    "               'min_child_weight':[3,4],\n",
    "               'subsample':[1],\n",
    "              'reg_alpha':sp_randint(0,1),\n",
    "              'reg_lamda':sp_randint(0,1),     \n",
    "             }\n",
    "\n",
    "\n",
    "#'n_estimators':sp_randint(7000,7500)\n",
    "\n",
    "n_iter_search = 20\n",
    "random_search = RandomizedSearchCV(xgb.XGBRegressor(), param_distributions=param_dist, cv=5,\n",
    "                                   n_iter=n_iter_search, verbose=10, n_jobs=-1, random_state=80)\n",
    "\n",
    "\n",
    "random_search.fit(X_train, y_train,early_stopping_rounds=20, eval_set=[(X_test, y_test)], verbose=True)\n",
    "\n",
    "\n",
    "# report(random_search.cv_results_)"
   ]
  },
  {
   "cell_type": "code",
   "execution_count": 346,
   "metadata": {},
   "outputs": [
    {
     "name": "stdout",
     "output_type": "stream",
     "text": [
      "RMSE train: 0.05322039103414972\n",
      "RMSE test : 0.09770373035691089\n"
     ]
    }
   ],
   "source": [
    "model_xgb = random_search.best_estimator_\n",
    "print(\"RMSE train: {}\".format(rmse(y_train, random_search.predict(X_train))))\n",
    "print(\"RMSE test : {}\".format(rmse(y_test,  random_search.predict(X_test))))"
   ]
  },
  {
   "cell_type": "code",
   "execution_count": 347,
   "metadata": {},
   "outputs": [
    {
     "data": {
      "text/plain": [
       "XGBRegressor(base_score=0.5, booster='gbtree', colsample_bylevel=1,\n",
       "       colsample_bytree=1, gamma=0, learning_rate=0.05, max_delta_step=0,\n",
       "       max_depth=4, min_child_weight=3, missing=None, n_estimators=7884,\n",
       "       n_jobs=1, nthread=None, objective='reg:linear', random_state=0,\n",
       "       reg_alpha=0, reg_lambda=1, reg_lamda=0, scale_pos_weight=1,\n",
       "       seed=None, silent=True, subsample=1)"
      ]
     },
     "execution_count": 347,
     "metadata": {},
     "output_type": "execute_result"
    }
   ],
   "source": [
    "random_search.best_estimator_"
   ]
  },
  {
   "cell_type": "code",
   "execution_count": null,
   "metadata": {},
   "outputs": [],
   "source": []
  },
  {
   "cell_type": "code",
   "execution_count": null,
   "metadata": {},
   "outputs": [],
   "source": []
  },
  {
   "cell_type": "code",
   "execution_count": null,
   "metadata": {},
   "outputs": [],
   "source": []
  },
  {
   "cell_type": "markdown",
   "metadata": {},
   "source": [
    "#### Create Hyperparameter Search Space"
   ]
  },
  {
   "cell_type": "markdown",
   "metadata": {},
   "source": [
    "#### Create Grid Search"
   ]
  },
  {
   "cell_type": "code",
   "execution_count": 168,
   "metadata": {},
   "outputs": [],
   "source": [
    "gridsearch_lgb= GridSearchCV(estimator=lgb.LGBMRegressor(objective='regression',random_state=rs_const), param_grid=param_grid_lgb,n_jobs=-1, cv=5,verbose=True)"
   ]
  },
  {
   "cell_type": "markdown",
   "metadata": {},
   "source": [
    "#### Fit The Model"
   ]
  },
  {
   "cell_type": "code",
   "execution_count": 169,
   "metadata": {},
   "outputs": [
    {
     "name": "stdout",
     "output_type": "stream",
     "text": [
      "Fitting 5 folds for each of 59049 candidates, totalling 295245 fits\n"
     ]
    },
    {
     "name": "stderr",
     "output_type": "stream",
     "text": [
      "[Parallel(n_jobs=-1)]: Using backend LokyBackend with 4 concurrent workers.\n",
      "[Parallel(n_jobs=-1)]: Done  42 tasks      | elapsed:   25.9s\n",
      "[Parallel(n_jobs=-1)]: Done 192 tasks      | elapsed:   53.9s\n",
      "[Parallel(n_jobs=-1)]: Done 442 tasks      | elapsed:  1.9min\n",
      "[Parallel(n_jobs=-1)]: Done 792 tasks      | elapsed:  3.1min\n",
      "[Parallel(n_jobs=-1)]: Done 1242 tasks      | elapsed:  4.6min\n",
      "[Parallel(n_jobs=-1)]: Done 1792 tasks      | elapsed:  6.2min\n",
      "[Parallel(n_jobs=-1)]: Done 2442 tasks      | elapsed:  8.1min\n",
      "[Parallel(n_jobs=-1)]: Done 3192 tasks      | elapsed: 10.3min\n",
      "[Parallel(n_jobs=-1)]: Done 4042 tasks      | elapsed: 13.1min\n",
      "[Parallel(n_jobs=-1)]: Done 4992 tasks      | elapsed: 16.2min\n",
      "[Parallel(n_jobs=-1)]: Done 6042 tasks      | elapsed: 19.8min\n",
      "[Parallel(n_jobs=-1)]: Done 7192 tasks      | elapsed: 23.7min\n",
      "[Parallel(n_jobs=-1)]: Done 8442 tasks      | elapsed: 27.8min\n",
      "[Parallel(n_jobs=-1)]: Done 9792 tasks      | elapsed: 32.3min\n",
      "[Parallel(n_jobs=-1)]: Done 11242 tasks      | elapsed: 37.3min\n",
      "[Parallel(n_jobs=-1)]: Done 12792 tasks      | elapsed: 42.2min\n",
      "[Parallel(n_jobs=-1)]: Done 14442 tasks      | elapsed: 47.5min\n",
      "[Parallel(n_jobs=-1)]: Done 16192 tasks      | elapsed: 53.4min\n",
      "[Parallel(n_jobs=-1)]: Done 18042 tasks      | elapsed: 60.6min\n",
      "[Parallel(n_jobs=-1)]: Done 19992 tasks      | elapsed: 67.9min\n",
      "[Parallel(n_jobs=-1)]: Done 22042 tasks      | elapsed: 75.6min\n",
      "[Parallel(n_jobs=-1)]: Done 24192 tasks      | elapsed: 82.3min\n",
      "[Parallel(n_jobs=-1)]: Done 26442 tasks      | elapsed: 90.6min\n",
      "[Parallel(n_jobs=-1)]: Done 28792 tasks      | elapsed: 99.4min\n",
      "[Parallel(n_jobs=-1)]: Done 31242 tasks      | elapsed: 107.9min\n",
      "[Parallel(n_jobs=-1)]: Done 33792 tasks      | elapsed: 116.2min\n",
      "[Parallel(n_jobs=-1)]: Done 36442 tasks      | elapsed: 124.0min\n",
      "[Parallel(n_jobs=-1)]: Done 39192 tasks      | elapsed: 132.3min\n",
      "[Parallel(n_jobs=-1)]: Done 42042 tasks      | elapsed: 141.2min\n",
      "[Parallel(n_jobs=-1)]: Done 44992 tasks      | elapsed: 150.0min\n",
      "[Parallel(n_jobs=-1)]: Done 48042 tasks      | elapsed: 158.7min\n",
      "[Parallel(n_jobs=-1)]: Done 51192 tasks      | elapsed: 168.2min\n",
      "[Parallel(n_jobs=-1)]: Done 54442 tasks      | elapsed: 178.3min\n",
      "[Parallel(n_jobs=-1)]: Done 57792 tasks      | elapsed: 187.8min\n",
      "[Parallel(n_jobs=-1)]: Done 61242 tasks      | elapsed: 198.1min\n",
      "[Parallel(n_jobs=-1)]: Done 64792 tasks      | elapsed: 209.1min\n",
      "[Parallel(n_jobs=-1)]: Done 68442 tasks      | elapsed: 219.5min\n",
      "[Parallel(n_jobs=-1)]: Done 72192 tasks      | elapsed: 230.6min\n",
      "[Parallel(n_jobs=-1)]: Done 76042 tasks      | elapsed: 242.5min\n",
      "[Parallel(n_jobs=-1)]: Done 79992 tasks      | elapsed: 253.7min\n",
      "[Parallel(n_jobs=-1)]: Done 84042 tasks      | elapsed: 265.8min\n",
      "[Parallel(n_jobs=-1)]: Done 88192 tasks      | elapsed: 278.4min\n",
      "[Parallel(n_jobs=-1)]: Done 92442 tasks      | elapsed: 290.5min\n",
      "[Parallel(n_jobs=-1)]: Done 96792 tasks      | elapsed: 303.7min\n",
      "[Parallel(n_jobs=-1)]: Done 101242 tasks      | elapsed: 316.8min\n",
      "[Parallel(n_jobs=-1)]: Done 105792 tasks      | elapsed: 330.6min\n",
      "[Parallel(n_jobs=-1)]: Done 110442 tasks      | elapsed: 345.1min\n",
      "[Parallel(n_jobs=-1)]: Done 115192 tasks      | elapsed: 359.1min\n",
      "[Parallel(n_jobs=-1)]: Done 120042 tasks      | elapsed: 374.6min\n",
      "[Parallel(n_jobs=-1)]: Done 124992 tasks      | elapsed: 392.2min\n",
      "[Parallel(n_jobs=-1)]: Done 130042 tasks      | elapsed: 411.0min\n",
      "[Parallel(n_jobs=-1)]: Done 135192 tasks      | elapsed: 427.5min\n",
      "[Parallel(n_jobs=-1)]: Done 140442 tasks      | elapsed: 446.1min\n",
      "[Parallel(n_jobs=-1)]: Done 145792 tasks      | elapsed: 465.4min\n",
      "[Parallel(n_jobs=-1)]: Done 151242 tasks      | elapsed: 488.0min\n",
      "[Parallel(n_jobs=-1)]: Done 156792 tasks      | elapsed: 506.9min\n",
      "[Parallel(n_jobs=-1)]: Done 162442 tasks      | elapsed: 526.1min\n",
      "[Parallel(n_jobs=-1)]: Done 168192 tasks      | elapsed: 544.7min\n",
      "[Parallel(n_jobs=-1)]: Done 174042 tasks      | elapsed: 564.3min\n",
      "[Parallel(n_jobs=-1)]: Done 179992 tasks      | elapsed: 582.0min\n",
      "[Parallel(n_jobs=-1)]: Done 186042 tasks      | elapsed: 601.0min\n",
      "[Parallel(n_jobs=-1)]: Done 192192 tasks      | elapsed: 619.0min\n",
      "[Parallel(n_jobs=-1)]: Done 198442 tasks      | elapsed: 638.3min\n",
      "[Parallel(n_jobs=-1)]: Done 204792 tasks      | elapsed: 657.7min\n",
      "[Parallel(n_jobs=-1)]: Done 211242 tasks      | elapsed: 677.5min\n",
      "[Parallel(n_jobs=-1)]: Done 217792 tasks      | elapsed: 699.0min\n",
      "[Parallel(n_jobs=-1)]: Done 224442 tasks      | elapsed: 720.6min\n",
      "[Parallel(n_jobs=-1)]: Done 231192 tasks      | elapsed: 742.1min\n",
      "[Parallel(n_jobs=-1)]: Done 238042 tasks      | elapsed: 765.5min\n",
      "[Parallel(n_jobs=-1)]: Done 244992 tasks      | elapsed: 788.1min\n",
      "[Parallel(n_jobs=-1)]: Done 252042 tasks      | elapsed: 811.9min\n",
      "[Parallel(n_jobs=-1)]: Done 259192 tasks      | elapsed: 835.6min\n",
      "[Parallel(n_jobs=-1)]: Done 266442 tasks      | elapsed: 860.4min\n",
      "[Parallel(n_jobs=-1)]: Done 273792 tasks      | elapsed: 884.8min\n",
      "[Parallel(n_jobs=-1)]: Done 281242 tasks      | elapsed: 907.5min\n",
      "[Parallel(n_jobs=-1)]: Done 288792 tasks      | elapsed: 930.7min\n",
      "[Parallel(n_jobs=-1)]: Done 295245 out of 295245 | elapsed: 951.4min finished\n"
     ]
    },
    {
     "data": {
      "text/plain": [
       "GridSearchCV(cv=5, error_score='raise-deprecating',\n",
       "       estimator=LGBMRegressor(boosting_type='gbdt', class_weight=None, colsample_bytree=1.0,\n",
       "       importance_type='split', learning_rate=0.1, max_depth=-1,\n",
       "       min_child_samples=20, min_child_weight=0.001, min_split_gain=0.0,\n",
       "       n_estimators=100, n_jobs=-1, num_leaves=31, objective='regression',\n",
       "       random_state=80, reg_alpha=0.0, reg_lambda=0.0, silent=True,\n",
       "       subsample=1.0, subsample_for_bin=200000, subsample_freq=0),\n",
       "       fit_params=None, iid='warn', n_jobs=-1,\n",
       "       param_grid={'num_leaves': [4, 5, 6], 'learning_rate': [0.04, 0.05, 0.06], 'n_estimators': [500, 700, 900], 'max_bin': [40, 50, 60], 'bagging_fraction': [0.7, 0.8, 0.9], 'bagging_freq': [4, 5, 6], 'feature_fraction': [0.1, 0.2, 0.3], 'feature_fraction_seed': [7, 8, 9], 'bagging_seed': [7, 8, 9], 'min_data_in_leaf': [5, 6, 7], 'min_sum_hessian_in_leaf': [11]},\n",
       "       pre_dispatch='2*n_jobs', refit=True, return_train_score='warn',\n",
       "       scoring=None, verbose=True)"
      ]
     },
     "execution_count": 169,
     "metadata": {},
     "output_type": "execute_result"
    }
   ],
   "source": [
    "gridsearch_lgb.fit(X_train, y_train)"
   ]
  },
  {
   "cell_type": "markdown",
   "metadata": {},
   "source": [
    "#### Evaluate The Model And Print The Results"
   ]
  },
  {
   "cell_type": "code",
   "execution_count": 170,
   "metadata": {},
   "outputs": [
    {
     "name": "stdout",
     "output_type": "stream",
     "text": [
      "_______________________________________\n",
      "lgb: Regression\n",
      "_______________________________________\n",
      "Best params: {'bagging_fraction': 0.9, 'bagging_freq': 4, 'bagging_seed': 9, 'feature_fraction': 0.1, 'feature_fraction_seed': 7, 'learning_rate': 0.04, 'max_bin': 40, 'min_data_in_leaf': 6, 'min_sum_hessian_in_leaf': 11, 'n_estimators': 700, 'num_leaves': 6}\n",
      "Best score : 0.896827843999088\n",
      "---------\n",
      "RMSE train: 0.08493187271043416\n",
      "RMSE test : 0.10346124046188622\n"
     ]
    }
   ],
   "source": [
    "print(\"_______________________________________\")\n",
    "print(\"lgb: Regression\")\n",
    "print(\"_______________________________________\")\n",
    "print('Best params: {}'.format(gridsearch_lgb.best_params_))\n",
    "print('Best score : {}'.format(gridsearch_lgb.best_score_))\n",
    "print(\"---------\")\n",
    "model_lgb = gridsearch_lgb.best_estimator_\n",
    "print(\"RMSE train: {}\".format(rmse(y_train, model_lgb.predict(X_train))))\n",
    "print(\"RMSE test : {}\".format(rmse(y_test,  model_lgb.predict(X_test))))"
   ]
  },
  {
   "cell_type": "code",
   "execution_count": 171,
   "metadata": {},
   "outputs": [],
   "source": [
    "pickle.dump(model_lgb, open('model_lgb.pickle','wb'))"
   ]
  },
  {
   "cell_type": "code",
   "execution_count": null,
   "metadata": {},
   "outputs": [],
   "source": [
    "############################################################"
   ]
  },
  {
   "cell_type": "code",
   "execution_count": null,
   "metadata": {},
   "outputs": [],
   "source": []
  },
  {
   "cell_type": "code",
   "execution_count": null,
   "metadata": {},
   "outputs": [],
   "source": []
  },
  {
   "cell_type": "code",
   "execution_count": null,
   "metadata": {},
   "outputs": [],
   "source": []
  },
  {
   "cell_type": "code",
   "execution_count": null,
   "metadata": {},
   "outputs": [],
   "source": []
  },
  {
   "cell_type": "code",
   "execution_count": null,
   "metadata": {},
   "outputs": [],
   "source": []
  },
  {
   "cell_type": "code",
   "execution_count": null,
   "metadata": {},
   "outputs": [],
   "source": []
  },
  {
   "cell_type": "markdown",
   "metadata": {},
   "source": [
    "### 6. MLP Regression"
   ]
  },
  {
   "cell_type": "markdown",
   "metadata": {},
   "source": [
    "#### Create Hyperparameter Search Space"
   ]
  },
  {
   "cell_type": "code",
   "execution_count": 152,
   "metadata": {},
   "outputs": [],
   "source": [
    "param_grid_mlp = {'alpha': [2,2.25,2.5,2.75,3,3.25,3.5,3.75,4,4.25,4.50,5.0],\n",
    "              'activation': ['tanh'],\n",
    "               'hidden_layer_sizes' : [(10,10),(10,5), (10,20),(20,10),(20,20),(20,30),(30,30),(30,20),(20,30),(40,40),(40,30),(50,50),(60,60),(70,70),(80,80),(90,90)],\n",
    "               'solver' : ['lbfgs'],\n",
    "                'learning_rate':['adaptive'],\n",
    "                'learning_rate_init':[0.003]\n",
    "               }\n"
   ]
  },
  {
   "cell_type": "markdown",
   "metadata": {},
   "source": [
    "#### Create Grid Search"
   ]
  },
  {
   "cell_type": "code",
   "execution_count": 153,
   "metadata": {},
   "outputs": [],
   "source": [
    "gridsearch_mlp = GridSearchCV(MLPRegressor(random_state=rs_const), param_grid_mlp, n_jobs=-1,cv=5, verbose=True)"
   ]
  },
  {
   "cell_type": "markdown",
   "metadata": {},
   "source": [
    "#### Fit The Model"
   ]
  },
  {
   "cell_type": "code",
   "execution_count": 154,
   "metadata": {},
   "outputs": [
    {
     "name": "stdout",
     "output_type": "stream",
     "text": [
      "Fitting 5 folds for each of 192 candidates, totalling 960 fits\n"
     ]
    },
    {
     "name": "stderr",
     "output_type": "stream",
     "text": [
      "[Parallel(n_jobs=-1)]: Using backend LokyBackend with 4 concurrent workers.\n",
      "[Parallel(n_jobs=-1)]: Done  42 tasks      | elapsed:   50.5s\n",
      "[Parallel(n_jobs=-1)]: Done 192 tasks      | elapsed:  3.3min\n",
      "[Parallel(n_jobs=-1)]: Done 442 tasks      | elapsed:  6.8min\n",
      "[Parallel(n_jobs=-1)]: Done 792 tasks      | elapsed: 12.1min\n",
      "[Parallel(n_jobs=-1)]: Done 960 out of 960 | elapsed: 14.7min finished\n"
     ]
    },
    {
     "data": {
      "text/plain": [
       "GridSearchCV(cv=5, error_score='raise-deprecating',\n",
       "       estimator=MLPRegressor(activation='relu', alpha=0.0001, batch_size='auto', beta_1=0.9,\n",
       "       beta_2=0.999, early_stopping=False, epsilon=1e-08,\n",
       "       hidden_layer_sizes=(100,), learning_rate='constant',\n",
       "       learning_rate_init=0.001, max_iter=200, momentum=0.9,\n",
       "       n_iter_no_change=10, nesterovs_momentum=True, power_t=0.5,\n",
       "       random_state=80, shuffle=True, solver='adam', tol=0.0001,\n",
       "       validation_fraction=0.1, verbose=False, warm_start=False),\n",
       "       fit_params=None, iid='warn', n_jobs=-1,\n",
       "       param_grid={'alpha': [2, 2.25, 2.5, 2.75, 3, 3.25, 3.5, 3.75, 4, 4.25, 4.5, 5.0], 'activation': ['tanh'], 'hidden_layer_sizes': [(10, 10), (10, 5), (10, 20), (20, 10), (20, 20), (20, 30), (30, 30), (30, 20), (20, 30), (40, 40), (40, 30), (50, 50), (60, 60), (70, 70), (80, 80), (90, 90)], 'solver': ['lbfgs'], 'learning_rate': ['adaptive'], 'learning_rate_init': [0.003]},\n",
       "       pre_dispatch='2*n_jobs', refit=True, return_train_score='warn',\n",
       "       scoring=None, verbose=True)"
      ]
     },
     "execution_count": 154,
     "metadata": {},
     "output_type": "execute_result"
    }
   ],
   "source": [
    "gridsearch_mlp.fit(X_train_std,y_train)"
   ]
  },
  {
   "cell_type": "markdown",
   "metadata": {},
   "source": [
    "#### Evaluate The Model And Print The Results"
   ]
  },
  {
   "cell_type": "code",
   "execution_count": 158,
   "metadata": {},
   "outputs": [
    {
     "name": "stdout",
     "output_type": "stream",
     "text": [
      "_______________________________________\n",
      "MLP: Regression\n",
      "_______________________________________\n",
      "Best params: {'activation': 'tanh', 'alpha': 5.0, 'hidden_layer_sizes': (20, 10), 'learning_rate': 'adaptive', 'learning_rate_init': 0.003, 'solver': 'lbfgs'}\n",
      "Best score : 0.8817854092919377\n",
      "---------\n",
      "RMSE train: 0.07873849482402347\n",
      "RMSE test : 0.1067523028132266\n"
     ]
    }
   ],
   "source": [
    "print(\"_______________________________________\")\n",
    "print(\"MLP: Regression\")\n",
    "print(\"_______________________________________\")\n",
    "print('Best params: {}'.format(gridsearch_mlp.best_params_))\n",
    "print('Best score : {}'.format(gridsearch_mlp.best_score_))\n",
    "print(\"---------\")\n",
    "model_mlp = gridsearch_mlp.best_estimator_\n",
    "print(\"RMSE train: {}\".format(rmse(y_train, model_mlp.predict(X_train_std))))\n",
    "print(\"RMSE test : {}\".format(rmse(y_test,  model_mlp.predict(X_test_std))))"
   ]
  },
  {
   "cell_type": "code",
   "execution_count": 157,
   "metadata": {},
   "outputs": [],
   "source": [
    "import pickle\n",
    "\n",
    "pickle.dump(model_mlp, open('model_mlp.pickle','wb'))"
   ]
  },
  {
   "cell_type": "code",
   "execution_count": null,
   "metadata": {},
   "outputs": [],
   "source": [
    "####################"
   ]
  },
  {
   "cell_type": "markdown",
   "metadata": {},
   "source": [
    "### KERAS"
   ]
  },
  {
   "cell_type": "code",
   "execution_count": 216,
   "metadata": {},
   "outputs": [
    {
     "name": "stderr",
     "output_type": "stream",
     "text": [
      "Using TensorFlow backend.\n"
     ]
    },
    {
     "ename": "ImportError",
     "evalue": "Traceback (most recent call last):\n  File \"/Library/Frameworks/Python.framework/Versions/3.7/lib/python3.7/site-packages/tensorflow/python/pywrap_tensorflow.py\", line 58, in <module>\n    from tensorflow.python.pywrap_tensorflow_internal import *\n  File \"/Library/Frameworks/Python.framework/Versions/3.7/lib/python3.7/site-packages/tensorflow/python/pywrap_tensorflow_internal.py\", line 28, in <module>\n    _pywrap_tensorflow_internal = swig_import_helper()\n  File \"/Library/Frameworks/Python.framework/Versions/3.7/lib/python3.7/site-packages/tensorflow/python/pywrap_tensorflow_internal.py\", line 24, in swig_import_helper\n    _mod = imp.load_module('_pywrap_tensorflow_internal', fp, pathname, description)\n  File \"/Library/Frameworks/Python.framework/Versions/3.7/lib/python3.7/imp.py\", line 242, in load_module\n    return load_dynamic(name, filename, file)\n  File \"/Library/Frameworks/Python.framework/Versions/3.7/lib/python3.7/imp.py\", line 342, in load_dynamic\n    return _load(spec)\nImportError: dlopen(/Library/Frameworks/Python.framework/Versions/3.7/lib/python3.7/site-packages/tensorflow/python/_pywrap_tensorflow_internal.so, 6): Symbol not found: _clock_gettime\n  Referenced from: /Library/Frameworks/Python.framework/Versions/3.7/lib/python3.7/site-packages/tensorflow/python/../libtensorflow_framework.so (which was built for Mac OS X 10.12)\n  Expected in: /usr/lib/libSystem.B.dylib\n in /Library/Frameworks/Python.framework/Versions/3.7/lib/python3.7/site-packages/tensorflow/python/../libtensorflow_framework.so\n\n\nFailed to load the native TensorFlow runtime.\n\nSee https://www.tensorflow.org/install/errors\n\nfor some common reasons and solutions.  Include the entire stack trace\nabove this error message when asking for help.",
     "output_type": "error",
     "traceback": [
      "\u001b[0;31m---------------------------------------------------------------------------\u001b[0m",
      "\u001b[0;31mImportError\u001b[0m                               Traceback (most recent call last)",
      "\u001b[0;32m/Library/Frameworks/Python.framework/Versions/3.7/lib/python3.7/site-packages/tensorflow/python/pywrap_tensorflow.py\u001b[0m in \u001b[0;36m<module>\u001b[0;34m\u001b[0m\n\u001b[1;32m     57\u001b[0m \u001b[0;34m\u001b[0m\u001b[0m\n\u001b[0;32m---> 58\u001b[0;31m   \u001b[0;32mfrom\u001b[0m \u001b[0mtensorflow\u001b[0m\u001b[0;34m.\u001b[0m\u001b[0mpython\u001b[0m\u001b[0;34m.\u001b[0m\u001b[0mpywrap_tensorflow_internal\u001b[0m \u001b[0;32mimport\u001b[0m \u001b[0;34m*\u001b[0m\u001b[0;34m\u001b[0m\u001b[0;34m\u001b[0m\u001b[0m\n\u001b[0m\u001b[1;32m     59\u001b[0m   \u001b[0;32mfrom\u001b[0m \u001b[0mtensorflow\u001b[0m\u001b[0;34m.\u001b[0m\u001b[0mpython\u001b[0m\u001b[0;34m.\u001b[0m\u001b[0mpywrap_tensorflow_internal\u001b[0m \u001b[0;32mimport\u001b[0m \u001b[0m__version__\u001b[0m\u001b[0;34m\u001b[0m\u001b[0;34m\u001b[0m\u001b[0m\n",
      "\u001b[0;32m/Library/Frameworks/Python.framework/Versions/3.7/lib/python3.7/site-packages/tensorflow/python/pywrap_tensorflow_internal.py\u001b[0m in \u001b[0;36m<module>\u001b[0;34m\u001b[0m\n\u001b[1;32m     27\u001b[0m             \u001b[0;32mreturn\u001b[0m \u001b[0m_mod\u001b[0m\u001b[0;34m\u001b[0m\u001b[0;34m\u001b[0m\u001b[0m\n\u001b[0;32m---> 28\u001b[0;31m     \u001b[0m_pywrap_tensorflow_internal\u001b[0m \u001b[0;34m=\u001b[0m \u001b[0mswig_import_helper\u001b[0m\u001b[0;34m(\u001b[0m\u001b[0;34m)\u001b[0m\u001b[0;34m\u001b[0m\u001b[0;34m\u001b[0m\u001b[0m\n\u001b[0m\u001b[1;32m     29\u001b[0m     \u001b[0;32mdel\u001b[0m \u001b[0mswig_import_helper\u001b[0m\u001b[0;34m\u001b[0m\u001b[0;34m\u001b[0m\u001b[0m\n",
      "\u001b[0;32m/Library/Frameworks/Python.framework/Versions/3.7/lib/python3.7/site-packages/tensorflow/python/pywrap_tensorflow_internal.py\u001b[0m in \u001b[0;36mswig_import_helper\u001b[0;34m()\u001b[0m\n\u001b[1;32m     23\u001b[0m             \u001b[0;32mtry\u001b[0m\u001b[0;34m:\u001b[0m\u001b[0;34m\u001b[0m\u001b[0;34m\u001b[0m\u001b[0m\n\u001b[0;32m---> 24\u001b[0;31m                 \u001b[0m_mod\u001b[0m \u001b[0;34m=\u001b[0m \u001b[0mimp\u001b[0m\u001b[0;34m.\u001b[0m\u001b[0mload_module\u001b[0m\u001b[0;34m(\u001b[0m\u001b[0;34m'_pywrap_tensorflow_internal'\u001b[0m\u001b[0;34m,\u001b[0m \u001b[0mfp\u001b[0m\u001b[0;34m,\u001b[0m \u001b[0mpathname\u001b[0m\u001b[0;34m,\u001b[0m \u001b[0mdescription\u001b[0m\u001b[0;34m)\u001b[0m\u001b[0;34m\u001b[0m\u001b[0;34m\u001b[0m\u001b[0m\n\u001b[0m\u001b[1;32m     25\u001b[0m             \u001b[0;32mfinally\u001b[0m\u001b[0;34m:\u001b[0m\u001b[0;34m\u001b[0m\u001b[0;34m\u001b[0m\u001b[0m\n",
      "\u001b[0;32m/Library/Frameworks/Python.framework/Versions/3.7/lib/python3.7/imp.py\u001b[0m in \u001b[0;36mload_module\u001b[0;34m(name, file, filename, details)\u001b[0m\n\u001b[1;32m    241\u001b[0m         \u001b[0;32melse\u001b[0m\u001b[0;34m:\u001b[0m\u001b[0;34m\u001b[0m\u001b[0;34m\u001b[0m\u001b[0m\n\u001b[0;32m--> 242\u001b[0;31m             \u001b[0;32mreturn\u001b[0m \u001b[0mload_dynamic\u001b[0m\u001b[0;34m(\u001b[0m\u001b[0mname\u001b[0m\u001b[0;34m,\u001b[0m \u001b[0mfilename\u001b[0m\u001b[0;34m,\u001b[0m \u001b[0mfile\u001b[0m\u001b[0;34m)\u001b[0m\u001b[0;34m\u001b[0m\u001b[0;34m\u001b[0m\u001b[0m\n\u001b[0m\u001b[1;32m    243\u001b[0m     \u001b[0;32melif\u001b[0m \u001b[0mtype_\u001b[0m \u001b[0;34m==\u001b[0m \u001b[0mPKG_DIRECTORY\u001b[0m\u001b[0;34m:\u001b[0m\u001b[0;34m\u001b[0m\u001b[0;34m\u001b[0m\u001b[0m\n",
      "\u001b[0;32m/Library/Frameworks/Python.framework/Versions/3.7/lib/python3.7/imp.py\u001b[0m in \u001b[0;36mload_dynamic\u001b[0;34m(name, path, file)\u001b[0m\n\u001b[1;32m    341\u001b[0m             name=name, loader=loader, origin=path)\n\u001b[0;32m--> 342\u001b[0;31m         \u001b[0;32mreturn\u001b[0m \u001b[0m_load\u001b[0m\u001b[0;34m(\u001b[0m\u001b[0mspec\u001b[0m\u001b[0;34m)\u001b[0m\u001b[0;34m\u001b[0m\u001b[0;34m\u001b[0m\u001b[0m\n\u001b[0m\u001b[1;32m    343\u001b[0m \u001b[0;34m\u001b[0m\u001b[0m\n",
      "\u001b[0;31mImportError\u001b[0m: dlopen(/Library/Frameworks/Python.framework/Versions/3.7/lib/python3.7/site-packages/tensorflow/python/_pywrap_tensorflow_internal.so, 6): Symbol not found: _clock_gettime\n  Referenced from: /Library/Frameworks/Python.framework/Versions/3.7/lib/python3.7/site-packages/tensorflow/python/../libtensorflow_framework.so (which was built for Mac OS X 10.12)\n  Expected in: /usr/lib/libSystem.B.dylib\n in /Library/Frameworks/Python.framework/Versions/3.7/lib/python3.7/site-packages/tensorflow/python/../libtensorflow_framework.so",
      "\nDuring handling of the above exception, another exception occurred:\n",
      "\u001b[0;31mImportError\u001b[0m                               Traceback (most recent call last)",
      "\u001b[0;32m<ipython-input-216-3a51884bcd0d>\u001b[0m in \u001b[0;36m<module>\u001b[0;34m\u001b[0m\n\u001b[0;32m----> 1\u001b[0;31m \u001b[0;32mfrom\u001b[0m \u001b[0mkeras\u001b[0m\u001b[0;34m.\u001b[0m\u001b[0mlayers\u001b[0m \u001b[0;32mimport\u001b[0m \u001b[0mDense\u001b[0m\u001b[0;34m\u001b[0m\u001b[0;34m\u001b[0m\u001b[0m\n\u001b[0m\u001b[1;32m      2\u001b[0m \u001b[0;32mfrom\u001b[0m \u001b[0mkeras\u001b[0m\u001b[0;34m.\u001b[0m\u001b[0mmodels\u001b[0m \u001b[0;32mimport\u001b[0m \u001b[0mSequential\u001b[0m\u001b[0;34m\u001b[0m\u001b[0;34m\u001b[0m\u001b[0m\n\u001b[1;32m      3\u001b[0m \u001b[0;32mfrom\u001b[0m \u001b[0mkeras\u001b[0m\u001b[0;34m.\u001b[0m\u001b[0mregularizers\u001b[0m \u001b[0;32mimport\u001b[0m \u001b[0ml1\u001b[0m\u001b[0;34m\u001b[0m\u001b[0;34m\u001b[0m\u001b[0m\n\u001b[1;32m      4\u001b[0m \u001b[0;32mfrom\u001b[0m \u001b[0msklearn\u001b[0m\u001b[0;34m.\u001b[0m\u001b[0mpreprocessing\u001b[0m \u001b[0;32mimport\u001b[0m \u001b[0mStandardScaler\u001b[0m\u001b[0;34m\u001b[0m\u001b[0;34m\u001b[0m\u001b[0m\n\u001b[1;32m      5\u001b[0m \u001b[0;32mfrom\u001b[0m \u001b[0msklearn\u001b[0m\u001b[0;34m.\u001b[0m\u001b[0mmodel_selection\u001b[0m \u001b[0;32mimport\u001b[0m \u001b[0mtrain_test_split\u001b[0m\u001b[0;34m\u001b[0m\u001b[0;34m\u001b[0m\u001b[0m\n",
      "\u001b[0;32m/Library/Frameworks/Python.framework/Versions/3.7/lib/python3.7/site-packages/keras/__init__.py\u001b[0m in \u001b[0;36m<module>\u001b[0;34m\u001b[0m\n\u001b[1;32m      1\u001b[0m \u001b[0;32mfrom\u001b[0m \u001b[0m__future__\u001b[0m \u001b[0;32mimport\u001b[0m \u001b[0mabsolute_import\u001b[0m\u001b[0;34m\u001b[0m\u001b[0;34m\u001b[0m\u001b[0m\n\u001b[1;32m      2\u001b[0m \u001b[0;34m\u001b[0m\u001b[0m\n\u001b[0;32m----> 3\u001b[0;31m \u001b[0;32mfrom\u001b[0m \u001b[0;34m.\u001b[0m \u001b[0;32mimport\u001b[0m \u001b[0mutils\u001b[0m\u001b[0;34m\u001b[0m\u001b[0;34m\u001b[0m\u001b[0m\n\u001b[0m\u001b[1;32m      4\u001b[0m \u001b[0;32mfrom\u001b[0m \u001b[0;34m.\u001b[0m \u001b[0;32mimport\u001b[0m \u001b[0mactivations\u001b[0m\u001b[0;34m\u001b[0m\u001b[0;34m\u001b[0m\u001b[0m\n\u001b[1;32m      5\u001b[0m \u001b[0;32mfrom\u001b[0m \u001b[0;34m.\u001b[0m \u001b[0;32mimport\u001b[0m \u001b[0mapplications\u001b[0m\u001b[0;34m\u001b[0m\u001b[0;34m\u001b[0m\u001b[0m\n",
      "\u001b[0;32m/Library/Frameworks/Python.framework/Versions/3.7/lib/python3.7/site-packages/keras/utils/__init__.py\u001b[0m in \u001b[0;36m<module>\u001b[0;34m\u001b[0m\n\u001b[1;32m      4\u001b[0m \u001b[0;32mfrom\u001b[0m \u001b[0;34m.\u001b[0m \u001b[0;32mimport\u001b[0m \u001b[0mdata_utils\u001b[0m\u001b[0;34m\u001b[0m\u001b[0;34m\u001b[0m\u001b[0m\n\u001b[1;32m      5\u001b[0m \u001b[0;32mfrom\u001b[0m \u001b[0;34m.\u001b[0m \u001b[0;32mimport\u001b[0m \u001b[0mio_utils\u001b[0m\u001b[0;34m\u001b[0m\u001b[0;34m\u001b[0m\u001b[0m\n\u001b[0;32m----> 6\u001b[0;31m \u001b[0;32mfrom\u001b[0m \u001b[0;34m.\u001b[0m \u001b[0;32mimport\u001b[0m \u001b[0mconv_utils\u001b[0m\u001b[0;34m\u001b[0m\u001b[0;34m\u001b[0m\u001b[0m\n\u001b[0m\u001b[1;32m      7\u001b[0m \u001b[0;34m\u001b[0m\u001b[0m\n\u001b[1;32m      8\u001b[0m \u001b[0;31m# Globally-importable utils.\u001b[0m\u001b[0;34m\u001b[0m\u001b[0;34m\u001b[0m\u001b[0;34m\u001b[0m\u001b[0m\n",
      "\u001b[0;32m/Library/Frameworks/Python.framework/Versions/3.7/lib/python3.7/site-packages/keras/utils/conv_utils.py\u001b[0m in \u001b[0;36m<module>\u001b[0;34m\u001b[0m\n\u001b[1;32m      7\u001b[0m \u001b[0;32mfrom\u001b[0m \u001b[0msix\u001b[0m\u001b[0;34m.\u001b[0m\u001b[0mmoves\u001b[0m \u001b[0;32mimport\u001b[0m \u001b[0mrange\u001b[0m\u001b[0;34m\u001b[0m\u001b[0;34m\u001b[0m\u001b[0m\n\u001b[1;32m      8\u001b[0m \u001b[0;32mimport\u001b[0m \u001b[0mnumpy\u001b[0m \u001b[0;32mas\u001b[0m \u001b[0mnp\u001b[0m\u001b[0;34m\u001b[0m\u001b[0;34m\u001b[0m\u001b[0m\n\u001b[0;32m----> 9\u001b[0;31m \u001b[0;32mfrom\u001b[0m \u001b[0;34m.\u001b[0m\u001b[0;34m.\u001b[0m \u001b[0;32mimport\u001b[0m \u001b[0mbackend\u001b[0m \u001b[0;32mas\u001b[0m \u001b[0mK\u001b[0m\u001b[0;34m\u001b[0m\u001b[0;34m\u001b[0m\u001b[0m\n\u001b[0m\u001b[1;32m     10\u001b[0m \u001b[0;34m\u001b[0m\u001b[0m\n\u001b[1;32m     11\u001b[0m \u001b[0;34m\u001b[0m\u001b[0m\n",
      "\u001b[0;32m/Library/Frameworks/Python.framework/Versions/3.7/lib/python3.7/site-packages/keras/backend/__init__.py\u001b[0m in \u001b[0;36m<module>\u001b[0;34m\u001b[0m\n\u001b[1;32m     87\u001b[0m \u001b[0;32melif\u001b[0m \u001b[0m_BACKEND\u001b[0m \u001b[0;34m==\u001b[0m \u001b[0;34m'tensorflow'\u001b[0m\u001b[0;34m:\u001b[0m\u001b[0;34m\u001b[0m\u001b[0;34m\u001b[0m\u001b[0m\n\u001b[1;32m     88\u001b[0m     \u001b[0msys\u001b[0m\u001b[0;34m.\u001b[0m\u001b[0mstderr\u001b[0m\u001b[0;34m.\u001b[0m\u001b[0mwrite\u001b[0m\u001b[0;34m(\u001b[0m\u001b[0;34m'Using TensorFlow backend.\\n'\u001b[0m\u001b[0;34m)\u001b[0m\u001b[0;34m\u001b[0m\u001b[0;34m\u001b[0m\u001b[0m\n\u001b[0;32m---> 89\u001b[0;31m     \u001b[0;32mfrom\u001b[0m \u001b[0;34m.\u001b[0m\u001b[0mtensorflow_backend\u001b[0m \u001b[0;32mimport\u001b[0m \u001b[0;34m*\u001b[0m\u001b[0;34m\u001b[0m\u001b[0;34m\u001b[0m\u001b[0m\n\u001b[0m\u001b[1;32m     90\u001b[0m \u001b[0;32melse\u001b[0m\u001b[0;34m:\u001b[0m\u001b[0;34m\u001b[0m\u001b[0;34m\u001b[0m\u001b[0m\n\u001b[1;32m     91\u001b[0m     \u001b[0;31m# Try and load external backend.\u001b[0m\u001b[0;34m\u001b[0m\u001b[0;34m\u001b[0m\u001b[0;34m\u001b[0m\u001b[0m\n",
      "\u001b[0;32m/Library/Frameworks/Python.framework/Versions/3.7/lib/python3.7/site-packages/keras/backend/tensorflow_backend.py\u001b[0m in \u001b[0;36m<module>\u001b[0;34m\u001b[0m\n\u001b[1;32m      3\u001b[0m \u001b[0;32mfrom\u001b[0m \u001b[0m__future__\u001b[0m \u001b[0;32mimport\u001b[0m \u001b[0mprint_function\u001b[0m\u001b[0;34m\u001b[0m\u001b[0;34m\u001b[0m\u001b[0m\n\u001b[1;32m      4\u001b[0m \u001b[0;34m\u001b[0m\u001b[0m\n\u001b[0;32m----> 5\u001b[0;31m \u001b[0;32mimport\u001b[0m \u001b[0mtensorflow\u001b[0m \u001b[0;32mas\u001b[0m \u001b[0mtf\u001b[0m\u001b[0;34m\u001b[0m\u001b[0;34m\u001b[0m\u001b[0m\n\u001b[0m\u001b[1;32m      6\u001b[0m \u001b[0;32mfrom\u001b[0m \u001b[0mtensorflow\u001b[0m\u001b[0;34m.\u001b[0m\u001b[0mpython\u001b[0m\u001b[0;34m.\u001b[0m\u001b[0mframework\u001b[0m \u001b[0;32mimport\u001b[0m \u001b[0mops\u001b[0m \u001b[0;32mas\u001b[0m \u001b[0mtf_ops\u001b[0m\u001b[0;34m\u001b[0m\u001b[0;34m\u001b[0m\u001b[0m\n\u001b[1;32m      7\u001b[0m \u001b[0;32mfrom\u001b[0m \u001b[0mtensorflow\u001b[0m\u001b[0;34m.\u001b[0m\u001b[0mpython\u001b[0m\u001b[0;34m.\u001b[0m\u001b[0mtraining\u001b[0m \u001b[0;32mimport\u001b[0m \u001b[0mmoving_averages\u001b[0m\u001b[0;34m\u001b[0m\u001b[0;34m\u001b[0m\u001b[0m\n",
      "\u001b[0;32m/Library/Frameworks/Python.framework/Versions/3.7/lib/python3.7/site-packages/tensorflow/__init__.py\u001b[0m in \u001b[0;36m<module>\u001b[0;34m\u001b[0m\n\u001b[1;32m     22\u001b[0m \u001b[0;34m\u001b[0m\u001b[0m\n\u001b[1;32m     23\u001b[0m \u001b[0;31m# pylint: disable=g-bad-import-order\u001b[0m\u001b[0;34m\u001b[0m\u001b[0;34m\u001b[0m\u001b[0;34m\u001b[0m\u001b[0m\n\u001b[0;32m---> 24\u001b[0;31m \u001b[0;32mfrom\u001b[0m \u001b[0mtensorflow\u001b[0m\u001b[0;34m.\u001b[0m\u001b[0mpython\u001b[0m \u001b[0;32mimport\u001b[0m \u001b[0mpywrap_tensorflow\u001b[0m  \u001b[0;31m# pylint: disable=unused-import\u001b[0m\u001b[0;34m\u001b[0m\u001b[0;34m\u001b[0m\u001b[0m\n\u001b[0m\u001b[1;32m     25\u001b[0m \u001b[0;34m\u001b[0m\u001b[0m\n\u001b[1;32m     26\u001b[0m \u001b[0;32mtry\u001b[0m\u001b[0;34m:\u001b[0m\u001b[0;34m\u001b[0m\u001b[0;34m\u001b[0m\u001b[0m\n",
      "\u001b[0;32m/Library/Frameworks/Python.framework/Versions/3.7/lib/python3.7/site-packages/tensorflow/python/__init__.py\u001b[0m in \u001b[0;36m<module>\u001b[0;34m\u001b[0m\n\u001b[1;32m     47\u001b[0m \u001b[0;32mimport\u001b[0m \u001b[0mnumpy\u001b[0m \u001b[0;32mas\u001b[0m \u001b[0mnp\u001b[0m\u001b[0;34m\u001b[0m\u001b[0;34m\u001b[0m\u001b[0m\n\u001b[1;32m     48\u001b[0m \u001b[0;34m\u001b[0m\u001b[0m\n\u001b[0;32m---> 49\u001b[0;31m \u001b[0;32mfrom\u001b[0m \u001b[0mtensorflow\u001b[0m\u001b[0;34m.\u001b[0m\u001b[0mpython\u001b[0m \u001b[0;32mimport\u001b[0m \u001b[0mpywrap_tensorflow\u001b[0m\u001b[0;34m\u001b[0m\u001b[0;34m\u001b[0m\u001b[0m\n\u001b[0m\u001b[1;32m     50\u001b[0m \u001b[0;34m\u001b[0m\u001b[0m\n\u001b[1;32m     51\u001b[0m \u001b[0;32mfrom\u001b[0m \u001b[0mtensorflow\u001b[0m\u001b[0;34m.\u001b[0m\u001b[0mpython\u001b[0m\u001b[0;34m.\u001b[0m\u001b[0mtools\u001b[0m \u001b[0;32mimport\u001b[0m \u001b[0mcomponent_api_helper\u001b[0m\u001b[0;34m\u001b[0m\u001b[0;34m\u001b[0m\u001b[0m\n",
      "\u001b[0;32m/Library/Frameworks/Python.framework/Versions/3.7/lib/python3.7/site-packages/tensorflow/python/pywrap_tensorflow.py\u001b[0m in \u001b[0;36m<module>\u001b[0;34m\u001b[0m\n\u001b[1;32m     72\u001b[0m \u001b[0;32mfor\u001b[0m \u001b[0msome\u001b[0m \u001b[0mcommon\u001b[0m \u001b[0mreasons\u001b[0m \u001b[0;32mand\u001b[0m \u001b[0msolutions\u001b[0m\u001b[0;34m.\u001b[0m  \u001b[0mInclude\u001b[0m \u001b[0mthe\u001b[0m \u001b[0mentire\u001b[0m \u001b[0mstack\u001b[0m \u001b[0mtrace\u001b[0m\u001b[0;34m\u001b[0m\u001b[0;34m\u001b[0m\u001b[0m\n\u001b[1;32m     73\u001b[0m above this error message when asking for help.\"\"\" % traceback.format_exc()\n\u001b[0;32m---> 74\u001b[0;31m   \u001b[0;32mraise\u001b[0m \u001b[0mImportError\u001b[0m\u001b[0;34m(\u001b[0m\u001b[0mmsg\u001b[0m\u001b[0;34m)\u001b[0m\u001b[0;34m\u001b[0m\u001b[0;34m\u001b[0m\u001b[0m\n\u001b[0m\u001b[1;32m     75\u001b[0m \u001b[0;34m\u001b[0m\u001b[0m\n\u001b[1;32m     76\u001b[0m \u001b[0;31m# pylint: enable=wildcard-import,g-import-not-at-top,unused-import,line-too-long\u001b[0m\u001b[0;34m\u001b[0m\u001b[0;34m\u001b[0m\u001b[0;34m\u001b[0m\u001b[0m\n",
      "\u001b[0;31mImportError\u001b[0m: Traceback (most recent call last):\n  File \"/Library/Frameworks/Python.framework/Versions/3.7/lib/python3.7/site-packages/tensorflow/python/pywrap_tensorflow.py\", line 58, in <module>\n    from tensorflow.python.pywrap_tensorflow_internal import *\n  File \"/Library/Frameworks/Python.framework/Versions/3.7/lib/python3.7/site-packages/tensorflow/python/pywrap_tensorflow_internal.py\", line 28, in <module>\n    _pywrap_tensorflow_internal = swig_import_helper()\n  File \"/Library/Frameworks/Python.framework/Versions/3.7/lib/python3.7/site-packages/tensorflow/python/pywrap_tensorflow_internal.py\", line 24, in swig_import_helper\n    _mod = imp.load_module('_pywrap_tensorflow_internal', fp, pathname, description)\n  File \"/Library/Frameworks/Python.framework/Versions/3.7/lib/python3.7/imp.py\", line 242, in load_module\n    return load_dynamic(name, filename, file)\n  File \"/Library/Frameworks/Python.framework/Versions/3.7/lib/python3.7/imp.py\", line 342, in load_dynamic\n    return _load(spec)\nImportError: dlopen(/Library/Frameworks/Python.framework/Versions/3.7/lib/python3.7/site-packages/tensorflow/python/_pywrap_tensorflow_internal.so, 6): Symbol not found: _clock_gettime\n  Referenced from: /Library/Frameworks/Python.framework/Versions/3.7/lib/python3.7/site-packages/tensorflow/python/../libtensorflow_framework.so (which was built for Mac OS X 10.12)\n  Expected in: /usr/lib/libSystem.B.dylib\n in /Library/Frameworks/Python.framework/Versions/3.7/lib/python3.7/site-packages/tensorflow/python/../libtensorflow_framework.so\n\n\nFailed to load the native TensorFlow runtime.\n\nSee https://www.tensorflow.org/install/errors\n\nfor some common reasons and solutions.  Include the entire stack trace\nabove this error message when asking for help."
     ]
    }
   ],
   "source": [
    "from keras.layers import Dense\n",
    "from keras.models import Sequential\n",
    "from keras.regularizers import l1\n",
    "from sklearn.preprocessing import StandardScaler\n",
    "from sklearn.model_selection import train_test_split"
   ]
  },
  {
   "cell_type": "code",
   "execution_count": null,
   "metadata": {},
   "outputs": [],
   "source": [
    "# X_train = StandardScaler().fit_transform(X_train)"
   ]
  },
  {
   "cell_type": "code",
   "execution_count": null,
   "metadata": {},
   "outputs": [],
   "source": [
    "# X_tr, X_val, y_tr, y_val = train_test_split(X_train, y, random_state = 3)"
   ]
  },
  {
   "cell_type": "code",
   "execution_count": null,
   "metadata": {},
   "outputs": [],
   "source": [
    "# X_tr.shape"
   ]
  },
  {
   "cell_type": "code",
   "execution_count": null,
   "metadata": {},
   "outputs": [],
   "source": [
    "# X_tr"
   ]
  },
  {
   "cell_type": "code",
   "execution_count": null,
   "metadata": {},
   "outputs": [],
   "source": [
    "#model = Sequential()\n",
    "##model.add(Dense(256, activation=\"relu\", input_dim = X_train.shape[1]))\n",
    "#model.add(Dense(1, input_dim = X_train.shape[1], W_regularizer=l1(0.001)))\n",
    "\n",
    "#model.compile(loss = \"mse\", optimizer = \"adam\")"
   ]
  },
  {
   "cell_type": "code",
   "execution_count": null,
   "metadata": {},
   "outputs": [],
   "source": [
    "# model.summary()"
   ]
  },
  {
   "cell_type": "code",
   "execution_count": null,
   "metadata": {},
   "outputs": [],
   "source": [
    "# hist = model.fit(X_tr, y_tr, validation_data = (X_val, y_val))"
   ]
  },
  {
   "cell_type": "code",
   "execution_count": null,
   "metadata": {},
   "outputs": [],
   "source": [
    "# pd.Series(model.predict(X_val)[:,0]).hist()"
   ]
  }
 ],
 "metadata": {
  "kernelspec": {
   "display_name": "Python 3",
   "language": "python",
   "name": "python3"
  },
  "language_info": {
   "codemirror_mode": {
    "name": "ipython",
    "version": 3
   },
   "file_extension": ".py",
   "mimetype": "text/x-python",
   "name": "python",
   "nbconvert_exporter": "python",
   "pygments_lexer": "ipython3",
   "version": "3.7.1"
  }
 },
 "nbformat": 4,
 "nbformat_minor": 2
}
